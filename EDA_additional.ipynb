{
 "cells": [
  {
   "cell_type": "code",
   "execution_count": 2,
   "metadata": {},
   "outputs": [
    {
     "data": {
      "text/plain": [
       "Index(['Unnamed: 0', 'list_id', 'rent_approval_date', 'town', 'block',\n",
       "       'street_name', 'flat_type', 'flat_model', 'floor_area_sqm',\n",
       "       'lease_commence_date', 'latitude', 'longitude', 'subzone',\n",
       "       'planning_area', 'region', 'monthly_rent', 'near_mrt_count',\n",
       "       'nearest_code', 'nearest_mrt_name', 'nearest_open_year',\n",
       "       'nearest_mrt_dist', 'near_mall_count', 'nearest_mall_name',\n",
       "       'nearest_mall_dist', 'near_school_count', 'nearest_school_name',\n",
       "       'nearest_school_dist', 'type_model', 'model_digit', 'type_digit',\n",
       "       'psqm', 'date', 'age'],\n",
       "      dtype='object')"
      ]
     },
     "execution_count": 2,
     "metadata": {},
     "output_type": "execute_result"
    }
   ],
   "source": [
    "import pandas as pd\n",
    "from datetime import datetime\n",
    "import os\n",
    "import plotly.graph_objects as go\n",
    "import plotly.express as px\n",
    "from sklearn.cluster import KMeans\n",
    "from data_processing import clean_data, process_data, min_max_norm, z_norm, generate_features, combined_encoding\n",
    "\n",
    "pd.options.plotting.backend = \"plotly\"\n",
    "\n",
    "DATA_DIR = './data'\n",
    "train = os.path.join(DATA_DIR, 'train.csv')\n",
    "test = os.path.join(DATA_DIR, 'test.csv')\n",
    "\n",
    "train_final = os.path.join(DATA_DIR, 'train_with_mrt_mall_school.csv')\n",
    "\n",
    "train_final_df = pd.read_csv(train_final)\n",
    "train_df, test_df = pd.read_csv(train), pd.read_csv(test)\n",
    "\n",
    "train_df_cleaned = clean_data(train_df)\n",
    "train_df_cleaned = process_data(train_df_cleaned)\n",
    "train_df_cleaned_final = clean_data(train_final_df)\n",
    "train_df_cleaned_final = process_data(train_df_cleaned_final)\n",
    "# test_df_cleaned = clean_data(test_df)\n",
    "# test_df_cleaned = process_data(test_df_cleaned)\n",
    "train_df_cleaned_final.columns"
   ]
  },
  {
   "cell_type": "markdown",
   "metadata": {},
   "source": [
    "## MRT Count and Distance correlation with psqm price"
   ]
  },
  {
   "cell_type": "markdown",
   "metadata": {},
   "source": [
    "### Region level"
   ]
  },
  {
   "cell_type": "code",
   "execution_count": 3,
   "metadata": {},
   "outputs": [
    {
     "data": {
      "application/vnd.plotly.v1+json": {
       "config": {
        "plotlyServerURL": "https://plot.ly"
       },
       "data": [
        {
         "hovertemplate": "region=central region<br>rent_approval_date=%{x}<br>near_mrt_count=%{y}<extra></extra>",
         "legendgroup": "central region",
         "line": {
          "color": "#636efa",
          "dash": "solid"
         },
         "marker": {
          "symbol": "circle"
         },
         "mode": "lines",
         "name": "central region",
         "orientation": "v",
         "showlegend": true,
         "type": "scatter",
         "x": [
          "2021-01",
          "2021-02",
          "2021-03",
          "2021-04",
          "2021-05",
          "2021-06",
          "2021-07",
          "2021-08",
          "2021-09",
          "2021-10",
          "2021-11",
          "2021-12",
          "2022-01",
          "2022-02",
          "2022-03",
          "2022-04",
          "2022-05",
          "2022-06",
          "2022-07",
          "2022-08",
          "2022-09",
          "2022-10",
          "2022-11",
          "2022-12",
          "2023-01",
          "2023-02",
          "2023-03",
          "2023-04",
          "2023-05",
          "2023-06",
          "2023-07"
         ],
         "xaxis": "x",
         "y": [
          0.28374720328880326,
          0.16132941399968811,
          0.201779000822598,
          0.19140824308516843,
          0.3061915177000745,
          0.13427427826454588,
          0.20040089163104718,
          0.22877026034216935,
          0.26862307304064637,
          0.24828558405721543,
          0.1919314852214315,
          0.1330692046116979,
          0.14641092855548773,
          0.19719065587169682,
          0.1320538583953124,
          0.15976335986101373,
          0.14862148376605008,
          0.15686616393266303,
          0.18889086061659505,
          0.15361623685818895,
          0.12415110653185292,
          0.17624387689976145,
          0.13229176929055383,
          0.17557983864596202,
          0.10450215361681858,
          0.16358490268906026,
          -0.0062907685481554294,
          0.18491371844646878,
          0.11771669038257074,
          0.20399410226391945,
          0.13703804116494955
         ],
         "yaxis": "y"
        },
        {
         "hovertemplate": "region=east region<br>rent_approval_date=%{x}<br>near_mrt_count=%{y}<extra></extra>",
         "legendgroup": "east region",
         "line": {
          "color": "#EF553B",
          "dash": "solid"
         },
         "marker": {
          "symbol": "circle"
         },
         "mode": "lines",
         "name": "east region",
         "orientation": "v",
         "showlegend": true,
         "type": "scatter",
         "x": [
          "2021-01",
          "2021-02",
          "2021-03",
          "2021-04",
          "2021-05",
          "2021-06",
          "2021-07",
          "2021-08",
          "2021-09",
          "2021-10",
          "2021-11",
          "2021-12",
          "2022-01",
          "2022-02",
          "2022-03",
          "2022-04",
          "2022-05",
          "2022-06",
          "2022-07",
          "2022-08",
          "2022-09",
          "2022-10",
          "2022-11",
          "2022-12",
          "2023-01",
          "2023-02",
          "2023-03",
          "2023-04",
          "2023-05",
          "2023-06",
          "2023-07"
         ],
         "xaxis": "x",
         "y": [
          0.21071081280022433,
          0.27977812037390576,
          0.18079449728013233,
          0.15777442672132413,
          0.20812098057079026,
          0.18218571712079965,
          0.2080922145567552,
          0.199318489271171,
          0.2753986656425875,
          0.10733402690404234,
          0.17369152177963362,
          0.20335057016747637,
          0.31001143653016494,
          0.1438931216500618,
          0.14085795507743704,
          0.018862241250817733,
          0.10119372605674959,
          0.15510319995433666,
          0.18735274492253617,
          0.09347242609464577,
          0.21398468117205743,
          0.1898451822327395,
          0.2345618003126723,
          0.1515419892342614,
          0.20266258800665435,
          0.12021515919534011,
          0.24116897499264098,
          0.04798317896945248,
          0.12850907481012674,
          0.06782258081656073,
          0.06505051867703243
         ],
         "yaxis": "y"
        },
        {
         "hovertemplate": "region=north region<br>rent_approval_date=%{x}<br>near_mrt_count=%{y}<extra></extra>",
         "legendgroup": "north region",
         "line": {
          "color": "#00cc96",
          "dash": "solid"
         },
         "marker": {
          "symbol": "circle"
         },
         "mode": "lines",
         "name": "north region",
         "orientation": "v",
         "showlegend": true,
         "type": "scatter",
         "x": [
          "2021-01",
          "2021-02",
          "2021-03",
          "2021-04",
          "2021-05",
          "2021-06",
          "2021-07",
          "2021-08",
          "2021-09",
          "2021-10",
          "2021-11",
          "2021-12",
          "2022-01",
          "2022-02",
          "2022-03",
          "2022-04",
          "2022-05",
          "2022-06",
          "2022-07",
          "2022-08",
          "2022-09",
          "2022-10",
          "2022-11",
          "2022-12",
          "2023-01",
          "2023-02",
          "2023-03",
          "2023-04",
          "2023-05",
          "2023-06",
          "2023-07"
         ],
         "xaxis": "x",
         "y": [
          -0.13455864451578975,
          -0.15835039652893668,
          -0.16003998989594245,
          -0.08244870270645144,
          -0.16421683569859355,
          -0.11478515553615291,
          0.07974771778245303,
          -0.13023726869939634,
          -0.20106039978420956,
          -0.06146430552750254,
          -0.048007839341275345,
          -0.1722900988066868,
          -0.13167054162370914,
          -0.16555092309884098,
          0.02429040577244193,
          -0.048849235368400266,
          -0.0034685727810599715,
          -0.1609603445336366,
          0.01738149135746879,
          -0.16856421953015843,
          -0.09793054795506718,
          -0.10627331232056633,
          -0.12447017508522598,
          -0.17950988338057122,
          -0.1916282225588089,
          -0.1387679599903381,
          -0.22813867507120228,
          -0.11574523678671184,
          -0.10033981593890078,
          -0.041214831261090795,
          -0.18031572161285828
         ],
         "yaxis": "y"
        },
        {
         "hovertemplate": "region=north-east region<br>rent_approval_date=%{x}<br>near_mrt_count=%{y}<extra></extra>",
         "legendgroup": "north-east region",
         "line": {
          "color": "#ab63fa",
          "dash": "solid"
         },
         "marker": {
          "symbol": "circle"
         },
         "mode": "lines",
         "name": "north-east region",
         "orientation": "v",
         "showlegend": true,
         "type": "scatter",
         "x": [
          "2021-01",
          "2021-02",
          "2021-03",
          "2021-04",
          "2021-05",
          "2021-06",
          "2021-07",
          "2021-08",
          "2021-09",
          "2021-10",
          "2021-11",
          "2021-12",
          "2022-01",
          "2022-02",
          "2022-03",
          "2022-04",
          "2022-05",
          "2022-06",
          "2022-07",
          "2022-08",
          "2022-09",
          "2022-10",
          "2022-11",
          "2022-12",
          "2023-01",
          "2023-02",
          "2023-03",
          "2023-04",
          "2023-05",
          "2023-06",
          "2023-07"
         ],
         "xaxis": "x",
         "y": [
          0.2781131233106567,
          0.21286372805945167,
          0.27559277943714794,
          0.22965872362820422,
          0.19550886019889596,
          0.22264973822256018,
          0.2781830786532089,
          0.20326739240889125,
          0.12927689975091883,
          0.14550400856509654,
          0.2245206083267171,
          0.25199841478267815,
          0.1455546338990472,
          0.04179502230774594,
          0.07437746411488765,
          0.1480658295898774,
          0.027144552375941846,
          0.024449529394646112,
          0.1636830576235357,
          0.10513656871582036,
          0.10539604874429113,
          0.06472705005303629,
          0.1738154141405015,
          0.09613907834130803,
          0.0035321395491159186,
          -0.017173117508340347,
          0.13947477551730275,
          0.043832316125649466,
          0.09586401372527953,
          0.10642901520117695,
          0.13203064833095152
         ],
         "yaxis": "y"
        },
        {
         "hovertemplate": "region=west region<br>rent_approval_date=%{x}<br>near_mrt_count=%{y}<extra></extra>",
         "legendgroup": "west region",
         "line": {
          "color": "#FFA15A",
          "dash": "solid"
         },
         "marker": {
          "symbol": "circle"
         },
         "mode": "lines",
         "name": "west region",
         "orientation": "v",
         "showlegend": true,
         "type": "scatter",
         "x": [
          "2021-01",
          "2021-02",
          "2021-03",
          "2021-04",
          "2021-05",
          "2021-06",
          "2021-07",
          "2021-08",
          "2021-09",
          "2021-10",
          "2021-11",
          "2021-12",
          "2022-01",
          "2022-02",
          "2022-03",
          "2022-04",
          "2022-05",
          "2022-06",
          "2022-07",
          "2022-08",
          "2022-09",
          "2022-10",
          "2022-11",
          "2022-12",
          "2023-01",
          "2023-02",
          "2023-03",
          "2023-04",
          "2023-05",
          "2023-06",
          "2023-07"
         ],
         "xaxis": "x",
         "y": [
          0.16771335175864993,
          0.291240722616107,
          0.29194539712858264,
          0.18029792040576037,
          0.2896865358702317,
          0.3033550574400975,
          0.18838954795756802,
          0.17177978244611336,
          0.28562114120367976,
          0.19042505486297126,
          0.11820350231697999,
          0.1975279620855337,
          0.1910313462311914,
          0.23026698794285502,
          0.2016994357904249,
          0.21637489774205196,
          0.16483503981116088,
          0.24045611269343425,
          0.27225229121067507,
          0.20614277106359333,
          0.24665081729784735,
          0.10000591694987543,
          0.17670769420637888,
          0.18154385536402978,
          0.19964075012644455,
          0.21981135960064874,
          0.1581490167157155,
          0.08109842201946756,
          0.10506511499983891,
          0.17647444702496176,
          0.17203021282186767
         ],
         "yaxis": "y"
        }
       ],
       "layout": {
        "legend": {
         "title": {
          "text": "region"
         },
         "tracegroupgap": 0
        },
        "margin": {
         "t": 60
        },
        "template": {
         "data": {
          "bar": [
           {
            "error_x": {
             "color": "#2a3f5f"
            },
            "error_y": {
             "color": "#2a3f5f"
            },
            "marker": {
             "line": {
              "color": "#E5ECF6",
              "width": 0.5
             },
             "pattern": {
              "fillmode": "overlay",
              "size": 10,
              "solidity": 0.2
             }
            },
            "type": "bar"
           }
          ],
          "barpolar": [
           {
            "marker": {
             "line": {
              "color": "#E5ECF6",
              "width": 0.5
             },
             "pattern": {
              "fillmode": "overlay",
              "size": 10,
              "solidity": 0.2
             }
            },
            "type": "barpolar"
           }
          ],
          "carpet": [
           {
            "aaxis": {
             "endlinecolor": "#2a3f5f",
             "gridcolor": "white",
             "linecolor": "white",
             "minorgridcolor": "white",
             "startlinecolor": "#2a3f5f"
            },
            "baxis": {
             "endlinecolor": "#2a3f5f",
             "gridcolor": "white",
             "linecolor": "white",
             "minorgridcolor": "white",
             "startlinecolor": "#2a3f5f"
            },
            "type": "carpet"
           }
          ],
          "choropleth": [
           {
            "colorbar": {
             "outlinewidth": 0,
             "ticks": ""
            },
            "type": "choropleth"
           }
          ],
          "contour": [
           {
            "colorbar": {
             "outlinewidth": 0,
             "ticks": ""
            },
            "colorscale": [
             [
              0,
              "#0d0887"
             ],
             [
              0.1111111111111111,
              "#46039f"
             ],
             [
              0.2222222222222222,
              "#7201a8"
             ],
             [
              0.3333333333333333,
              "#9c179e"
             ],
             [
              0.4444444444444444,
              "#bd3786"
             ],
             [
              0.5555555555555556,
              "#d8576b"
             ],
             [
              0.6666666666666666,
              "#ed7953"
             ],
             [
              0.7777777777777778,
              "#fb9f3a"
             ],
             [
              0.8888888888888888,
              "#fdca26"
             ],
             [
              1,
              "#f0f921"
             ]
            ],
            "type": "contour"
           }
          ],
          "contourcarpet": [
           {
            "colorbar": {
             "outlinewidth": 0,
             "ticks": ""
            },
            "type": "contourcarpet"
           }
          ],
          "heatmap": [
           {
            "colorbar": {
             "outlinewidth": 0,
             "ticks": ""
            },
            "colorscale": [
             [
              0,
              "#0d0887"
             ],
             [
              0.1111111111111111,
              "#46039f"
             ],
             [
              0.2222222222222222,
              "#7201a8"
             ],
             [
              0.3333333333333333,
              "#9c179e"
             ],
             [
              0.4444444444444444,
              "#bd3786"
             ],
             [
              0.5555555555555556,
              "#d8576b"
             ],
             [
              0.6666666666666666,
              "#ed7953"
             ],
             [
              0.7777777777777778,
              "#fb9f3a"
             ],
             [
              0.8888888888888888,
              "#fdca26"
             ],
             [
              1,
              "#f0f921"
             ]
            ],
            "type": "heatmap"
           }
          ],
          "heatmapgl": [
           {
            "colorbar": {
             "outlinewidth": 0,
             "ticks": ""
            },
            "colorscale": [
             [
              0,
              "#0d0887"
             ],
             [
              0.1111111111111111,
              "#46039f"
             ],
             [
              0.2222222222222222,
              "#7201a8"
             ],
             [
              0.3333333333333333,
              "#9c179e"
             ],
             [
              0.4444444444444444,
              "#bd3786"
             ],
             [
              0.5555555555555556,
              "#d8576b"
             ],
             [
              0.6666666666666666,
              "#ed7953"
             ],
             [
              0.7777777777777778,
              "#fb9f3a"
             ],
             [
              0.8888888888888888,
              "#fdca26"
             ],
             [
              1,
              "#f0f921"
             ]
            ],
            "type": "heatmapgl"
           }
          ],
          "histogram": [
           {
            "marker": {
             "pattern": {
              "fillmode": "overlay",
              "size": 10,
              "solidity": 0.2
             }
            },
            "type": "histogram"
           }
          ],
          "histogram2d": [
           {
            "colorbar": {
             "outlinewidth": 0,
             "ticks": ""
            },
            "colorscale": [
             [
              0,
              "#0d0887"
             ],
             [
              0.1111111111111111,
              "#46039f"
             ],
             [
              0.2222222222222222,
              "#7201a8"
             ],
             [
              0.3333333333333333,
              "#9c179e"
             ],
             [
              0.4444444444444444,
              "#bd3786"
             ],
             [
              0.5555555555555556,
              "#d8576b"
             ],
             [
              0.6666666666666666,
              "#ed7953"
             ],
             [
              0.7777777777777778,
              "#fb9f3a"
             ],
             [
              0.8888888888888888,
              "#fdca26"
             ],
             [
              1,
              "#f0f921"
             ]
            ],
            "type": "histogram2d"
           }
          ],
          "histogram2dcontour": [
           {
            "colorbar": {
             "outlinewidth": 0,
             "ticks": ""
            },
            "colorscale": [
             [
              0,
              "#0d0887"
             ],
             [
              0.1111111111111111,
              "#46039f"
             ],
             [
              0.2222222222222222,
              "#7201a8"
             ],
             [
              0.3333333333333333,
              "#9c179e"
             ],
             [
              0.4444444444444444,
              "#bd3786"
             ],
             [
              0.5555555555555556,
              "#d8576b"
             ],
             [
              0.6666666666666666,
              "#ed7953"
             ],
             [
              0.7777777777777778,
              "#fb9f3a"
             ],
             [
              0.8888888888888888,
              "#fdca26"
             ],
             [
              1,
              "#f0f921"
             ]
            ],
            "type": "histogram2dcontour"
           }
          ],
          "mesh3d": [
           {
            "colorbar": {
             "outlinewidth": 0,
             "ticks": ""
            },
            "type": "mesh3d"
           }
          ],
          "parcoords": [
           {
            "line": {
             "colorbar": {
              "outlinewidth": 0,
              "ticks": ""
             }
            },
            "type": "parcoords"
           }
          ],
          "pie": [
           {
            "automargin": true,
            "type": "pie"
           }
          ],
          "scatter": [
           {
            "fillpattern": {
             "fillmode": "overlay",
             "size": 10,
             "solidity": 0.2
            },
            "type": "scatter"
           }
          ],
          "scatter3d": [
           {
            "line": {
             "colorbar": {
              "outlinewidth": 0,
              "ticks": ""
             }
            },
            "marker": {
             "colorbar": {
              "outlinewidth": 0,
              "ticks": ""
             }
            },
            "type": "scatter3d"
           }
          ],
          "scattercarpet": [
           {
            "marker": {
             "colorbar": {
              "outlinewidth": 0,
              "ticks": ""
             }
            },
            "type": "scattercarpet"
           }
          ],
          "scattergeo": [
           {
            "marker": {
             "colorbar": {
              "outlinewidth": 0,
              "ticks": ""
             }
            },
            "type": "scattergeo"
           }
          ],
          "scattergl": [
           {
            "marker": {
             "colorbar": {
              "outlinewidth": 0,
              "ticks": ""
             }
            },
            "type": "scattergl"
           }
          ],
          "scattermapbox": [
           {
            "marker": {
             "colorbar": {
              "outlinewidth": 0,
              "ticks": ""
             }
            },
            "type": "scattermapbox"
           }
          ],
          "scatterpolar": [
           {
            "marker": {
             "colorbar": {
              "outlinewidth": 0,
              "ticks": ""
             }
            },
            "type": "scatterpolar"
           }
          ],
          "scatterpolargl": [
           {
            "marker": {
             "colorbar": {
              "outlinewidth": 0,
              "ticks": ""
             }
            },
            "type": "scatterpolargl"
           }
          ],
          "scatterternary": [
           {
            "marker": {
             "colorbar": {
              "outlinewidth": 0,
              "ticks": ""
             }
            },
            "type": "scatterternary"
           }
          ],
          "surface": [
           {
            "colorbar": {
             "outlinewidth": 0,
             "ticks": ""
            },
            "colorscale": [
             [
              0,
              "#0d0887"
             ],
             [
              0.1111111111111111,
              "#46039f"
             ],
             [
              0.2222222222222222,
              "#7201a8"
             ],
             [
              0.3333333333333333,
              "#9c179e"
             ],
             [
              0.4444444444444444,
              "#bd3786"
             ],
             [
              0.5555555555555556,
              "#d8576b"
             ],
             [
              0.6666666666666666,
              "#ed7953"
             ],
             [
              0.7777777777777778,
              "#fb9f3a"
             ],
             [
              0.8888888888888888,
              "#fdca26"
             ],
             [
              1,
              "#f0f921"
             ]
            ],
            "type": "surface"
           }
          ],
          "table": [
           {
            "cells": {
             "fill": {
              "color": "#EBF0F8"
             },
             "line": {
              "color": "white"
             }
            },
            "header": {
             "fill": {
              "color": "#C8D4E3"
             },
             "line": {
              "color": "white"
             }
            },
            "type": "table"
           }
          ]
         },
         "layout": {
          "annotationdefaults": {
           "arrowcolor": "#2a3f5f",
           "arrowhead": 0,
           "arrowwidth": 1
          },
          "autotypenumbers": "strict",
          "coloraxis": {
           "colorbar": {
            "outlinewidth": 0,
            "ticks": ""
           }
          },
          "colorscale": {
           "diverging": [
            [
             0,
             "#8e0152"
            ],
            [
             0.1,
             "#c51b7d"
            ],
            [
             0.2,
             "#de77ae"
            ],
            [
             0.3,
             "#f1b6da"
            ],
            [
             0.4,
             "#fde0ef"
            ],
            [
             0.5,
             "#f7f7f7"
            ],
            [
             0.6,
             "#e6f5d0"
            ],
            [
             0.7,
             "#b8e186"
            ],
            [
             0.8,
             "#7fbc41"
            ],
            [
             0.9,
             "#4d9221"
            ],
            [
             1,
             "#276419"
            ]
           ],
           "sequential": [
            [
             0,
             "#0d0887"
            ],
            [
             0.1111111111111111,
             "#46039f"
            ],
            [
             0.2222222222222222,
             "#7201a8"
            ],
            [
             0.3333333333333333,
             "#9c179e"
            ],
            [
             0.4444444444444444,
             "#bd3786"
            ],
            [
             0.5555555555555556,
             "#d8576b"
            ],
            [
             0.6666666666666666,
             "#ed7953"
            ],
            [
             0.7777777777777778,
             "#fb9f3a"
            ],
            [
             0.8888888888888888,
             "#fdca26"
            ],
            [
             1,
             "#f0f921"
            ]
           ],
           "sequentialminus": [
            [
             0,
             "#0d0887"
            ],
            [
             0.1111111111111111,
             "#46039f"
            ],
            [
             0.2222222222222222,
             "#7201a8"
            ],
            [
             0.3333333333333333,
             "#9c179e"
            ],
            [
             0.4444444444444444,
             "#bd3786"
            ],
            [
             0.5555555555555556,
             "#d8576b"
            ],
            [
             0.6666666666666666,
             "#ed7953"
            ],
            [
             0.7777777777777778,
             "#fb9f3a"
            ],
            [
             0.8888888888888888,
             "#fdca26"
            ],
            [
             1,
             "#f0f921"
            ]
           ]
          },
          "colorway": [
           "#636efa",
           "#EF553B",
           "#00cc96",
           "#ab63fa",
           "#FFA15A",
           "#19d3f3",
           "#FF6692",
           "#B6E880",
           "#FF97FF",
           "#FECB52"
          ],
          "font": {
           "color": "#2a3f5f"
          },
          "geo": {
           "bgcolor": "white",
           "lakecolor": "white",
           "landcolor": "#E5ECF6",
           "showlakes": true,
           "showland": true,
           "subunitcolor": "white"
          },
          "hoverlabel": {
           "align": "left"
          },
          "hovermode": "closest",
          "mapbox": {
           "style": "light"
          },
          "paper_bgcolor": "white",
          "plot_bgcolor": "#E5ECF6",
          "polar": {
           "angularaxis": {
            "gridcolor": "white",
            "linecolor": "white",
            "ticks": ""
           },
           "bgcolor": "#E5ECF6",
           "radialaxis": {
            "gridcolor": "white",
            "linecolor": "white",
            "ticks": ""
           }
          },
          "scene": {
           "xaxis": {
            "backgroundcolor": "#E5ECF6",
            "gridcolor": "white",
            "gridwidth": 2,
            "linecolor": "white",
            "showbackground": true,
            "ticks": "",
            "zerolinecolor": "white"
           },
           "yaxis": {
            "backgroundcolor": "#E5ECF6",
            "gridcolor": "white",
            "gridwidth": 2,
            "linecolor": "white",
            "showbackground": true,
            "ticks": "",
            "zerolinecolor": "white"
           },
           "zaxis": {
            "backgroundcolor": "#E5ECF6",
            "gridcolor": "white",
            "gridwidth": 2,
            "linecolor": "white",
            "showbackground": true,
            "ticks": "",
            "zerolinecolor": "white"
           }
          },
          "shapedefaults": {
           "line": {
            "color": "#2a3f5f"
           }
          },
          "ternary": {
           "aaxis": {
            "gridcolor": "white",
            "linecolor": "white",
            "ticks": ""
           },
           "baxis": {
            "gridcolor": "white",
            "linecolor": "white",
            "ticks": ""
           },
           "bgcolor": "#E5ECF6",
           "caxis": {
            "gridcolor": "white",
            "linecolor": "white",
            "ticks": ""
           }
          },
          "title": {
           "x": 0.05
          },
          "xaxis": {
           "automargin": true,
           "gridcolor": "white",
           "linecolor": "white",
           "ticks": "",
           "title": {
            "standoff": 15
           },
           "zerolinecolor": "white",
           "zerolinewidth": 2
          },
          "yaxis": {
           "automargin": true,
           "gridcolor": "white",
           "linecolor": "white",
           "ticks": "",
           "title": {
            "standoff": 15
           },
           "zerolinecolor": "white",
           "zerolinewidth": 2
          }
         }
        },
        "xaxis": {
         "anchor": "y",
         "domain": [
          0,
          1
         ],
         "title": {
          "text": "rent_approval_date"
         }
        },
        "yaxis": {
         "anchor": "x",
         "domain": [
          0,
          1
         ],
         "title": {
          "text": "near_mrt_count"
         }
        }
       }
      }
     },
     "metadata": {},
     "output_type": "display_data"
    }
   ],
   "source": [
    "train_df_cleaned_final.groupby(['rent_approval_date', 'region'])[['psqm', 'near_mrt_count']].corr().iloc[0::2,-1].reset_index().plot.line(x='rent_approval_date', y='near_mrt_count', color='region')"
   ]
  },
  {
   "cell_type": "code",
   "execution_count": 4,
   "metadata": {},
   "outputs": [
    {
     "data": {
      "application/vnd.plotly.v1+json": {
       "config": {
        "plotlyServerURL": "https://plot.ly"
       },
       "data": [
        {
         "hovertemplate": "region=central region<br>rent_approval_date=%{x}<br>nearest_mrt_dist=%{y}<extra></extra>",
         "legendgroup": "central region",
         "line": {
          "color": "#636efa",
          "dash": "solid"
         },
         "marker": {
          "symbol": "circle"
         },
         "mode": "lines",
         "name": "central region",
         "orientation": "v",
         "showlegend": true,
         "type": "scatter",
         "x": [
          "2021-01",
          "2021-02",
          "2021-03",
          "2021-04",
          "2021-05",
          "2021-06",
          "2021-07",
          "2021-08",
          "2021-09",
          "2021-10",
          "2021-11",
          "2021-12",
          "2022-01",
          "2022-02",
          "2022-03",
          "2022-04",
          "2022-05",
          "2022-06",
          "2022-07",
          "2022-08",
          "2022-09",
          "2022-10",
          "2022-11",
          "2022-12",
          "2023-01",
          "2023-02",
          "2023-03",
          "2023-04",
          "2023-05",
          "2023-06",
          "2023-07"
         ],
         "xaxis": "x",
         "y": [
          -0.20871671167938569,
          -0.07842501287444975,
          -0.10574047628696481,
          -0.1456868708756982,
          -0.14362737982690352,
          -0.14262573601041506,
          -0.13221963089179917,
          -0.2323634442657003,
          -0.21774970813278768,
          -0.15710261664076303,
          -0.11668212467138957,
          -0.11355233399429106,
          -0.09479852007077286,
          -0.16531205352831937,
          -0.12978569171016044,
          -0.10384037563790373,
          -0.07588568510868932,
          -0.09756310802612854,
          -0.1331450478103378,
          -0.13056295001929583,
          -0.13353649738298942,
          -0.08618478736663104,
          -0.07829227850190427,
          -0.11121098314057595,
          -0.07466964038026586,
          -0.09054272985042953,
          -0.060033511993713574,
          -0.020724384115016984,
          -0.04210440259571734,
          -0.16406330626154092,
          -0.0627713712090652
         ],
         "yaxis": "y"
        },
        {
         "hovertemplate": "region=east region<br>rent_approval_date=%{x}<br>nearest_mrt_dist=%{y}<extra></extra>",
         "legendgroup": "east region",
         "line": {
          "color": "#EF553B",
          "dash": "solid"
         },
         "marker": {
          "symbol": "circle"
         },
         "mode": "lines",
         "name": "east region",
         "orientation": "v",
         "showlegend": true,
         "type": "scatter",
         "x": [
          "2021-01",
          "2021-02",
          "2021-03",
          "2021-04",
          "2021-05",
          "2021-06",
          "2021-07",
          "2021-08",
          "2021-09",
          "2021-10",
          "2021-11",
          "2021-12",
          "2022-01",
          "2022-02",
          "2022-03",
          "2022-04",
          "2022-05",
          "2022-06",
          "2022-07",
          "2022-08",
          "2022-09",
          "2022-10",
          "2022-11",
          "2022-12",
          "2023-01",
          "2023-02",
          "2023-03",
          "2023-04",
          "2023-05",
          "2023-06",
          "2023-07"
         ],
         "xaxis": "x",
         "y": [
          -0.28230640764227694,
          -0.3238772311861329,
          -0.3393984585603731,
          -0.3027633669040244,
          -0.28537742203990624,
          -0.2617073914248406,
          -0.2609255755942674,
          -0.27552234781578844,
          -0.265889418953401,
          -0.2425174339756698,
          -0.277804352230753,
          -0.2542281187332881,
          -0.33020127495078694,
          -0.30990638946227655,
          -0.24474566530725597,
          -0.18200566279066654,
          -0.2123751485849924,
          -0.19552500581047508,
          -0.2333899871920912,
          -0.22880321940429174,
          -0.0865148462954433,
          -0.2842673245568759,
          -0.21716884602869788,
          -0.1122851574040464,
          -0.2368962399282109,
          -0.19687609392024208,
          -0.22027822476126896,
          -0.17539560862379805,
          -0.20938242187040818,
          -0.16092436835679874,
          -0.2200168526208649
         ],
         "yaxis": "y"
        },
        {
         "hovertemplate": "region=north region<br>rent_approval_date=%{x}<br>nearest_mrt_dist=%{y}<extra></extra>",
         "legendgroup": "north region",
         "line": {
          "color": "#00cc96",
          "dash": "solid"
         },
         "marker": {
          "symbol": "circle"
         },
         "mode": "lines",
         "name": "north region",
         "orientation": "v",
         "showlegend": true,
         "type": "scatter",
         "x": [
          "2021-01",
          "2021-02",
          "2021-03",
          "2021-04",
          "2021-05",
          "2021-06",
          "2021-07",
          "2021-08",
          "2021-09",
          "2021-10",
          "2021-11",
          "2021-12",
          "2022-01",
          "2022-02",
          "2022-03",
          "2022-04",
          "2022-05",
          "2022-06",
          "2022-07",
          "2022-08",
          "2022-09",
          "2022-10",
          "2022-11",
          "2022-12",
          "2023-01",
          "2023-02",
          "2023-03",
          "2023-04",
          "2023-05",
          "2023-06",
          "2023-07"
         ],
         "xaxis": "x",
         "y": [
          -0.0016667797539295793,
          0.02031141619704541,
          0.07734296791698403,
          0.010906603787910122,
          0.027363437717841207,
          0.00500568183642527,
          -0.08537768102691397,
          0.060327311435423144,
          0.014906983182988304,
          0.034798312178376645,
          -0.04618659732818435,
          0.09670730014510467,
          -0.04942353170904769,
          -0.015207495673948966,
          -0.027053352559195713,
          0.16506996379640618,
          -0.03234171136881222,
          -0.05983521505374612,
          -0.08023225626141005,
          0.15124665153472344,
          0.06162126067260681,
          0.042208455618715224,
          -0.055783949868840894,
          0.11105577604953557,
          0.10614789205702585,
          0.1291926946119128,
          0.1980195801534111,
          0.05093858584438635,
          0.08198798864461129,
          -0.043764292473297994,
          0.09016828657322944
         ],
         "yaxis": "y"
        },
        {
         "hovertemplate": "region=north-east region<br>rent_approval_date=%{x}<br>nearest_mrt_dist=%{y}<extra></extra>",
         "legendgroup": "north-east region",
         "line": {
          "color": "#ab63fa",
          "dash": "solid"
         },
         "marker": {
          "symbol": "circle"
         },
         "mode": "lines",
         "name": "north-east region",
         "orientation": "v",
         "showlegend": true,
         "type": "scatter",
         "x": [
          "2021-01",
          "2021-02",
          "2021-03",
          "2021-04",
          "2021-05",
          "2021-06",
          "2021-07",
          "2021-08",
          "2021-09",
          "2021-10",
          "2021-11",
          "2021-12",
          "2022-01",
          "2022-02",
          "2022-03",
          "2022-04",
          "2022-05",
          "2022-06",
          "2022-07",
          "2022-08",
          "2022-09",
          "2022-10",
          "2022-11",
          "2022-12",
          "2023-01",
          "2023-02",
          "2023-03",
          "2023-04",
          "2023-05",
          "2023-06",
          "2023-07"
         ],
         "xaxis": "x",
         "y": [
          -0.22055831613066443,
          -0.1801249831226344,
          -0.23163352060682593,
          -0.20982720986495657,
          -0.25351590569367766,
          -0.16768730137537743,
          -0.2618299259527966,
          -0.17645068899368893,
          -0.10575310600745544,
          -0.10565677832712388,
          -0.2813156470193831,
          -0.18611141388045904,
          -0.19093663409282027,
          -0.06149042387882785,
          -0.03897682196875846,
          -0.0908892492746603,
          -0.024373404370319107,
          -0.0573501219748219,
          -0.10039496526510737,
          -0.13739622803287296,
          -0.11282258275128414,
          -0.12247174007634166,
          -0.12365818017577034,
          -0.06131579467781805,
          0.01604798612322431,
          -0.029845607163893825,
          -0.10064927907544459,
          -0.07962548265588576,
          -0.05348737273267435,
          -0.12256795553290185,
          -0.09665740305948864
         ],
         "yaxis": "y"
        },
        {
         "hovertemplate": "region=west region<br>rent_approval_date=%{x}<br>nearest_mrt_dist=%{y}<extra></extra>",
         "legendgroup": "west region",
         "line": {
          "color": "#FFA15A",
          "dash": "solid"
         },
         "marker": {
          "symbol": "circle"
         },
         "mode": "lines",
         "name": "west region",
         "orientation": "v",
         "showlegend": true,
         "type": "scatter",
         "x": [
          "2021-01",
          "2021-02",
          "2021-03",
          "2021-04",
          "2021-05",
          "2021-06",
          "2021-07",
          "2021-08",
          "2021-09",
          "2021-10",
          "2021-11",
          "2021-12",
          "2022-01",
          "2022-02",
          "2022-03",
          "2022-04",
          "2022-05",
          "2022-06",
          "2022-07",
          "2022-08",
          "2022-09",
          "2022-10",
          "2022-11",
          "2022-12",
          "2023-01",
          "2023-02",
          "2023-03",
          "2023-04",
          "2023-05",
          "2023-06",
          "2023-07"
         ],
         "xaxis": "x",
         "y": [
          -0.06248910618000613,
          -0.20893303793269036,
          -0.15611696425024718,
          -0.06118988457927901,
          -0.1927281723500141,
          -0.1479522455436254,
          -0.0846832497094541,
          -0.07598195834606068,
          -0.14972343526648965,
          -0.08537151939977551,
          -0.005772846320165866,
          -0.12143704393980931,
          -0.0549920152905909,
          -0.13432135504052087,
          -0.1262496582302121,
          -0.1419322433739315,
          -0.12811914578663028,
          -0.11529474781308385,
          -0.14251566588638737,
          -0.04953144249806855,
          -0.09418261810163271,
          -0.056370269755076606,
          -0.06246782510765443,
          -0.08862906657129065,
          -0.08526094977902059,
          -0.13051259569685003,
          -0.13771953734249584,
          0.0006919782149738402,
          -0.08795253921999889,
          -0.041613922626749865,
          -0.10543832045453196
         ],
         "yaxis": "y"
        }
       ],
       "layout": {
        "legend": {
         "title": {
          "text": "region"
         },
         "tracegroupgap": 0
        },
        "margin": {
         "t": 60
        },
        "template": {
         "data": {
          "bar": [
           {
            "error_x": {
             "color": "#2a3f5f"
            },
            "error_y": {
             "color": "#2a3f5f"
            },
            "marker": {
             "line": {
              "color": "#E5ECF6",
              "width": 0.5
             },
             "pattern": {
              "fillmode": "overlay",
              "size": 10,
              "solidity": 0.2
             }
            },
            "type": "bar"
           }
          ],
          "barpolar": [
           {
            "marker": {
             "line": {
              "color": "#E5ECF6",
              "width": 0.5
             },
             "pattern": {
              "fillmode": "overlay",
              "size": 10,
              "solidity": 0.2
             }
            },
            "type": "barpolar"
           }
          ],
          "carpet": [
           {
            "aaxis": {
             "endlinecolor": "#2a3f5f",
             "gridcolor": "white",
             "linecolor": "white",
             "minorgridcolor": "white",
             "startlinecolor": "#2a3f5f"
            },
            "baxis": {
             "endlinecolor": "#2a3f5f",
             "gridcolor": "white",
             "linecolor": "white",
             "minorgridcolor": "white",
             "startlinecolor": "#2a3f5f"
            },
            "type": "carpet"
           }
          ],
          "choropleth": [
           {
            "colorbar": {
             "outlinewidth": 0,
             "ticks": ""
            },
            "type": "choropleth"
           }
          ],
          "contour": [
           {
            "colorbar": {
             "outlinewidth": 0,
             "ticks": ""
            },
            "colorscale": [
             [
              0,
              "#0d0887"
             ],
             [
              0.1111111111111111,
              "#46039f"
             ],
             [
              0.2222222222222222,
              "#7201a8"
             ],
             [
              0.3333333333333333,
              "#9c179e"
             ],
             [
              0.4444444444444444,
              "#bd3786"
             ],
             [
              0.5555555555555556,
              "#d8576b"
             ],
             [
              0.6666666666666666,
              "#ed7953"
             ],
             [
              0.7777777777777778,
              "#fb9f3a"
             ],
             [
              0.8888888888888888,
              "#fdca26"
             ],
             [
              1,
              "#f0f921"
             ]
            ],
            "type": "contour"
           }
          ],
          "contourcarpet": [
           {
            "colorbar": {
             "outlinewidth": 0,
             "ticks": ""
            },
            "type": "contourcarpet"
           }
          ],
          "heatmap": [
           {
            "colorbar": {
             "outlinewidth": 0,
             "ticks": ""
            },
            "colorscale": [
             [
              0,
              "#0d0887"
             ],
             [
              0.1111111111111111,
              "#46039f"
             ],
             [
              0.2222222222222222,
              "#7201a8"
             ],
             [
              0.3333333333333333,
              "#9c179e"
             ],
             [
              0.4444444444444444,
              "#bd3786"
             ],
             [
              0.5555555555555556,
              "#d8576b"
             ],
             [
              0.6666666666666666,
              "#ed7953"
             ],
             [
              0.7777777777777778,
              "#fb9f3a"
             ],
             [
              0.8888888888888888,
              "#fdca26"
             ],
             [
              1,
              "#f0f921"
             ]
            ],
            "type": "heatmap"
           }
          ],
          "heatmapgl": [
           {
            "colorbar": {
             "outlinewidth": 0,
             "ticks": ""
            },
            "colorscale": [
             [
              0,
              "#0d0887"
             ],
             [
              0.1111111111111111,
              "#46039f"
             ],
             [
              0.2222222222222222,
              "#7201a8"
             ],
             [
              0.3333333333333333,
              "#9c179e"
             ],
             [
              0.4444444444444444,
              "#bd3786"
             ],
             [
              0.5555555555555556,
              "#d8576b"
             ],
             [
              0.6666666666666666,
              "#ed7953"
             ],
             [
              0.7777777777777778,
              "#fb9f3a"
             ],
             [
              0.8888888888888888,
              "#fdca26"
             ],
             [
              1,
              "#f0f921"
             ]
            ],
            "type": "heatmapgl"
           }
          ],
          "histogram": [
           {
            "marker": {
             "pattern": {
              "fillmode": "overlay",
              "size": 10,
              "solidity": 0.2
             }
            },
            "type": "histogram"
           }
          ],
          "histogram2d": [
           {
            "colorbar": {
             "outlinewidth": 0,
             "ticks": ""
            },
            "colorscale": [
             [
              0,
              "#0d0887"
             ],
             [
              0.1111111111111111,
              "#46039f"
             ],
             [
              0.2222222222222222,
              "#7201a8"
             ],
             [
              0.3333333333333333,
              "#9c179e"
             ],
             [
              0.4444444444444444,
              "#bd3786"
             ],
             [
              0.5555555555555556,
              "#d8576b"
             ],
             [
              0.6666666666666666,
              "#ed7953"
             ],
             [
              0.7777777777777778,
              "#fb9f3a"
             ],
             [
              0.8888888888888888,
              "#fdca26"
             ],
             [
              1,
              "#f0f921"
             ]
            ],
            "type": "histogram2d"
           }
          ],
          "histogram2dcontour": [
           {
            "colorbar": {
             "outlinewidth": 0,
             "ticks": ""
            },
            "colorscale": [
             [
              0,
              "#0d0887"
             ],
             [
              0.1111111111111111,
              "#46039f"
             ],
             [
              0.2222222222222222,
              "#7201a8"
             ],
             [
              0.3333333333333333,
              "#9c179e"
             ],
             [
              0.4444444444444444,
              "#bd3786"
             ],
             [
              0.5555555555555556,
              "#d8576b"
             ],
             [
              0.6666666666666666,
              "#ed7953"
             ],
             [
              0.7777777777777778,
              "#fb9f3a"
             ],
             [
              0.8888888888888888,
              "#fdca26"
             ],
             [
              1,
              "#f0f921"
             ]
            ],
            "type": "histogram2dcontour"
           }
          ],
          "mesh3d": [
           {
            "colorbar": {
             "outlinewidth": 0,
             "ticks": ""
            },
            "type": "mesh3d"
           }
          ],
          "parcoords": [
           {
            "line": {
             "colorbar": {
              "outlinewidth": 0,
              "ticks": ""
             }
            },
            "type": "parcoords"
           }
          ],
          "pie": [
           {
            "automargin": true,
            "type": "pie"
           }
          ],
          "scatter": [
           {
            "fillpattern": {
             "fillmode": "overlay",
             "size": 10,
             "solidity": 0.2
            },
            "type": "scatter"
           }
          ],
          "scatter3d": [
           {
            "line": {
             "colorbar": {
              "outlinewidth": 0,
              "ticks": ""
             }
            },
            "marker": {
             "colorbar": {
              "outlinewidth": 0,
              "ticks": ""
             }
            },
            "type": "scatter3d"
           }
          ],
          "scattercarpet": [
           {
            "marker": {
             "colorbar": {
              "outlinewidth": 0,
              "ticks": ""
             }
            },
            "type": "scattercarpet"
           }
          ],
          "scattergeo": [
           {
            "marker": {
             "colorbar": {
              "outlinewidth": 0,
              "ticks": ""
             }
            },
            "type": "scattergeo"
           }
          ],
          "scattergl": [
           {
            "marker": {
             "colorbar": {
              "outlinewidth": 0,
              "ticks": ""
             }
            },
            "type": "scattergl"
           }
          ],
          "scattermapbox": [
           {
            "marker": {
             "colorbar": {
              "outlinewidth": 0,
              "ticks": ""
             }
            },
            "type": "scattermapbox"
           }
          ],
          "scatterpolar": [
           {
            "marker": {
             "colorbar": {
              "outlinewidth": 0,
              "ticks": ""
             }
            },
            "type": "scatterpolar"
           }
          ],
          "scatterpolargl": [
           {
            "marker": {
             "colorbar": {
              "outlinewidth": 0,
              "ticks": ""
             }
            },
            "type": "scatterpolargl"
           }
          ],
          "scatterternary": [
           {
            "marker": {
             "colorbar": {
              "outlinewidth": 0,
              "ticks": ""
             }
            },
            "type": "scatterternary"
           }
          ],
          "surface": [
           {
            "colorbar": {
             "outlinewidth": 0,
             "ticks": ""
            },
            "colorscale": [
             [
              0,
              "#0d0887"
             ],
             [
              0.1111111111111111,
              "#46039f"
             ],
             [
              0.2222222222222222,
              "#7201a8"
             ],
             [
              0.3333333333333333,
              "#9c179e"
             ],
             [
              0.4444444444444444,
              "#bd3786"
             ],
             [
              0.5555555555555556,
              "#d8576b"
             ],
             [
              0.6666666666666666,
              "#ed7953"
             ],
             [
              0.7777777777777778,
              "#fb9f3a"
             ],
             [
              0.8888888888888888,
              "#fdca26"
             ],
             [
              1,
              "#f0f921"
             ]
            ],
            "type": "surface"
           }
          ],
          "table": [
           {
            "cells": {
             "fill": {
              "color": "#EBF0F8"
             },
             "line": {
              "color": "white"
             }
            },
            "header": {
             "fill": {
              "color": "#C8D4E3"
             },
             "line": {
              "color": "white"
             }
            },
            "type": "table"
           }
          ]
         },
         "layout": {
          "annotationdefaults": {
           "arrowcolor": "#2a3f5f",
           "arrowhead": 0,
           "arrowwidth": 1
          },
          "autotypenumbers": "strict",
          "coloraxis": {
           "colorbar": {
            "outlinewidth": 0,
            "ticks": ""
           }
          },
          "colorscale": {
           "diverging": [
            [
             0,
             "#8e0152"
            ],
            [
             0.1,
             "#c51b7d"
            ],
            [
             0.2,
             "#de77ae"
            ],
            [
             0.3,
             "#f1b6da"
            ],
            [
             0.4,
             "#fde0ef"
            ],
            [
             0.5,
             "#f7f7f7"
            ],
            [
             0.6,
             "#e6f5d0"
            ],
            [
             0.7,
             "#b8e186"
            ],
            [
             0.8,
             "#7fbc41"
            ],
            [
             0.9,
             "#4d9221"
            ],
            [
             1,
             "#276419"
            ]
           ],
           "sequential": [
            [
             0,
             "#0d0887"
            ],
            [
             0.1111111111111111,
             "#46039f"
            ],
            [
             0.2222222222222222,
             "#7201a8"
            ],
            [
             0.3333333333333333,
             "#9c179e"
            ],
            [
             0.4444444444444444,
             "#bd3786"
            ],
            [
             0.5555555555555556,
             "#d8576b"
            ],
            [
             0.6666666666666666,
             "#ed7953"
            ],
            [
             0.7777777777777778,
             "#fb9f3a"
            ],
            [
             0.8888888888888888,
             "#fdca26"
            ],
            [
             1,
             "#f0f921"
            ]
           ],
           "sequentialminus": [
            [
             0,
             "#0d0887"
            ],
            [
             0.1111111111111111,
             "#46039f"
            ],
            [
             0.2222222222222222,
             "#7201a8"
            ],
            [
             0.3333333333333333,
             "#9c179e"
            ],
            [
             0.4444444444444444,
             "#bd3786"
            ],
            [
             0.5555555555555556,
             "#d8576b"
            ],
            [
             0.6666666666666666,
             "#ed7953"
            ],
            [
             0.7777777777777778,
             "#fb9f3a"
            ],
            [
             0.8888888888888888,
             "#fdca26"
            ],
            [
             1,
             "#f0f921"
            ]
           ]
          },
          "colorway": [
           "#636efa",
           "#EF553B",
           "#00cc96",
           "#ab63fa",
           "#FFA15A",
           "#19d3f3",
           "#FF6692",
           "#B6E880",
           "#FF97FF",
           "#FECB52"
          ],
          "font": {
           "color": "#2a3f5f"
          },
          "geo": {
           "bgcolor": "white",
           "lakecolor": "white",
           "landcolor": "#E5ECF6",
           "showlakes": true,
           "showland": true,
           "subunitcolor": "white"
          },
          "hoverlabel": {
           "align": "left"
          },
          "hovermode": "closest",
          "mapbox": {
           "style": "light"
          },
          "paper_bgcolor": "white",
          "plot_bgcolor": "#E5ECF6",
          "polar": {
           "angularaxis": {
            "gridcolor": "white",
            "linecolor": "white",
            "ticks": ""
           },
           "bgcolor": "#E5ECF6",
           "radialaxis": {
            "gridcolor": "white",
            "linecolor": "white",
            "ticks": ""
           }
          },
          "scene": {
           "xaxis": {
            "backgroundcolor": "#E5ECF6",
            "gridcolor": "white",
            "gridwidth": 2,
            "linecolor": "white",
            "showbackground": true,
            "ticks": "",
            "zerolinecolor": "white"
           },
           "yaxis": {
            "backgroundcolor": "#E5ECF6",
            "gridcolor": "white",
            "gridwidth": 2,
            "linecolor": "white",
            "showbackground": true,
            "ticks": "",
            "zerolinecolor": "white"
           },
           "zaxis": {
            "backgroundcolor": "#E5ECF6",
            "gridcolor": "white",
            "gridwidth": 2,
            "linecolor": "white",
            "showbackground": true,
            "ticks": "",
            "zerolinecolor": "white"
           }
          },
          "shapedefaults": {
           "line": {
            "color": "#2a3f5f"
           }
          },
          "ternary": {
           "aaxis": {
            "gridcolor": "white",
            "linecolor": "white",
            "ticks": ""
           },
           "baxis": {
            "gridcolor": "white",
            "linecolor": "white",
            "ticks": ""
           },
           "bgcolor": "#E5ECF6",
           "caxis": {
            "gridcolor": "white",
            "linecolor": "white",
            "ticks": ""
           }
          },
          "title": {
           "x": 0.05
          },
          "xaxis": {
           "automargin": true,
           "gridcolor": "white",
           "linecolor": "white",
           "ticks": "",
           "title": {
            "standoff": 15
           },
           "zerolinecolor": "white",
           "zerolinewidth": 2
          },
          "yaxis": {
           "automargin": true,
           "gridcolor": "white",
           "linecolor": "white",
           "ticks": "",
           "title": {
            "standoff": 15
           },
           "zerolinecolor": "white",
           "zerolinewidth": 2
          }
         }
        },
        "xaxis": {
         "anchor": "y",
         "domain": [
          0,
          1
         ],
         "title": {
          "text": "rent_approval_date"
         }
        },
        "yaxis": {
         "anchor": "x",
         "domain": [
          0,
          1
         ],
         "title": {
          "text": "nearest_mrt_dist"
         }
        }
       }
      }
     },
     "metadata": {},
     "output_type": "display_data"
    }
   ],
   "source": [
    "train_df_cleaned_final.groupby(['rent_approval_date', 'region'])[['psqm', 'nearest_mrt_dist']].corr().iloc[0::2,-1].reset_index().plot.line(x='rent_approval_date', y='nearest_mrt_dist', color='region')"
   ]
  },
  {
   "cell_type": "code",
   "execution_count": 33,
   "metadata": {},
   "outputs": [],
   "source": [
    "train_df_cleaned_final['psqm_rank_perc'] = train_df_cleaned_final.groupby(['region', 'rent_approval_date'])[['psqm']].rank(pct=True)"
   ]
  },
  {
   "cell_type": "code",
   "execution_count": 34,
   "metadata": {},
   "outputs": [],
   "source": [
    "train_df_cleaned_final['dist_rank_perc'] = train_df_cleaned_final.groupby(['region', 'rent_approval_date'])[['nearest_mrt_dist']].rank(pct=True)"
   ]
  },
  {
   "cell_type": "code",
   "execution_count": 36,
   "metadata": {},
   "outputs": [
    {
     "data": {
      "application/vnd.plotly.v1+json": {
       "config": {
        "plotlyServerURL": "https://plot.ly"
       },
       "data": [
        {
         "hovertemplate": "region=central region<br>rent_approval_date=%{x}<br>dist_rank_perc=%{y}<extra></extra>",
         "legendgroup": "central region",
         "line": {
          "color": "#636efa",
          "dash": "solid"
         },
         "marker": {
          "symbol": "circle"
         },
         "mode": "lines",
         "name": "central region",
         "orientation": "v",
         "showlegend": true,
         "type": "scatter",
         "x": [
          "2021-01",
          "2021-02",
          "2021-03",
          "2021-04",
          "2021-05",
          "2021-06",
          "2021-07",
          "2021-08",
          "2021-09",
          "2021-10",
          "2021-11",
          "2021-12",
          "2022-01",
          "2022-02",
          "2022-03",
          "2022-04",
          "2022-05",
          "2022-06",
          "2022-07",
          "2022-08",
          "2022-09",
          "2022-10",
          "2022-11",
          "2022-12",
          "2023-01",
          "2023-02",
          "2023-03",
          "2023-04",
          "2023-05",
          "2023-06",
          "2023-07"
         ],
         "xaxis": "x",
         "y": [
          -0.21204498979330308,
          -0.12256118874188782,
          -0.12886380080378582,
          -0.1944993050134318,
          -0.17268709925134682,
          -0.18146521895289036,
          -0.14887323737632988,
          -0.2483678762057161,
          -0.257873489838415,
          -0.20247155483367163,
          -0.20088425693629394,
          -0.16308379228307424,
          -0.12465464458317327,
          -0.20978301175407918,
          -0.16024614375154342,
          -0.15617715952462988,
          -0.11209761954582248,
          -0.12002890607845582,
          -0.12790064758151987,
          -0.13455723860409022,
          -0.16296508621002026,
          -0.1135173167622058,
          -0.0767868682009513,
          -0.12302489669337685,
          -0.07821384823186948,
          -0.0855831697531622,
          -0.10002194204762495,
          -0.05636505933253595,
          -0.07643335425302772,
          -0.17691048506020304,
          -0.08508212207297676
         ],
         "yaxis": "y"
        },
        {
         "hovertemplate": "region=east region<br>rent_approval_date=%{x}<br>dist_rank_perc=%{y}<extra></extra>",
         "legendgroup": "east region",
         "line": {
          "color": "#EF553B",
          "dash": "solid"
         },
         "marker": {
          "symbol": "circle"
         },
         "mode": "lines",
         "name": "east region",
         "orientation": "v",
         "showlegend": true,
         "type": "scatter",
         "x": [
          "2021-01",
          "2021-02",
          "2021-03",
          "2021-04",
          "2021-05",
          "2021-06",
          "2021-07",
          "2021-08",
          "2021-09",
          "2021-10",
          "2021-11",
          "2021-12",
          "2022-01",
          "2022-02",
          "2022-03",
          "2022-04",
          "2022-05",
          "2022-06",
          "2022-07",
          "2022-08",
          "2022-09",
          "2022-10",
          "2022-11",
          "2022-12",
          "2023-01",
          "2023-02",
          "2023-03",
          "2023-04",
          "2023-05",
          "2023-06",
          "2023-07"
         ],
         "xaxis": "x",
         "y": [
          -0.2480845854774673,
          -0.29361678338552727,
          -0.3383961000263081,
          -0.2807668927651361,
          -0.23088131958428207,
          -0.22458375155815977,
          -0.22914938818182246,
          -0.21580718811980162,
          -0.19287396676728416,
          -0.22950739951315308,
          -0.22301856753915864,
          -0.224535718682435,
          -0.28422568374119217,
          -0.2864696695924177,
          -0.20063709797980311,
          -0.21882989730989616,
          -0.16654495914469977,
          -0.15464801317715843,
          -0.19637807746078875,
          -0.21840394464849222,
          -0.012157041935766123,
          -0.3045704133303609,
          -0.2204212105507385,
          -0.0816882767673246,
          -0.1901570318542543,
          -0.17411944691233314,
          -0.16924010915008858,
          -0.1831162146072418,
          -0.17774116738267495,
          -0.13748349084700504,
          -0.1565422375043201
         ],
         "yaxis": "y"
        },
        {
         "hovertemplate": "region=north region<br>rent_approval_date=%{x}<br>dist_rank_perc=%{y}<extra></extra>",
         "legendgroup": "north region",
         "line": {
          "color": "#00cc96",
          "dash": "solid"
         },
         "marker": {
          "symbol": "circle"
         },
         "mode": "lines",
         "name": "north region",
         "orientation": "v",
         "showlegend": true,
         "type": "scatter",
         "x": [
          "2021-01",
          "2021-02",
          "2021-03",
          "2021-04",
          "2021-05",
          "2021-06",
          "2021-07",
          "2021-08",
          "2021-09",
          "2021-10",
          "2021-11",
          "2021-12",
          "2022-01",
          "2022-02",
          "2022-03",
          "2022-04",
          "2022-05",
          "2022-06",
          "2022-07",
          "2022-08",
          "2022-09",
          "2022-10",
          "2022-11",
          "2022-12",
          "2023-01",
          "2023-02",
          "2023-03",
          "2023-04",
          "2023-05",
          "2023-06",
          "2023-07"
         ],
         "xaxis": "x",
         "y": [
          0.025464168921300198,
          0.03678145250279497,
          0.056421004523698644,
          0.033594557093870527,
          0.029315808640624153,
          -0.0019450414945232034,
          -0.09430023500774734,
          -0.038773818003367044,
          -0.01349036140962918,
          0.0670266436751892,
          -0.05666186252500464,
          0.10356850179686312,
          -0.056425127958643274,
          -0.053351297819345216,
          -0.035021470786508,
          0.13136109346446231,
          -0.033696868636376796,
          -0.07712524863391551,
          -0.08866554719591038,
          0.14658889588165577,
          0.09281948288994758,
          -0.035712107020385304,
          -0.07044875248354734,
          0.10623983765708853,
          0.07323600618306168,
          0.04968869366898132,
          0.17245035350095828,
          0.07983655148562313,
          0.1140105407364847,
          -0.027819159423462213,
          0.08190279854226118
         ],
         "yaxis": "y"
        },
        {
         "hovertemplate": "region=north-east region<br>rent_approval_date=%{x}<br>dist_rank_perc=%{y}<extra></extra>",
         "legendgroup": "north-east region",
         "line": {
          "color": "#ab63fa",
          "dash": "solid"
         },
         "marker": {
          "symbol": "circle"
         },
         "mode": "lines",
         "name": "north-east region",
         "orientation": "v",
         "showlegend": true,
         "type": "scatter",
         "x": [
          "2021-01",
          "2021-02",
          "2021-03",
          "2021-04",
          "2021-05",
          "2021-06",
          "2021-07",
          "2021-08",
          "2021-09",
          "2021-10",
          "2021-11",
          "2021-12",
          "2022-01",
          "2022-02",
          "2022-03",
          "2022-04",
          "2022-05",
          "2022-06",
          "2022-07",
          "2022-08",
          "2022-09",
          "2022-10",
          "2022-11",
          "2022-12",
          "2023-01",
          "2023-02",
          "2023-03",
          "2023-04",
          "2023-05",
          "2023-06",
          "2023-07"
         ],
         "xaxis": "x",
         "y": [
          -0.23965375219678273,
          -0.27551181753288373,
          -0.29205311343196705,
          -0.25873189164552396,
          -0.2804783595303328,
          -0.20259740996385367,
          -0.29855449167190545,
          -0.26805073350480346,
          -0.14959931843083032,
          -0.12762991146379524,
          -0.3344470105659251,
          -0.253292123430356,
          -0.21340563101546967,
          -0.10776325844310637,
          -0.11595965427455898,
          -0.14985294886366038,
          -0.08576667714408083,
          -0.10322741615056272,
          -0.13908040843221456,
          -0.13464180511286944,
          -0.15128017174641592,
          -0.14716977375481408,
          -0.17839643447791487,
          -0.09505800703271469,
          -0.04459442418543494,
          -0.05239679734858592,
          -0.13378906519597314,
          -0.10227171354349356,
          -0.09343304660820669,
          -0.17185756180334263,
          -0.1675860952752767
         ],
         "yaxis": "y"
        },
        {
         "hovertemplate": "region=west region<br>rent_approval_date=%{x}<br>dist_rank_perc=%{y}<extra></extra>",
         "legendgroup": "west region",
         "line": {
          "color": "#FFA15A",
          "dash": "solid"
         },
         "marker": {
          "symbol": "circle"
         },
         "mode": "lines",
         "name": "west region",
         "orientation": "v",
         "showlegend": true,
         "type": "scatter",
         "x": [
          "2021-01",
          "2021-02",
          "2021-03",
          "2021-04",
          "2021-05",
          "2021-06",
          "2021-07",
          "2021-08",
          "2021-09",
          "2021-10",
          "2021-11",
          "2021-12",
          "2022-01",
          "2022-02",
          "2022-03",
          "2022-04",
          "2022-05",
          "2022-06",
          "2022-07",
          "2022-08",
          "2022-09",
          "2022-10",
          "2022-11",
          "2022-12",
          "2023-01",
          "2023-02",
          "2023-03",
          "2023-04",
          "2023-05",
          "2023-06",
          "2023-07"
         ],
         "xaxis": "x",
         "y": [
          -0.020192926209521917,
          -0.22662382501451286,
          -0.16551847789416013,
          -0.05048394093484664,
          -0.18230649614736516,
          -0.12390764478402667,
          -0.08137500807382997,
          -0.06710864210386094,
          -0.13399966553573206,
          -0.08384765288942682,
          -0.03269830621933201,
          -0.144890782859582,
          -0.05615270519165076,
          -0.13534132010108868,
          -0.13751004930138774,
          -0.14473363934168748,
          -0.14522903296706346,
          -0.10320857321664707,
          -0.09957287857751296,
          -0.06551974961864003,
          -0.06468723526733455,
          -0.05140180756321031,
          -0.04831477952076306,
          -0.09483745576828691,
          -0.08891600809035552,
          -0.15343054019581903,
          -0.13884153279693676,
          -0.01799869647691913,
          -0.0840665191262346,
          -0.027303522780748535,
          -0.10153831038346087
         ],
         "yaxis": "y"
        }
       ],
       "layout": {
        "legend": {
         "title": {
          "text": "region"
         },
         "tracegroupgap": 0
        },
        "margin": {
         "t": 60
        },
        "template": {
         "data": {
          "bar": [
           {
            "error_x": {
             "color": "#2a3f5f"
            },
            "error_y": {
             "color": "#2a3f5f"
            },
            "marker": {
             "line": {
              "color": "#E5ECF6",
              "width": 0.5
             },
             "pattern": {
              "fillmode": "overlay",
              "size": 10,
              "solidity": 0.2
             }
            },
            "type": "bar"
           }
          ],
          "barpolar": [
           {
            "marker": {
             "line": {
              "color": "#E5ECF6",
              "width": 0.5
             },
             "pattern": {
              "fillmode": "overlay",
              "size": 10,
              "solidity": 0.2
             }
            },
            "type": "barpolar"
           }
          ],
          "carpet": [
           {
            "aaxis": {
             "endlinecolor": "#2a3f5f",
             "gridcolor": "white",
             "linecolor": "white",
             "minorgridcolor": "white",
             "startlinecolor": "#2a3f5f"
            },
            "baxis": {
             "endlinecolor": "#2a3f5f",
             "gridcolor": "white",
             "linecolor": "white",
             "minorgridcolor": "white",
             "startlinecolor": "#2a3f5f"
            },
            "type": "carpet"
           }
          ],
          "choropleth": [
           {
            "colorbar": {
             "outlinewidth": 0,
             "ticks": ""
            },
            "type": "choropleth"
           }
          ],
          "contour": [
           {
            "colorbar": {
             "outlinewidth": 0,
             "ticks": ""
            },
            "colorscale": [
             [
              0,
              "#0d0887"
             ],
             [
              0.1111111111111111,
              "#46039f"
             ],
             [
              0.2222222222222222,
              "#7201a8"
             ],
             [
              0.3333333333333333,
              "#9c179e"
             ],
             [
              0.4444444444444444,
              "#bd3786"
             ],
             [
              0.5555555555555556,
              "#d8576b"
             ],
             [
              0.6666666666666666,
              "#ed7953"
             ],
             [
              0.7777777777777778,
              "#fb9f3a"
             ],
             [
              0.8888888888888888,
              "#fdca26"
             ],
             [
              1,
              "#f0f921"
             ]
            ],
            "type": "contour"
           }
          ],
          "contourcarpet": [
           {
            "colorbar": {
             "outlinewidth": 0,
             "ticks": ""
            },
            "type": "contourcarpet"
           }
          ],
          "heatmap": [
           {
            "colorbar": {
             "outlinewidth": 0,
             "ticks": ""
            },
            "colorscale": [
             [
              0,
              "#0d0887"
             ],
             [
              0.1111111111111111,
              "#46039f"
             ],
             [
              0.2222222222222222,
              "#7201a8"
             ],
             [
              0.3333333333333333,
              "#9c179e"
             ],
             [
              0.4444444444444444,
              "#bd3786"
             ],
             [
              0.5555555555555556,
              "#d8576b"
             ],
             [
              0.6666666666666666,
              "#ed7953"
             ],
             [
              0.7777777777777778,
              "#fb9f3a"
             ],
             [
              0.8888888888888888,
              "#fdca26"
             ],
             [
              1,
              "#f0f921"
             ]
            ],
            "type": "heatmap"
           }
          ],
          "heatmapgl": [
           {
            "colorbar": {
             "outlinewidth": 0,
             "ticks": ""
            },
            "colorscale": [
             [
              0,
              "#0d0887"
             ],
             [
              0.1111111111111111,
              "#46039f"
             ],
             [
              0.2222222222222222,
              "#7201a8"
             ],
             [
              0.3333333333333333,
              "#9c179e"
             ],
             [
              0.4444444444444444,
              "#bd3786"
             ],
             [
              0.5555555555555556,
              "#d8576b"
             ],
             [
              0.6666666666666666,
              "#ed7953"
             ],
             [
              0.7777777777777778,
              "#fb9f3a"
             ],
             [
              0.8888888888888888,
              "#fdca26"
             ],
             [
              1,
              "#f0f921"
             ]
            ],
            "type": "heatmapgl"
           }
          ],
          "histogram": [
           {
            "marker": {
             "pattern": {
              "fillmode": "overlay",
              "size": 10,
              "solidity": 0.2
             }
            },
            "type": "histogram"
           }
          ],
          "histogram2d": [
           {
            "colorbar": {
             "outlinewidth": 0,
             "ticks": ""
            },
            "colorscale": [
             [
              0,
              "#0d0887"
             ],
             [
              0.1111111111111111,
              "#46039f"
             ],
             [
              0.2222222222222222,
              "#7201a8"
             ],
             [
              0.3333333333333333,
              "#9c179e"
             ],
             [
              0.4444444444444444,
              "#bd3786"
             ],
             [
              0.5555555555555556,
              "#d8576b"
             ],
             [
              0.6666666666666666,
              "#ed7953"
             ],
             [
              0.7777777777777778,
              "#fb9f3a"
             ],
             [
              0.8888888888888888,
              "#fdca26"
             ],
             [
              1,
              "#f0f921"
             ]
            ],
            "type": "histogram2d"
           }
          ],
          "histogram2dcontour": [
           {
            "colorbar": {
             "outlinewidth": 0,
             "ticks": ""
            },
            "colorscale": [
             [
              0,
              "#0d0887"
             ],
             [
              0.1111111111111111,
              "#46039f"
             ],
             [
              0.2222222222222222,
              "#7201a8"
             ],
             [
              0.3333333333333333,
              "#9c179e"
             ],
             [
              0.4444444444444444,
              "#bd3786"
             ],
             [
              0.5555555555555556,
              "#d8576b"
             ],
             [
              0.6666666666666666,
              "#ed7953"
             ],
             [
              0.7777777777777778,
              "#fb9f3a"
             ],
             [
              0.8888888888888888,
              "#fdca26"
             ],
             [
              1,
              "#f0f921"
             ]
            ],
            "type": "histogram2dcontour"
           }
          ],
          "mesh3d": [
           {
            "colorbar": {
             "outlinewidth": 0,
             "ticks": ""
            },
            "type": "mesh3d"
           }
          ],
          "parcoords": [
           {
            "line": {
             "colorbar": {
              "outlinewidth": 0,
              "ticks": ""
             }
            },
            "type": "parcoords"
           }
          ],
          "pie": [
           {
            "automargin": true,
            "type": "pie"
           }
          ],
          "scatter": [
           {
            "fillpattern": {
             "fillmode": "overlay",
             "size": 10,
             "solidity": 0.2
            },
            "type": "scatter"
           }
          ],
          "scatter3d": [
           {
            "line": {
             "colorbar": {
              "outlinewidth": 0,
              "ticks": ""
             }
            },
            "marker": {
             "colorbar": {
              "outlinewidth": 0,
              "ticks": ""
             }
            },
            "type": "scatter3d"
           }
          ],
          "scattercarpet": [
           {
            "marker": {
             "colorbar": {
              "outlinewidth": 0,
              "ticks": ""
             }
            },
            "type": "scattercarpet"
           }
          ],
          "scattergeo": [
           {
            "marker": {
             "colorbar": {
              "outlinewidth": 0,
              "ticks": ""
             }
            },
            "type": "scattergeo"
           }
          ],
          "scattergl": [
           {
            "marker": {
             "colorbar": {
              "outlinewidth": 0,
              "ticks": ""
             }
            },
            "type": "scattergl"
           }
          ],
          "scattermapbox": [
           {
            "marker": {
             "colorbar": {
              "outlinewidth": 0,
              "ticks": ""
             }
            },
            "type": "scattermapbox"
           }
          ],
          "scatterpolar": [
           {
            "marker": {
             "colorbar": {
              "outlinewidth": 0,
              "ticks": ""
             }
            },
            "type": "scatterpolar"
           }
          ],
          "scatterpolargl": [
           {
            "marker": {
             "colorbar": {
              "outlinewidth": 0,
              "ticks": ""
             }
            },
            "type": "scatterpolargl"
           }
          ],
          "scatterternary": [
           {
            "marker": {
             "colorbar": {
              "outlinewidth": 0,
              "ticks": ""
             }
            },
            "type": "scatterternary"
           }
          ],
          "surface": [
           {
            "colorbar": {
             "outlinewidth": 0,
             "ticks": ""
            },
            "colorscale": [
             [
              0,
              "#0d0887"
             ],
             [
              0.1111111111111111,
              "#46039f"
             ],
             [
              0.2222222222222222,
              "#7201a8"
             ],
             [
              0.3333333333333333,
              "#9c179e"
             ],
             [
              0.4444444444444444,
              "#bd3786"
             ],
             [
              0.5555555555555556,
              "#d8576b"
             ],
             [
              0.6666666666666666,
              "#ed7953"
             ],
             [
              0.7777777777777778,
              "#fb9f3a"
             ],
             [
              0.8888888888888888,
              "#fdca26"
             ],
             [
              1,
              "#f0f921"
             ]
            ],
            "type": "surface"
           }
          ],
          "table": [
           {
            "cells": {
             "fill": {
              "color": "#EBF0F8"
             },
             "line": {
              "color": "white"
             }
            },
            "header": {
             "fill": {
              "color": "#C8D4E3"
             },
             "line": {
              "color": "white"
             }
            },
            "type": "table"
           }
          ]
         },
         "layout": {
          "annotationdefaults": {
           "arrowcolor": "#2a3f5f",
           "arrowhead": 0,
           "arrowwidth": 1
          },
          "autotypenumbers": "strict",
          "coloraxis": {
           "colorbar": {
            "outlinewidth": 0,
            "ticks": ""
           }
          },
          "colorscale": {
           "diverging": [
            [
             0,
             "#8e0152"
            ],
            [
             0.1,
             "#c51b7d"
            ],
            [
             0.2,
             "#de77ae"
            ],
            [
             0.3,
             "#f1b6da"
            ],
            [
             0.4,
             "#fde0ef"
            ],
            [
             0.5,
             "#f7f7f7"
            ],
            [
             0.6,
             "#e6f5d0"
            ],
            [
             0.7,
             "#b8e186"
            ],
            [
             0.8,
             "#7fbc41"
            ],
            [
             0.9,
             "#4d9221"
            ],
            [
             1,
             "#276419"
            ]
           ],
           "sequential": [
            [
             0,
             "#0d0887"
            ],
            [
             0.1111111111111111,
             "#46039f"
            ],
            [
             0.2222222222222222,
             "#7201a8"
            ],
            [
             0.3333333333333333,
             "#9c179e"
            ],
            [
             0.4444444444444444,
             "#bd3786"
            ],
            [
             0.5555555555555556,
             "#d8576b"
            ],
            [
             0.6666666666666666,
             "#ed7953"
            ],
            [
             0.7777777777777778,
             "#fb9f3a"
            ],
            [
             0.8888888888888888,
             "#fdca26"
            ],
            [
             1,
             "#f0f921"
            ]
           ],
           "sequentialminus": [
            [
             0,
             "#0d0887"
            ],
            [
             0.1111111111111111,
             "#46039f"
            ],
            [
             0.2222222222222222,
             "#7201a8"
            ],
            [
             0.3333333333333333,
             "#9c179e"
            ],
            [
             0.4444444444444444,
             "#bd3786"
            ],
            [
             0.5555555555555556,
             "#d8576b"
            ],
            [
             0.6666666666666666,
             "#ed7953"
            ],
            [
             0.7777777777777778,
             "#fb9f3a"
            ],
            [
             0.8888888888888888,
             "#fdca26"
            ],
            [
             1,
             "#f0f921"
            ]
           ]
          },
          "colorway": [
           "#636efa",
           "#EF553B",
           "#00cc96",
           "#ab63fa",
           "#FFA15A",
           "#19d3f3",
           "#FF6692",
           "#B6E880",
           "#FF97FF",
           "#FECB52"
          ],
          "font": {
           "color": "#2a3f5f"
          },
          "geo": {
           "bgcolor": "white",
           "lakecolor": "white",
           "landcolor": "#E5ECF6",
           "showlakes": true,
           "showland": true,
           "subunitcolor": "white"
          },
          "hoverlabel": {
           "align": "left"
          },
          "hovermode": "closest",
          "mapbox": {
           "style": "light"
          },
          "paper_bgcolor": "white",
          "plot_bgcolor": "#E5ECF6",
          "polar": {
           "angularaxis": {
            "gridcolor": "white",
            "linecolor": "white",
            "ticks": ""
           },
           "bgcolor": "#E5ECF6",
           "radialaxis": {
            "gridcolor": "white",
            "linecolor": "white",
            "ticks": ""
           }
          },
          "scene": {
           "xaxis": {
            "backgroundcolor": "#E5ECF6",
            "gridcolor": "white",
            "gridwidth": 2,
            "linecolor": "white",
            "showbackground": true,
            "ticks": "",
            "zerolinecolor": "white"
           },
           "yaxis": {
            "backgroundcolor": "#E5ECF6",
            "gridcolor": "white",
            "gridwidth": 2,
            "linecolor": "white",
            "showbackground": true,
            "ticks": "",
            "zerolinecolor": "white"
           },
           "zaxis": {
            "backgroundcolor": "#E5ECF6",
            "gridcolor": "white",
            "gridwidth": 2,
            "linecolor": "white",
            "showbackground": true,
            "ticks": "",
            "zerolinecolor": "white"
           }
          },
          "shapedefaults": {
           "line": {
            "color": "#2a3f5f"
           }
          },
          "ternary": {
           "aaxis": {
            "gridcolor": "white",
            "linecolor": "white",
            "ticks": ""
           },
           "baxis": {
            "gridcolor": "white",
            "linecolor": "white",
            "ticks": ""
           },
           "bgcolor": "#E5ECF6",
           "caxis": {
            "gridcolor": "white",
            "linecolor": "white",
            "ticks": ""
           }
          },
          "title": {
           "x": 0.05
          },
          "xaxis": {
           "automargin": true,
           "gridcolor": "white",
           "linecolor": "white",
           "ticks": "",
           "title": {
            "standoff": 15
           },
           "zerolinecolor": "white",
           "zerolinewidth": 2
          },
          "yaxis": {
           "automargin": true,
           "gridcolor": "white",
           "linecolor": "white",
           "ticks": "",
           "title": {
            "standoff": 15
           },
           "zerolinecolor": "white",
           "zerolinewidth": 2
          }
         }
        },
        "xaxis": {
         "anchor": "y",
         "domain": [
          0,
          1
         ],
         "title": {
          "text": "rent_approval_date"
         }
        },
        "yaxis": {
         "anchor": "x",
         "domain": [
          0,
          1
         ],
         "title": {
          "text": "dist_rank_perc"
         }
        }
       }
      }
     },
     "metadata": {},
     "output_type": "display_data"
    }
   ],
   "source": [
    "train_df_cleaned_final.groupby(['rent_approval_date', 'region'])[['psqm_rank_perc', 'dist_rank_perc']].corr().iloc[0::2,-1].reset_index().plot.line(x='rent_approval_date', y='dist_rank_perc', color='region')"
   ]
  },
  {
   "cell_type": "code",
   "execution_count": 74,
   "metadata": {},
   "outputs": [
    {
     "data": {
      "text/plain": [
       "3.0430176896819225e-15"
      ]
     },
     "execution_count": 74,
     "metadata": {},
     "output_type": "execute_result"
    }
   ],
   "source": [
    "from sklearn.linear_model import LinearRegression\n",
    "df = train_df_cleaned_final\n",
    "# Fit a simple linear regression model\n",
    "model = LinearRegression()\n",
    "model.fit(df[['nearest_mrt_dist', 'dist_rank_perc']], df['psqm'])\n",
    "\n",
    "# Calculate predicted values and residuals\n",
    "df['predicted'] = model.predict(df[['nearest_mrt_dist', 'dist_rank_perc']])\n",
    "df['residuals'] = df['psqm'] - df['predicted']\n",
    "\n",
    "# Plot residuals\n",
    "df.plot.scatter(x=\"nearest_mrt_dist\", y=\"residuals\", \n",
    "                 title=\"Residual Plot\",\n",
    "                 template=\"plotly_white\")\n",
    "df['residuals'].mean()"
   ]
  },
  {
   "cell_type": "code",
   "execution_count": 73,
   "metadata": {},
   "outputs": [
    {
     "data": {
      "text/plain": [
       "2.1221543041368327e-15"
      ]
     },
     "execution_count": 73,
     "metadata": {},
     "output_type": "execute_result"
    }
   ],
   "source": [
    "from sklearn.linear_model import LinearRegression\n",
    "df = train_df_cleaned_final\n",
    "# Fit a simple linear regression model\n",
    "model = LinearRegression()\n",
    "model.fit(df[['nearest_mrt_dist']], df['psqm'])\n",
    "\n",
    "# Calculate predicted values and residuals\n",
    "df['predicted'] = model.predict(df[['nearest_mrt_dist']])\n",
    "df['residuals'] = df['psqm'] - df['predicted']\n",
    "\n",
    "# Plot residuals\n",
    "df.plot.scatter(x=\"nearest_mrt_dist\", y=\"residuals\", \n",
    "                 title=\"Residual Plot\",\n",
    "                 template=\"plotly_white\")\n",
    "df['residuals'].mean()"
   ]
  },
  {
   "cell_type": "code",
   "execution_count": 59,
   "metadata": {},
   "outputs": [
    {
     "data": {
      "text/plain": [
       "0        1.630426e+09\n",
       "1        1.651334e+09\n",
       "2        1.664554e+09\n",
       "3        1.627747e+09\n",
       "4        1.667232e+09\n",
       "             ...     \n",
       "59995    1.630426e+09\n",
       "59996    1.680278e+09\n",
       "59997    1.654013e+09\n",
       "59998    1.672502e+09\n",
       "59999    1.675181e+09\n",
       "Name: date, Length: 60000, dtype: float64"
      ]
     },
     "execution_count": 59,
     "metadata": {},
     "output_type": "execute_result"
    }
   ],
   "source": [
    "# df['date']"
   ]
  },
  {
   "cell_type": "markdown",
   "metadata": {},
   "source": [
    "### Town level"
   ]
  },
  {
   "cell_type": "code",
   "execution_count": 21,
   "metadata": {},
   "outputs": [
    {
     "data": {
      "application/vnd.plotly.v1+json": {
       "config": {
        "plotlyServerURL": "https://plot.ly"
       },
       "data": [
        {
         "hovertemplate": "town=ang mo kio<br>rent_approval_date=%{x}<br>near_mrt_count=%{y}<extra></extra>",
         "legendgroup": "ang mo kio",
         "line": {
          "color": "#636efa",
          "dash": "solid"
         },
         "marker": {
          "symbol": "circle"
         },
         "mode": "lines",
         "name": "ang mo kio",
         "orientation": "v",
         "showlegend": true,
         "type": "scatter",
         "x": [
          "2021-01",
          "2021-02",
          "2021-03",
          "2021-04",
          "2021-05",
          "2021-06",
          "2021-07",
          "2021-08",
          "2021-09",
          "2021-10",
          "2021-11",
          "2021-12",
          "2022-01",
          "2022-02",
          "2022-03",
          "2022-04",
          "2022-05",
          "2022-06",
          "2022-07",
          "2022-08",
          "2022-09",
          "2022-10",
          "2022-11",
          "2022-12",
          "2023-01",
          "2023-02",
          "2023-03",
          "2023-04",
          "2023-05",
          "2023-06",
          "2023-07"
         ],
         "xaxis": "x",
         "y": [
          -0.038931149248483225,
          -0.1685428179650629,
          -0.029401280080294447,
          0.08278248618315058,
          -0.06002515021854402,
          0.09764626861633743,
          -0.030882110459795706,
          -0.17098447682802798,
          0.020515392624262472,
          -0.23180547574949134,
          0.016744244891386092,
          0.14543171313327363,
          -0.011030579175574914,
          -0.0384546846431651,
          0.13530969067197574,
          0.15683404158795922,
          -0.12496418312659235,
          0.0017623072760230797,
          0.014186557625726083,
          0.09540120499109962,
          0.05787747392899096,
          -0.21283918818041755,
          0.1419476590678444,
          0.010701057932166667,
          -0.14162326058656532,
          -0.16781152853310657,
          -0.04460187536911369,
          -0.1029946639930836,
          0.15723550462596475,
          -0.040615856637985996,
          0.05458633125521406
         ],
         "yaxis": "y"
        },
        {
         "hovertemplate": "town=bedok<br>rent_approval_date=%{x}<br>near_mrt_count=%{y}<extra></extra>",
         "legendgroup": "bedok",
         "line": {
          "color": "#EF553B",
          "dash": "solid"
         },
         "marker": {
          "symbol": "circle"
         },
         "mode": "lines",
         "name": "bedok",
         "orientation": "v",
         "showlegend": true,
         "type": "scatter",
         "x": [
          "2021-01",
          "2021-02",
          "2021-03",
          "2021-04",
          "2021-05",
          "2021-06",
          "2021-07",
          "2021-08",
          "2021-09",
          "2021-10",
          "2021-11",
          "2021-12",
          "2022-01",
          "2022-02",
          "2022-03",
          "2022-04",
          "2022-05",
          "2022-06",
          "2022-07",
          "2022-08",
          "2022-09",
          "2022-10",
          "2022-11",
          "2022-12",
          "2023-01",
          "2023-02",
          "2023-03",
          "2023-04",
          "2023-05",
          "2023-06",
          "2023-07"
         ],
         "xaxis": "x",
         "y": [
          -0.23491564950620927,
          -0.051807949146967264,
          -0.07266778449434366,
          -0.1698872289030879,
          -0.09170884435219391,
          -0.018603154187804703,
          -0.12856354007491688,
          -0.09089581193595844,
          0.03987458877354793,
          -0.21133301757785328,
          0.0815202268589522,
          -0.07859964648544161,
          0.11393059819320683,
          -0.3088876294421401,
          -0.11167871496030853,
          -0.2497234070543436,
          0.06169456766655334,
          -0.02589999961827189,
          -0.04390074977666399,
          0.07068475178168512,
          0.05437548217962852,
          -0.08580671191975625,
          -0.0382865085410106,
          -0.027460439826626687,
          -0.028838497541970827,
          -0.15841839756977122,
          0.12052860739887755,
          -0.12058694842254107,
          -0.07723277300613592,
          0.013540778234781564,
          -0.08808839534194493
         ],
         "yaxis": "y"
        },
        {
         "hovertemplate": "town=bishan<br>rent_approval_date=%{x}<br>near_mrt_count=%{y}<extra></extra>",
         "legendgroup": "bishan",
         "line": {
          "color": "#00cc96",
          "dash": "solid"
         },
         "marker": {
          "symbol": "circle"
         },
         "mode": "lines",
         "name": "bishan",
         "orientation": "v",
         "showlegend": true,
         "type": "scatter",
         "x": [
          "2021-01",
          "2021-02",
          "2021-03",
          "2021-04",
          "2021-05",
          "2021-06",
          "2021-07",
          "2021-08",
          "2021-09",
          "2021-10",
          "2021-11",
          "2021-12",
          "2022-01",
          "2022-02",
          "2022-03",
          "2022-04",
          "2022-05",
          "2022-06",
          "2022-07",
          "2022-08",
          "2022-09",
          "2022-10",
          "2022-11",
          "2022-12",
          "2023-01",
          "2023-02",
          "2023-03",
          "2023-04",
          "2023-05",
          "2023-06",
          "2023-07"
         ],
         "xaxis": "x",
         "y": [
          0.4325674805164708,
          0.2606715756710811,
          0.27645116438215844,
          0.40898357327089285,
          0.35893852156755357,
          0.26884603846526256,
          0.012195281787656147,
          0.11352998877285633,
          0.1803469208414245,
          0.11707382418889199,
          0.2306134229673363,
          0.2063007545698128,
          0.2986918881348811,
          0.11906216814894734,
          0.1384718713479063,
          0.14067226416599732,
          0.3012023792368083,
          0.11185993308276569,
          0.13455059955756635,
          0.33246463841331025,
          0.030477083533165715,
          0.057660394227601684,
          0.3143328100989596,
          0.22608498936435456,
          0.0810828523703562,
          0.10154380760823788,
          -0.03914242899615628,
          0.026407969725049184,
          0.15822479424696745,
          0.1357011782879303,
          0.28179674081706513
         ],
         "yaxis": "y"
        },
        {
         "hovertemplate": "town=bukit batok<br>rent_approval_date=%{x}<br>near_mrt_count=%{y}<extra></extra>",
         "legendgroup": "bukit batok",
         "line": {
          "color": "#ab63fa",
          "dash": "solid"
         },
         "marker": {
          "symbol": "circle"
         },
         "mode": "lines",
         "name": "bukit batok",
         "orientation": "v",
         "showlegend": true,
         "type": "scatter",
         "x": [
          "2021-01",
          "2021-02",
          "2021-03",
          "2021-04",
          "2021-05",
          "2021-06",
          "2021-07",
          "2021-08",
          "2021-09",
          "2021-10",
          "2021-11",
          "2021-12",
          "2022-01",
          "2022-02",
          "2022-03",
          "2022-04",
          "2022-05",
          "2022-06",
          "2022-07",
          "2022-08",
          "2022-09",
          "2022-10",
          "2022-11",
          "2022-12",
          "2023-01",
          "2023-02",
          "2023-03",
          "2023-04",
          "2023-05",
          "2023-06",
          "2023-07"
         ],
         "xaxis": "x",
         "y": [
          0.004297470744936128,
          0.12252602735639857,
          0.1295064276557189,
          0.045464057599028516,
          0.0359028250864085,
          0.1643535998392617,
          0.18576377786425038,
          0.009295990652668422,
          0.09998299472879445,
          0.06704215076038111,
          -0.021035111693169226,
          0.10470455692889605,
          0.052574282610390835,
          0.07504216404864916,
          -0.05151806979378024,
          0.18535632140989763,
          0.1628589801126878,
          -0.05732313747661428,
          0.053288753255967734,
          -0.172815376441861,
          0.2238689734195941,
          -0.004335710002065892,
          0.039112890675843295,
          0.13078664458887057,
          0.06490365495022461,
          -0.13893602284681428,
          -0.1262643239993204,
          -0.3189901499589516,
          -0.017440994154108918,
          -0.027728562504944997,
          -0.0902993538786226
         ],
         "yaxis": "y"
        },
        {
         "hovertemplate": "town=bukit merah<br>rent_approval_date=%{x}<br>near_mrt_count=%{y}<extra></extra>",
         "legendgroup": "bukit merah",
         "line": {
          "color": "#FFA15A",
          "dash": "solid"
         },
         "marker": {
          "symbol": "circle"
         },
         "mode": "lines",
         "name": "bukit merah",
         "orientation": "v",
         "showlegend": true,
         "type": "scatter",
         "x": [
          "2021-01",
          "2021-02",
          "2021-03",
          "2021-04",
          "2021-05",
          "2021-06",
          "2021-07",
          "2021-08",
          "2021-09",
          "2021-10",
          "2021-11",
          "2021-12",
          "2022-01",
          "2022-02",
          "2022-03",
          "2022-04",
          "2022-05",
          "2022-06",
          "2022-07",
          "2022-08",
          "2022-09",
          "2022-10",
          "2022-11",
          "2022-12",
          "2023-01",
          "2023-02",
          "2023-03",
          "2023-04",
          "2023-05",
          "2023-06",
          "2023-07"
         ],
         "xaxis": "x",
         "y": [
          0.32371013251847025,
          0.0861566520246911,
          0.29181230986018347,
          0.22524024957130306,
          0.2965939521841248,
          0.274182194713527,
          0.4140247693712666,
          0.3554589296214426,
          0.2548405749009555,
          0.3730767398041745,
          0.34779017193297357,
          0.35757168120019356,
          0.08261663676781929,
          0.15711671212961884,
          0.2065618956070784,
          0.15838059154825473,
          0.11322940335215442,
          0.2086214537698203,
          0.3612884328094547,
          0.10600442762944896,
          0.3230362308104418,
          0.07869387233221911,
          0.25307164307207636,
          0.31293184956440523,
          0.22102821967169647,
          0.17944210281573778,
          0.17038432063520867,
          0.17248286113596764,
          0.16773447668052985,
          0.2197591112253021,
          0.3077811658380977
         ],
         "yaxis": "y"
        },
        {
         "hovertemplate": "town=bukit panjang<br>rent_approval_date=%{x}<br>near_mrt_count=%{y}<extra></extra>",
         "legendgroup": "bukit panjang",
         "line": {
          "color": "#19d3f3",
          "dash": "solid"
         },
         "marker": {
          "symbol": "circle"
         },
         "mode": "lines",
         "name": "bukit panjang",
         "orientation": "v",
         "showlegend": true,
         "type": "scatter",
         "x": [
          "2021-01",
          "2021-02",
          "2021-03",
          "2021-04",
          "2021-05",
          "2021-06",
          "2021-07",
          "2021-08",
          "2021-09",
          "2021-10",
          "2021-11",
          "2021-12",
          "2022-01",
          "2022-02",
          "2022-03",
          "2022-04",
          "2022-05",
          "2022-06",
          "2022-07",
          "2022-08",
          "2022-09",
          "2022-10",
          "2022-11",
          "2022-12",
          "2023-01",
          "2023-02",
          "2023-03",
          "2023-04",
          "2023-05",
          "2023-06",
          "2023-07"
         ],
         "xaxis": "x",
         "y": [
          -0.056651185088408475,
          -0.0583667656655443,
          0.2631244929101822,
          -0.2462441851294662,
          0.11308200595443002,
          0.11238778562142444,
          -0.1379619696643648,
          -0.0712306554004448,
          0.008804385963853507,
          -0.04412235807319151,
          -0.3101913002811387,
          -0.11698685652577366,
          0.2613546222623187,
          -0.03150853387757985,
          0.10982471257066334,
          0.16633412589744653,
          -0.020292798083177858,
          0.10447763176884434,
          0.15149034148289167,
          0.007878894627678755,
          -0.29051831087050817,
          -0.019842460319737736,
          0.03519824482668508,
          0.0019037140430377337,
          -0.17556724660511697,
          0.07352240909955722,
          -0.09768979473685371,
          -0.30486726720813384,
          0.2125035905464127,
          0.2996943728053325,
          -0.029449173390052034
         ],
         "yaxis": "y"
        },
        {
         "hovertemplate": "town=bukit timah<br>rent_approval_date=%{x}<br>near_mrt_count=%{y}<extra></extra>",
         "legendgroup": "bukit timah",
         "line": {
          "color": "#FF6692",
          "dash": "solid"
         },
         "marker": {
          "symbol": "circle"
         },
         "mode": "lines",
         "name": "bukit timah",
         "orientation": "v",
         "showlegend": true,
         "type": "scatter",
         "x": [
          "2021-01",
          "2021-02",
          "2021-03",
          "2021-04",
          "2021-05",
          "2021-06",
          "2021-07",
          "2021-08",
          "2021-09",
          "2021-10",
          "2021-11",
          "2021-12",
          "2022-01",
          "2022-02",
          "2022-03",
          "2022-06",
          "2022-07",
          "2022-10",
          "2022-11",
          "2023-01",
          "2023-02",
          "2023-03",
          "2023-04",
          "2023-05",
          "2023-06",
          "2023-07"
         ],
         "xaxis": "x",
         "y": [
          null,
          null,
          null,
          null,
          null,
          null,
          null,
          null,
          null,
          null,
          null,
          null,
          null,
          null,
          null,
          null,
          null,
          null,
          null,
          null,
          null,
          null,
          null,
          null,
          null,
          null
         ],
         "yaxis": "y"
        },
        {
         "hovertemplate": "town=central<br>rent_approval_date=%{x}<br>near_mrt_count=%{y}<extra></extra>",
         "legendgroup": "central",
         "line": {
          "color": "#B6E880",
          "dash": "solid"
         },
         "marker": {
          "symbol": "circle"
         },
         "mode": "lines",
         "name": "central",
         "orientation": "v",
         "showlegend": true,
         "type": "scatter",
         "x": [
          "2021-01",
          "2021-02",
          "2021-03",
          "2021-04",
          "2021-05",
          "2021-06",
          "2021-07",
          "2021-08",
          "2021-09",
          "2021-10",
          "2021-11",
          "2021-12",
          "2022-01",
          "2022-02",
          "2022-03",
          "2022-04",
          "2022-05",
          "2022-06",
          "2022-07",
          "2022-08",
          "2022-09",
          "2022-10",
          "2022-11",
          "2022-12",
          "2023-01",
          "2023-02",
          "2023-03",
          "2023-04",
          "2023-05",
          "2023-06",
          "2023-07"
         ],
         "xaxis": "x",
         "y": [
          0.224445043374822,
          0.7199065443371507,
          0.30546473481397257,
          0.20712868908182994,
          0.5304930797350527,
          0.42155345923657606,
          0.5647067019356337,
          0.5964323548831737,
          0.4907549436032034,
          0.7098682292629727,
          0.16117420459634887,
          0.23388967230005483,
          0.5109364696078764,
          0.12634449381684307,
          0.20572087712790552,
          0.47227593607312074,
          0.4513348557951464,
          0.3898351543907721,
          0.4921751603327473,
          0.058825019902267316,
          0.05868304917503436,
          -0.42562676466671073,
          0.260793281868594,
          0.20837330346923372,
          -0.5802616490821577,
          0.1650592144405078,
          0.17670887541313926,
          -0.01629180957259146,
          -0.2954168334030405,
          0.5395501459833807,
          0.005199341365776482
         ],
         "yaxis": "y"
        },
        {
         "hovertemplate": "town=choa chu kang<br>rent_approval_date=%{x}<br>near_mrt_count=%{y}<extra></extra>",
         "legendgroup": "choa chu kang",
         "line": {
          "color": "#FF97FF",
          "dash": "solid"
         },
         "marker": {
          "symbol": "circle"
         },
         "mode": "lines",
         "name": "choa chu kang",
         "orientation": "v",
         "showlegend": true,
         "type": "scatter",
         "x": [
          "2021-01",
          "2021-02",
          "2021-03",
          "2021-04",
          "2021-05",
          "2021-06",
          "2021-07",
          "2021-08",
          "2021-09",
          "2021-10",
          "2021-11",
          "2021-12",
          "2022-01",
          "2022-02",
          "2022-03",
          "2022-04",
          "2022-05",
          "2022-06",
          "2022-07",
          "2022-08",
          "2022-09",
          "2022-10",
          "2022-11",
          "2022-12",
          "2023-01",
          "2023-02",
          "2023-03",
          "2023-04",
          "2023-05",
          "2023-06",
          "2023-07"
         ],
         "xaxis": "x",
         "y": [
          -0.3968037639653575,
          -0.15751207735347328,
          -0.13056822119670902,
          -0.14315266282585776,
          0.10327633765540645,
          -0.23325559648075603,
          -0.17428394412258194,
          -0.2679304095623177,
          -0.04540557498436343,
          0.02150176675606127,
          -0.0342377509784298,
          -0.4432873242344893,
          0.11331338909530733,
          -0.1464905972015782,
          -0.028983644557295837,
          -0.16117451218783538,
          -0.4024143798548022,
          -0.12330406873430817,
          -0.2734872461611841,
          -0.27878330865618556,
          -0.1929696975751359,
          -0.38610491653081314,
          0.013435177761919994,
          -0.08172817037086791,
          0.12558896375467016,
          -0.04731027483179766,
          -0.011885766291548746,
          -0.27575071685841107,
          -0.15420716841122362,
          -0.3662708722600208,
          -0.3541936944920359
         ],
         "yaxis": "y"
        },
        {
         "hovertemplate": "town=clementi<br>rent_approval_date=%{x}<br>near_mrt_count=%{y}<extra></extra>",
         "legendgroup": "clementi",
         "line": {
          "color": "#FECB52",
          "dash": "solid"
         },
         "marker": {
          "symbol": "circle"
         },
         "mode": "lines",
         "name": "clementi",
         "orientation": "v",
         "showlegend": true,
         "type": "scatter",
         "x": [
          "2021-01",
          "2021-02",
          "2021-03",
          "2021-04",
          "2021-05",
          "2021-06",
          "2021-07",
          "2021-08",
          "2021-09",
          "2021-10",
          "2021-11",
          "2021-12",
          "2022-01",
          "2022-02",
          "2022-03",
          "2022-04",
          "2022-05",
          "2022-06",
          "2022-07",
          "2022-08",
          "2022-09",
          "2022-10",
          "2022-11",
          "2022-12",
          "2023-01",
          "2023-02",
          "2023-03",
          "2023-04",
          "2023-05",
          "2023-06",
          "2023-07"
         ],
         "xaxis": "x",
         "y": [
          0.12912806576208927,
          -0.08793924588195927,
          0.2922702705828104,
          0.11168351823349988,
          0.2977001716337782,
          0.2685936425163793,
          0.23165832716449897,
          0.19794129460941706,
          0.31874296243657024,
          0.20537957545898397,
          0.09733511172125697,
          0.20607939318565635,
          0.05792971156944144,
          0.2639044987978204,
          0.2536582735579456,
          0.21604671369667272,
          0.2651958589073671,
          0.1397557547178194,
          0.3042260538999882,
          0.3026833989525176,
          0.33567929367370186,
          0.048792774013345565,
          0.3988800923795043,
          0.12999499389486763,
          0.01072981639317667,
          0.1548820487790756,
          0.014700171467760875,
          0.16600022628928293,
          0.1672294199705241,
          0.12259032899247783,
          0.10236937210370932
         ],
         "yaxis": "y"
        },
        {
         "hovertemplate": "town=geylang<br>rent_approval_date=%{x}<br>near_mrt_count=%{y}<extra></extra>",
         "legendgroup": "geylang",
         "line": {
          "color": "#636efa",
          "dash": "solid"
         },
         "marker": {
          "symbol": "circle"
         },
         "mode": "lines",
         "name": "geylang",
         "orientation": "v",
         "showlegend": true,
         "type": "scatter",
         "x": [
          "2021-01",
          "2021-02",
          "2021-03",
          "2021-04",
          "2021-05",
          "2021-06",
          "2021-07",
          "2021-08",
          "2021-09",
          "2021-10",
          "2021-11",
          "2021-12",
          "2022-01",
          "2022-02",
          "2022-03",
          "2022-04",
          "2022-05",
          "2022-06",
          "2022-07",
          "2022-08",
          "2022-09",
          "2022-10",
          "2022-11",
          "2022-12",
          "2023-01",
          "2023-02",
          "2023-03",
          "2023-04",
          "2023-05",
          "2023-06",
          "2023-07"
         ],
         "xaxis": "x",
         "y": [
          0.0056547544200531066,
          0.0850724723052275,
          -0.06650343166487252,
          -0.0575013504727945,
          0.02881606906347546,
          -0.1268941169041966,
          -0.24911908667049532,
          0.07180572050304178,
          -0.09596252563415059,
          -0.0003657795732354883,
          -0.0316988503038784,
          -0.32393650296693716,
          -0.06708488040373348,
          0.05348168689170239,
          -0.06054535074377344,
          -0.10878795282508906,
          0.009212516030371463,
          0.032062305529225,
          -0.2538984339589411,
          0.24571982037823184,
          -0.07255082875407196,
          -0.07619750611297776,
          0.007745247601716162,
          0.032066928403115265,
          0.060760479831196874,
          0.06176837550728246,
          -0.09788584995583782,
          -0.2830563965331134,
          -0.04873101251965675,
          -0.11222589818813825,
          0.16302582063955162
         ],
         "yaxis": "y"
        },
        {
         "hovertemplate": "town=hougang<br>rent_approval_date=%{x}<br>near_mrt_count=%{y}<extra></extra>",
         "legendgroup": "hougang",
         "line": {
          "color": "#EF553B",
          "dash": "solid"
         },
         "marker": {
          "symbol": "circle"
         },
         "mode": "lines",
         "name": "hougang",
         "orientation": "v",
         "showlegend": true,
         "type": "scatter",
         "x": [
          "2021-01",
          "2021-02",
          "2021-03",
          "2021-04",
          "2021-05",
          "2021-06",
          "2021-07",
          "2021-08",
          "2021-09",
          "2021-10",
          "2021-11",
          "2021-12",
          "2022-01",
          "2022-02",
          "2022-03",
          "2022-04",
          "2022-05",
          "2022-06",
          "2022-07",
          "2022-08",
          "2022-09",
          "2022-10",
          "2022-11",
          "2022-12",
          "2023-01",
          "2023-02",
          "2023-03",
          "2023-04",
          "2023-05",
          "2023-06",
          "2023-07"
         ],
         "xaxis": "x",
         "y": [
          -0.06055503447030852,
          -0.11027813406288234,
          -0.018387634744427388,
          -0.05142495403609184,
          0.018441556342864096,
          -0.12175154012229013,
          0.11667041078404679,
          0.07769423597176457,
          0.013181063677551647,
          -0.05458479743629834,
          -0.015025779293079937,
          0.013545660449673995,
          0.004065726350634414,
          -0.1959160402331571,
          -0.26074185497828317,
          -0.12990713283350808,
          -0.23028719082644628,
          0.03632182034011714,
          -0.06967650475116664,
          -0.17534865177495745,
          0.13341814422743783,
          0.25812312539473065,
          0.21830523860190837,
          -0.18774806792600804,
          -0.11079595733299845,
          -0.10488081542135759,
          0.05826898588893559,
          -0.09648136368791402,
          -0.021396881161119954,
          -0.024110101213532697,
          0.021432607579962293
         ],
         "yaxis": "y"
        },
        {
         "hovertemplate": "town=jurong east<br>rent_approval_date=%{x}<br>near_mrt_count=%{y}<extra></extra>",
         "legendgroup": "jurong east",
         "line": {
          "color": "#00cc96",
          "dash": "solid"
         },
         "marker": {
          "symbol": "circle"
         },
         "mode": "lines",
         "name": "jurong east",
         "orientation": "v",
         "showlegend": true,
         "type": "scatter",
         "x": [
          "2021-01",
          "2021-02",
          "2021-03",
          "2021-04",
          "2021-05",
          "2021-06",
          "2021-07",
          "2021-08",
          "2021-09",
          "2021-10",
          "2021-11",
          "2021-12",
          "2022-01",
          "2022-02",
          "2022-03",
          "2022-04",
          "2022-05",
          "2022-06",
          "2022-07",
          "2022-08",
          "2022-09",
          "2022-10",
          "2022-11",
          "2022-12",
          "2023-01",
          "2023-02",
          "2023-03",
          "2023-04",
          "2023-05",
          "2023-06",
          "2023-07"
         ],
         "xaxis": "x",
         "y": [
          0.1342639714511326,
          0.12260303937021957,
          0.08340900608503336,
          -0.09844448316586783,
          -0.04135124897168367,
          0.03692760669818005,
          0.12014008851970595,
          0.12443980075390058,
          0.3527455056690714,
          0.08861559941572578,
          -0.019083571544919718,
          0.09163882071210354,
          0.130979791581959,
          0.03357285424592992,
          -0.07899864965853935,
          0.07928241469077935,
          -0.05532401077318529,
          0.1505076015992744,
          0.34374724626285985,
          0.244973123114345,
          0.2539031493750139,
          -0.1195417896965342,
          0.060008852546848276,
          0.16604049198124157,
          0.12618470674279647,
          0.13500374467126028,
          0.1723306980404883,
          0.08037753704330282,
          -0.19858821206394386,
          0.10961400697346818,
          0.0914733247933829
         ],
         "yaxis": "y"
        },
        {
         "hovertemplate": "town=jurong west<br>rent_approval_date=%{x}<br>near_mrt_count=%{y}<extra></extra>",
         "legendgroup": "jurong west",
         "line": {
          "color": "#ab63fa",
          "dash": "solid"
         },
         "marker": {
          "symbol": "circle"
         },
         "mode": "lines",
         "name": "jurong west",
         "orientation": "v",
         "showlegend": true,
         "type": "scatter",
         "x": [
          "2021-01",
          "2021-02",
          "2021-03",
          "2021-04",
          "2021-05",
          "2021-06",
          "2021-07",
          "2021-08",
          "2021-09",
          "2021-10",
          "2021-11",
          "2021-12",
          "2022-01",
          "2022-02",
          "2022-03",
          "2022-04",
          "2022-05",
          "2022-06",
          "2022-07",
          "2022-08",
          "2022-09",
          "2022-10",
          "2022-11",
          "2022-12",
          "2023-01",
          "2023-02",
          "2023-03",
          "2023-04",
          "2023-05",
          "2023-06",
          "2023-07"
         ],
         "xaxis": "x",
         "y": [
          0.1506025701669475,
          0.16678133041533302,
          0.18391752293369756,
          0.01403876658816151,
          0.11327314748586399,
          0.15557893002510526,
          0.009698605096813646,
          0.15097424329669218,
          0.1839829530415583,
          0.001257115179583004,
          0.019609399155354663,
          0.015786973978075786,
          -0.017722964010840878,
          0.1770959967564808,
          0.09842063868125418,
          0.10211169536395798,
          -0.0522033002531416,
          0.11896180041682322,
          0.2383160180624468,
          0.02067276089607248,
          0.026337581117752657,
          0.15611436459166575,
          -0.13457749012876422,
          0.09219508650988972,
          0.05817985971696684,
          0.15017415563023034,
          0.23495961684212485,
          0.08091595447272722,
          0.029007965752547667,
          0.07371713022127821,
          0.20900347705483102
         ],
         "yaxis": "y"
        },
        {
         "hovertemplate": "town=kallang/whampoa<br>rent_approval_date=%{x}<br>near_mrt_count=%{y}<extra></extra>",
         "legendgroup": "kallang/whampoa",
         "line": {
          "color": "#FFA15A",
          "dash": "solid"
         },
         "marker": {
          "symbol": "circle"
         },
         "mode": "lines",
         "name": "kallang/whampoa",
         "orientation": "v",
         "showlegend": true,
         "type": "scatter",
         "x": [
          "2021-01",
          "2021-02",
          "2021-03",
          "2021-04",
          "2021-05",
          "2021-06",
          "2021-07",
          "2021-08",
          "2021-09",
          "2021-10",
          "2021-11",
          "2021-12",
          "2022-01",
          "2022-02",
          "2022-03",
          "2022-04",
          "2022-05",
          "2022-06",
          "2022-07",
          "2022-08",
          "2022-09",
          "2022-10",
          "2022-11",
          "2022-12",
          "2023-01",
          "2023-02",
          "2023-03",
          "2023-04",
          "2023-05",
          "2023-06",
          "2023-07"
         ],
         "xaxis": "x",
         "y": [
          0.39422984040614284,
          0.261384724466627,
          0.13648679657204,
          0.2872196084520531,
          0.3320633272635683,
          0.3737414298782771,
          0.11174227025914688,
          0.22046856707963008,
          0.2307613467774652,
          0.10214452421333402,
          0.3959983614331696,
          0.17282739907365421,
          0.36603550034310517,
          0.3679510232105107,
          0.05171279673854649,
          0.36243759842961176,
          -0.07591241066073132,
          0.2260715389835101,
          -0.027175257796932244,
          0.366775240747654,
          0.02429219861654674,
          0.4210673446180184,
          0.06834240159715951,
          0.15569061983385868,
          0.30898969255516523,
          0.0721613679945816,
          0.04045020289754023,
          0.12031515859231859,
          0.29140093478867457,
          0.13653363444953406,
          0.24862730617747544
         ],
         "yaxis": "y"
        },
        {
         "hovertemplate": "town=marine parade<br>rent_approval_date=%{x}<br>near_mrt_count=%{y}<extra></extra>",
         "legendgroup": "marine parade",
         "line": {
          "color": "#19d3f3",
          "dash": "solid"
         },
         "marker": {
          "symbol": "circle"
         },
         "mode": "lines",
         "name": "marine parade",
         "orientation": "v",
         "showlegend": true,
         "type": "scatter",
         "x": [
          "2021-01",
          "2021-02",
          "2021-03",
          "2021-04",
          "2021-05",
          "2021-06",
          "2021-07",
          "2021-08",
          "2021-09",
          "2021-10",
          "2021-11",
          "2021-12",
          "2022-01",
          "2022-02",
          "2022-03",
          "2022-04",
          "2022-05",
          "2022-06",
          "2022-07",
          "2022-08",
          "2022-09",
          "2022-10",
          "2022-11",
          "2022-12",
          "2023-01",
          "2023-02",
          "2023-03",
          "2023-04",
          "2023-05",
          "2023-06",
          "2023-07"
         ],
         "xaxis": "x",
         "y": [
          null,
          null,
          null,
          null,
          null,
          null,
          null,
          null,
          null,
          null,
          null,
          null,
          null,
          null,
          null,
          null,
          null,
          null,
          null,
          null,
          null,
          null,
          null,
          null,
          null,
          null,
          null,
          null,
          null,
          null,
          null
         ],
         "yaxis": "y"
        },
        {
         "hovertemplate": "town=pasir ris<br>rent_approval_date=%{x}<br>near_mrt_count=%{y}<extra></extra>",
         "legendgroup": "pasir ris",
         "line": {
          "color": "#FF6692",
          "dash": "solid"
         },
         "marker": {
          "symbol": "circle"
         },
         "mode": "lines",
         "name": "pasir ris",
         "orientation": "v",
         "showlegend": true,
         "type": "scatter",
         "x": [
          "2021-01",
          "2021-02",
          "2021-03",
          "2021-04",
          "2021-05",
          "2021-06",
          "2021-07",
          "2021-08",
          "2021-09",
          "2021-10",
          "2021-11",
          "2021-12",
          "2022-01",
          "2022-02",
          "2022-03",
          "2022-04",
          "2022-05",
          "2022-06",
          "2022-07",
          "2022-08",
          "2022-09",
          "2022-10",
          "2022-11",
          "2022-12",
          "2023-01",
          "2023-02",
          "2023-03",
          "2023-04",
          "2023-05",
          "2023-06",
          "2023-07"
         ],
         "xaxis": "x",
         "y": [
          0.19643393062520806,
          0.08218456172219657,
          0.4245604487929434,
          0.090262816846932,
          0.24685432517024194,
          0.24935314241762777,
          0.19927300192294178,
          0.21840169440301288,
          0.20081326205341773,
          0.22782083529086217,
          0.26149909710495195,
          0.11773615151296411,
          0.27017147568308847,
          0.37046228790541263,
          0.27850921597791245,
          -0.08610847281139335,
          0.30967979879903124,
          0.2154010900848043,
          0.15972317677151118,
          0.1536512864438896,
          -0.0714648770124779,
          0.10745796360882028,
          0.0819407707723054,
          0.12688463433312808,
          0.2270800828789413,
          0.3007931127806087,
          0.24717939693081295,
          0.10355944319724927,
          0.2781152363266056,
          0.03073243224873811,
          0.2574627978006062
         ],
         "yaxis": "y"
        },
        {
         "hovertemplate": "town=punggol<br>rent_approval_date=%{x}<br>near_mrt_count=%{y}<extra></extra>",
         "legendgroup": "punggol",
         "line": {
          "color": "#B6E880",
          "dash": "solid"
         },
         "marker": {
          "symbol": "circle"
         },
         "mode": "lines",
         "name": "punggol",
         "orientation": "v",
         "showlegend": true,
         "type": "scatter",
         "x": [
          "2021-01",
          "2021-02",
          "2021-03",
          "2021-04",
          "2021-05",
          "2021-06",
          "2021-07",
          "2021-08",
          "2021-09",
          "2021-10",
          "2021-11",
          "2021-12",
          "2022-01",
          "2022-02",
          "2022-03",
          "2022-04",
          "2022-05",
          "2022-06",
          "2022-07",
          "2022-08",
          "2022-09",
          "2022-10",
          "2022-11",
          "2022-12",
          "2023-01",
          "2023-02",
          "2023-03",
          "2023-04",
          "2023-05",
          "2023-06",
          "2023-07"
         ],
         "xaxis": "x",
         "y": [
          0.36261316691017054,
          0.3696108456774881,
          0.20448001165851737,
          0.21959428324784502,
          0.30983663220953295,
          0.05374932175364667,
          0.34366278648135107,
          0.3824732977365312,
          0.018370001197240755,
          0.08455900147624391,
          0.3332575706421175,
          0.3437090266973462,
          0.16516945869535815,
          0.01139518921246064,
          0.06972029101162708,
          0.3848265000607476,
          0.03792702915722728,
          0.10812720716485791,
          0.16470808299902778,
          0.3170326034394484,
          0.2507022966799746,
          0.06864048703404044,
          0.21092546444939345,
          0.06754887799548748,
          0.07406092040356105,
          0.1389360926887966,
          0.08272519512390525,
          0.1781759470663534,
          0.11140546573076358,
          -0.055880740613577964,
          0.13563396794848606
         ],
         "yaxis": "y"
        },
        {
         "hovertemplate": "town=queenstown<br>rent_approval_date=%{x}<br>near_mrt_count=%{y}<extra></extra>",
         "legendgroup": "queenstown",
         "line": {
          "color": "#FF97FF",
          "dash": "solid"
         },
         "marker": {
          "symbol": "circle"
         },
         "mode": "lines",
         "name": "queenstown",
         "orientation": "v",
         "showlegend": true,
         "type": "scatter",
         "x": [
          "2021-01",
          "2021-02",
          "2021-03",
          "2021-04",
          "2021-05",
          "2021-06",
          "2021-07",
          "2021-08",
          "2021-09",
          "2021-10",
          "2021-11",
          "2021-12",
          "2022-01",
          "2022-02",
          "2022-03",
          "2022-04",
          "2022-05",
          "2022-06",
          "2022-07",
          "2022-08",
          "2022-09",
          "2022-10",
          "2022-11",
          "2022-12",
          "2023-01",
          "2023-02",
          "2023-03",
          "2023-04",
          "2023-05",
          "2023-06",
          "2023-07"
         ],
         "xaxis": "x",
         "y": [
          -0.16346477541328222,
          -0.20157709871192606,
          -0.09631067556567106,
          -0.010060863720966966,
          0.041289676085209615,
          -0.10972854588957592,
          -0.1359716949400472,
          -0.22391601368114666,
          -0.18544139159183773,
          -0.1520839456110628,
          -0.3755928902996769,
          -0.09889797718825913,
          -0.20969168638911198,
          0.04312524143690412,
          -0.2588879620807654,
          0.00570480598783088,
          -0.19785717280026133,
          0.13131816469977609,
          -0.12739807361270036,
          -0.13308632626640324,
          0.029313217513201647,
          0.1840053236303586,
          -0.134138741418597,
          0.10736975561916048,
          -0.0546223675221992,
          -0.18638465122194026,
          -0.0781970666623922,
          -0.09734741627879046,
          -0.16688955681031972,
          0.026718062427438346,
          0.11038920066347416
         ],
         "yaxis": "y"
        },
        {
         "hovertemplate": "town=sembawang<br>rent_approval_date=%{x}<br>near_mrt_count=%{y}<extra></extra>",
         "legendgroup": "sembawang",
         "line": {
          "color": "#FECB52",
          "dash": "solid"
         },
         "marker": {
          "symbol": "circle"
         },
         "mode": "lines",
         "name": "sembawang",
         "orientation": "v",
         "showlegend": true,
         "type": "scatter",
         "x": [
          "2021-01",
          "2021-02",
          "2021-03",
          "2021-04",
          "2021-05",
          "2021-06",
          "2021-07",
          "2021-08",
          "2021-09",
          "2021-10",
          "2021-11",
          "2021-12",
          "2022-01",
          "2022-02",
          "2022-03",
          "2022-04",
          "2022-05",
          "2022-06",
          "2022-07",
          "2022-08",
          "2022-09",
          "2022-10",
          "2022-11",
          "2022-12",
          "2023-01",
          "2023-02",
          "2023-03",
          "2023-04",
          "2023-05",
          "2023-06",
          "2023-07"
         ],
         "xaxis": "x",
         "y": [
          0.15692863795731674,
          0.14305069740524046,
          0.17501438578291237,
          -0.07823545179337922,
          0.06765604658856789,
          -0.05968454610363247,
          0.3106878284463342,
          0.2292635848057916,
          0.1798139329257564,
          -0.15384359245007817,
          0.3444632055546555,
          0.2812881030727078,
          0.1437386334494949,
          -0.28261204813248614,
          -0.014758611383107332,
          0.12345811643504288,
          -0.020873222307872974,
          -0.16020262310086344,
          0.07466787381906378,
          -0.23718198362053622,
          0.029907051490119105,
          0.08519252557919423,
          -0.012526744121617956,
          -0.01526069322498991,
          -0.1869876286971585,
          0.16673093809717113,
          -0.07787052347228661,
          -0.2296552973621016,
          -0.07226647422940799,
          0.265833210323578,
          -0.21783085692380155
         ],
         "yaxis": "y"
        },
        {
         "hovertemplate": "town=sengkang<br>rent_approval_date=%{x}<br>near_mrt_count=%{y}<extra></extra>",
         "legendgroup": "sengkang",
         "line": {
          "color": "#636efa",
          "dash": "solid"
         },
         "marker": {
          "symbol": "circle"
         },
         "mode": "lines",
         "name": "sengkang",
         "orientation": "v",
         "showlegend": true,
         "type": "scatter",
         "x": [
          "2021-01",
          "2021-02",
          "2021-03",
          "2021-04",
          "2021-05",
          "2021-06",
          "2021-07",
          "2021-08",
          "2021-09",
          "2021-10",
          "2021-11",
          "2021-12",
          "2022-01",
          "2022-02",
          "2022-03",
          "2022-04",
          "2022-05",
          "2022-06",
          "2022-07",
          "2022-08",
          "2022-09",
          "2022-10",
          "2022-11",
          "2022-12",
          "2023-01",
          "2023-02",
          "2023-03",
          "2023-04",
          "2023-05",
          "2023-06",
          "2023-07"
         ],
         "xaxis": "x",
         "y": [
          -0.02521853045480599,
          -0.12973626632084123,
          0.01950790315678443,
          0.10231112624346124,
          -0.14428660844119884,
          0.07030432312722408,
          -0.046585732222834735,
          -0.033624311731640655,
          -0.011751615215955103,
          0.0026597575553950733,
          0.05446801474703755,
          0.012205446288826303,
          0.0510089799409923,
          0.05315072675911125,
          -0.1254616223807971,
          -0.09931074392135755,
          -0.16406812261751452,
          -0.15139500063976377,
          -0.13594146618199784,
          -0.24284818881633408,
          -0.08051916088949874,
          0.025138017063820076,
          0.21026490088006028,
          0.01269046520071227,
          -0.1801968187316044,
          -0.2147787288537838,
          -0.011036048799793668,
          -0.06090638343072524,
          -0.14733141791698484,
          0.0007143494628554256,
          0.040614751798757585
         ],
         "yaxis": "y"
        },
        {
         "hovertemplate": "town=serangoon<br>rent_approval_date=%{x}<br>near_mrt_count=%{y}<extra></extra>",
         "legendgroup": "serangoon",
         "line": {
          "color": "#EF553B",
          "dash": "solid"
         },
         "marker": {
          "symbol": "circle"
         },
         "mode": "lines",
         "name": "serangoon",
         "orientation": "v",
         "showlegend": true,
         "type": "scatter",
         "x": [
          "2021-01",
          "2021-02",
          "2021-03",
          "2021-04",
          "2021-05",
          "2021-06",
          "2021-07",
          "2021-08",
          "2021-09",
          "2021-10",
          "2021-11",
          "2021-12",
          "2022-01",
          "2022-02",
          "2022-03",
          "2022-04",
          "2022-05",
          "2022-06",
          "2022-07",
          "2022-08",
          "2022-09",
          "2022-10",
          "2022-11",
          "2022-12",
          "2023-01",
          "2023-02",
          "2023-03",
          "2023-04",
          "2023-05",
          "2023-06",
          "2023-07"
         ],
         "xaxis": "x",
         "y": [
          0.5318140187672573,
          0.4570918837361924,
          0.46489275311329936,
          0.34057758113041336,
          0.504666533686271,
          0.4707793898891475,
          0.7284187331690443,
          0.6034510666471544,
          0.051861941416179815,
          0.4571459232288576,
          0.55103423762382,
          0.4787607791666276,
          0.38210859765422056,
          0.18277367554684953,
          0.41993404764726244,
          0.40541956881255015,
          0.3135521520171651,
          -0.12810737206406048,
          0.4233710170963275,
          0.37217281314368017,
          0.25526911163815585,
          -0.007244810613476046,
          0.09064865873915544,
          0.45844687720800276,
          0.1125274708113424,
          0.1952799480866999,
          0.4806478584178238,
          0.41292003390414667,
          0.38950353325860987,
          0.40429422874463705,
          0.30210715403252425
         ],
         "yaxis": "y"
        },
        {
         "hovertemplate": "town=tampines<br>rent_approval_date=%{x}<br>near_mrt_count=%{y}<extra></extra>",
         "legendgroup": "tampines",
         "line": {
          "color": "#00cc96",
          "dash": "solid"
         },
         "marker": {
          "symbol": "circle"
         },
         "mode": "lines",
         "name": "tampines",
         "orientation": "v",
         "showlegend": true,
         "type": "scatter",
         "x": [
          "2021-01",
          "2021-02",
          "2021-03",
          "2021-04",
          "2021-05",
          "2021-06",
          "2021-07",
          "2021-08",
          "2021-09",
          "2021-10",
          "2021-11",
          "2021-12",
          "2022-01",
          "2022-02",
          "2022-03",
          "2022-04",
          "2022-05",
          "2022-06",
          "2022-07",
          "2022-08",
          "2022-09",
          "2022-10",
          "2022-11",
          "2022-12",
          "2023-01",
          "2023-02",
          "2023-03",
          "2023-04",
          "2023-05",
          "2023-06",
          "2023-07"
         ],
         "xaxis": "x",
         "y": [
          0.18193099630810744,
          0.2659567151333456,
          0.11557653488297145,
          0.10796819251552246,
          0.14296577120329024,
          0.16178704979829023,
          0.2009856553197587,
          0.04617303268641354,
          0.2642955929687638,
          0.06013140574100119,
          0.18917533957558663,
          0.16679423689881698,
          0.19730253000934908,
          0.2660893231628,
          0.15931577399129696,
          0.08563669672457107,
          -0.018678999667563454,
          0.08703636664661257,
          0.16941403457498883,
          0.012998234448502307,
          0.19485155649182082,
          0.17618110621833927,
          0.3090341050686188,
          0.13929598892539688,
          0.1832036936119058,
          0.0447341769610944,
          0.18548512005637033,
          -0.03847270020380922,
          0.11372658138237195,
          -0.07846559462426969,
          -0.08594309946255169
         ],
         "yaxis": "y"
        },
        {
         "hovertemplate": "town=toa payoh<br>rent_approval_date=%{x}<br>near_mrt_count=%{y}<extra></extra>",
         "legendgroup": "toa payoh",
         "line": {
          "color": "#ab63fa",
          "dash": "solid"
         },
         "marker": {
          "symbol": "circle"
         },
         "mode": "lines",
         "name": "toa payoh",
         "orientation": "v",
         "showlegend": true,
         "type": "scatter",
         "x": [
          "2021-01",
          "2021-02",
          "2021-03",
          "2021-04",
          "2021-05",
          "2021-06",
          "2021-07",
          "2021-08",
          "2021-09",
          "2021-10",
          "2021-11",
          "2021-12",
          "2022-01",
          "2022-02",
          "2022-03",
          "2022-04",
          "2022-05",
          "2022-06",
          "2022-07",
          "2022-08",
          "2022-09",
          "2022-10",
          "2022-11",
          "2022-12",
          "2023-01",
          "2023-02",
          "2023-03",
          "2023-04",
          "2023-05",
          "2023-06",
          "2023-07"
         ],
         "xaxis": "x",
         "y": [
          0.27421689056646403,
          0.19602192485885858,
          0.1937814756972705,
          0.0710919407940699,
          0.3901728280447526,
          0.14396098109058436,
          0.2205489580596525,
          0.25324486698070114,
          0.42720010768355005,
          0.37042649608373035,
          0.3219752674327357,
          0.21678464189391183,
          0.1914455565518216,
          0.1849963742486801,
          0.09671026289244658,
          0.2552744918581074,
          0.19864106984152083,
          0.14604904008287228,
          0.09104637922698824,
          0.07454275021161602,
          0.27937444248580867,
          0.17241015495624734,
          -0.031218411944849214,
          0.3061452560849838,
          0.07346027455207044,
          0.20656655670638518,
          0.20732511850614957,
          0.19740499733402597,
          0.18294893692101102,
          0.49547515540707326,
          0.2050669623475367
         ],
         "yaxis": "y"
        },
        {
         "hovertemplate": "town=woodlands<br>rent_approval_date=%{x}<br>near_mrt_count=%{y}<extra></extra>",
         "legendgroup": "woodlands",
         "line": {
          "color": "#FFA15A",
          "dash": "solid"
         },
         "marker": {
          "symbol": "circle"
         },
         "mode": "lines",
         "name": "woodlands",
         "orientation": "v",
         "showlegend": true,
         "type": "scatter",
         "x": [
          "2021-01",
          "2021-02",
          "2021-03",
          "2021-04",
          "2021-05",
          "2021-06",
          "2021-07",
          "2021-08",
          "2021-09",
          "2021-10",
          "2021-11",
          "2021-12",
          "2022-01",
          "2022-02",
          "2022-03",
          "2022-04",
          "2022-05",
          "2022-06",
          "2022-07",
          "2022-08",
          "2022-09",
          "2022-10",
          "2022-11",
          "2022-12",
          "2023-01",
          "2023-02",
          "2023-03",
          "2023-04",
          "2023-05",
          "2023-06",
          "2023-07"
         ],
         "xaxis": "x",
         "y": [
          -0.15678464744208884,
          -0.2226775010305322,
          -0.21550575574892822,
          -0.11425465021711685,
          -0.14502270280785962,
          -0.07647965634952197,
          0.1116794740118098,
          -0.15278018385150127,
          -0.24677724799146283,
          0.014783788113834935,
          -0.015813415265916713,
          -0.17733355137548423,
          -0.17676570175527764,
          -0.08920355738216482,
          0.11616531154396459,
          0.019742467463037,
          0.046219863147076636,
          -0.21019219116689114,
          -0.0023886393314279377,
          -0.11325470244582951,
          -0.1557934335032312,
          -0.12000506286440787,
          -0.136359067768307,
          -0.08033507154600415,
          -0.2448336118673891,
          -0.13454058966063123,
          -0.27801087529978535,
          -0.1026995036373216,
          -0.18266559006981925,
          -0.05157759773358241,
          -0.16751068158258567
         ],
         "yaxis": "y"
        },
        {
         "hovertemplate": "town=yishun<br>rent_approval_date=%{x}<br>near_mrt_count=%{y}<extra></extra>",
         "legendgroup": "yishun",
         "line": {
          "color": "#19d3f3",
          "dash": "solid"
         },
         "marker": {
          "symbol": "circle"
         },
         "mode": "lines",
         "name": "yishun",
         "orientation": "v",
         "showlegend": true,
         "type": "scatter",
         "x": [
          "2021-01",
          "2021-02",
          "2021-03",
          "2021-04",
          "2021-05",
          "2021-06",
          "2021-07",
          "2021-08",
          "2021-09",
          "2021-10",
          "2021-11",
          "2021-12",
          "2022-01",
          "2022-02",
          "2022-03",
          "2022-04",
          "2022-05",
          "2022-06",
          "2022-07",
          "2022-08",
          "2022-09",
          "2022-10",
          "2022-11",
          "2022-12",
          "2023-01",
          "2023-02",
          "2023-03",
          "2023-04",
          "2023-05",
          "2023-06",
          "2023-07"
         ],
         "xaxis": "x",
         "y": [
          0.06259627147141232,
          0.056849306672358546,
          0.11399895629841907,
          0.09588210366256786,
          -0.08464046506549158,
          0.08645565638050609,
          0.1413078755811182,
          0.008346739173047195,
          -0.0153710271276735,
          -0.024990615216755673,
          0.12467355508610331,
          -0.11157365975258401,
          0.056689816420893886,
          -0.057866039031698,
          0.07833925032320284,
          0.05570796358712443,
          0.07186282651241818,
          -0.027947019627425084,
          0.18094208394743153,
          -0.10953537679949858,
          0.15702115847205544,
          -0.01603057667679267,
          0.0027055380876765604,
          -0.17309421563356162,
          0.07034375614519456,
          -0.15318066751530626,
          -0.143474789821988,
          0.034637657992313525,
          0.06541563113173908,
          0.10967210082770695,
          -0.11335676644732641
         ],
         "yaxis": "y"
        }
       ],
       "layout": {
        "legend": {
         "title": {
          "text": "town"
         },
         "tracegroupgap": 0
        },
        "margin": {
         "t": 60
        },
        "template": {
         "data": {
          "bar": [
           {
            "error_x": {
             "color": "#2a3f5f"
            },
            "error_y": {
             "color": "#2a3f5f"
            },
            "marker": {
             "line": {
              "color": "#E5ECF6",
              "width": 0.5
             },
             "pattern": {
              "fillmode": "overlay",
              "size": 10,
              "solidity": 0.2
             }
            },
            "type": "bar"
           }
          ],
          "barpolar": [
           {
            "marker": {
             "line": {
              "color": "#E5ECF6",
              "width": 0.5
             },
             "pattern": {
              "fillmode": "overlay",
              "size": 10,
              "solidity": 0.2
             }
            },
            "type": "barpolar"
           }
          ],
          "carpet": [
           {
            "aaxis": {
             "endlinecolor": "#2a3f5f",
             "gridcolor": "white",
             "linecolor": "white",
             "minorgridcolor": "white",
             "startlinecolor": "#2a3f5f"
            },
            "baxis": {
             "endlinecolor": "#2a3f5f",
             "gridcolor": "white",
             "linecolor": "white",
             "minorgridcolor": "white",
             "startlinecolor": "#2a3f5f"
            },
            "type": "carpet"
           }
          ],
          "choropleth": [
           {
            "colorbar": {
             "outlinewidth": 0,
             "ticks": ""
            },
            "type": "choropleth"
           }
          ],
          "contour": [
           {
            "colorbar": {
             "outlinewidth": 0,
             "ticks": ""
            },
            "colorscale": [
             [
              0,
              "#0d0887"
             ],
             [
              0.1111111111111111,
              "#46039f"
             ],
             [
              0.2222222222222222,
              "#7201a8"
             ],
             [
              0.3333333333333333,
              "#9c179e"
             ],
             [
              0.4444444444444444,
              "#bd3786"
             ],
             [
              0.5555555555555556,
              "#d8576b"
             ],
             [
              0.6666666666666666,
              "#ed7953"
             ],
             [
              0.7777777777777778,
              "#fb9f3a"
             ],
             [
              0.8888888888888888,
              "#fdca26"
             ],
             [
              1,
              "#f0f921"
             ]
            ],
            "type": "contour"
           }
          ],
          "contourcarpet": [
           {
            "colorbar": {
             "outlinewidth": 0,
             "ticks": ""
            },
            "type": "contourcarpet"
           }
          ],
          "heatmap": [
           {
            "colorbar": {
             "outlinewidth": 0,
             "ticks": ""
            },
            "colorscale": [
             [
              0,
              "#0d0887"
             ],
             [
              0.1111111111111111,
              "#46039f"
             ],
             [
              0.2222222222222222,
              "#7201a8"
             ],
             [
              0.3333333333333333,
              "#9c179e"
             ],
             [
              0.4444444444444444,
              "#bd3786"
             ],
             [
              0.5555555555555556,
              "#d8576b"
             ],
             [
              0.6666666666666666,
              "#ed7953"
             ],
             [
              0.7777777777777778,
              "#fb9f3a"
             ],
             [
              0.8888888888888888,
              "#fdca26"
             ],
             [
              1,
              "#f0f921"
             ]
            ],
            "type": "heatmap"
           }
          ],
          "heatmapgl": [
           {
            "colorbar": {
             "outlinewidth": 0,
             "ticks": ""
            },
            "colorscale": [
             [
              0,
              "#0d0887"
             ],
             [
              0.1111111111111111,
              "#46039f"
             ],
             [
              0.2222222222222222,
              "#7201a8"
             ],
             [
              0.3333333333333333,
              "#9c179e"
             ],
             [
              0.4444444444444444,
              "#bd3786"
             ],
             [
              0.5555555555555556,
              "#d8576b"
             ],
             [
              0.6666666666666666,
              "#ed7953"
             ],
             [
              0.7777777777777778,
              "#fb9f3a"
             ],
             [
              0.8888888888888888,
              "#fdca26"
             ],
             [
              1,
              "#f0f921"
             ]
            ],
            "type": "heatmapgl"
           }
          ],
          "histogram": [
           {
            "marker": {
             "pattern": {
              "fillmode": "overlay",
              "size": 10,
              "solidity": 0.2
             }
            },
            "type": "histogram"
           }
          ],
          "histogram2d": [
           {
            "colorbar": {
             "outlinewidth": 0,
             "ticks": ""
            },
            "colorscale": [
             [
              0,
              "#0d0887"
             ],
             [
              0.1111111111111111,
              "#46039f"
             ],
             [
              0.2222222222222222,
              "#7201a8"
             ],
             [
              0.3333333333333333,
              "#9c179e"
             ],
             [
              0.4444444444444444,
              "#bd3786"
             ],
             [
              0.5555555555555556,
              "#d8576b"
             ],
             [
              0.6666666666666666,
              "#ed7953"
             ],
             [
              0.7777777777777778,
              "#fb9f3a"
             ],
             [
              0.8888888888888888,
              "#fdca26"
             ],
             [
              1,
              "#f0f921"
             ]
            ],
            "type": "histogram2d"
           }
          ],
          "histogram2dcontour": [
           {
            "colorbar": {
             "outlinewidth": 0,
             "ticks": ""
            },
            "colorscale": [
             [
              0,
              "#0d0887"
             ],
             [
              0.1111111111111111,
              "#46039f"
             ],
             [
              0.2222222222222222,
              "#7201a8"
             ],
             [
              0.3333333333333333,
              "#9c179e"
             ],
             [
              0.4444444444444444,
              "#bd3786"
             ],
             [
              0.5555555555555556,
              "#d8576b"
             ],
             [
              0.6666666666666666,
              "#ed7953"
             ],
             [
              0.7777777777777778,
              "#fb9f3a"
             ],
             [
              0.8888888888888888,
              "#fdca26"
             ],
             [
              1,
              "#f0f921"
             ]
            ],
            "type": "histogram2dcontour"
           }
          ],
          "mesh3d": [
           {
            "colorbar": {
             "outlinewidth": 0,
             "ticks": ""
            },
            "type": "mesh3d"
           }
          ],
          "parcoords": [
           {
            "line": {
             "colorbar": {
              "outlinewidth": 0,
              "ticks": ""
             }
            },
            "type": "parcoords"
           }
          ],
          "pie": [
           {
            "automargin": true,
            "type": "pie"
           }
          ],
          "scatter": [
           {
            "fillpattern": {
             "fillmode": "overlay",
             "size": 10,
             "solidity": 0.2
            },
            "type": "scatter"
           }
          ],
          "scatter3d": [
           {
            "line": {
             "colorbar": {
              "outlinewidth": 0,
              "ticks": ""
             }
            },
            "marker": {
             "colorbar": {
              "outlinewidth": 0,
              "ticks": ""
             }
            },
            "type": "scatter3d"
           }
          ],
          "scattercarpet": [
           {
            "marker": {
             "colorbar": {
              "outlinewidth": 0,
              "ticks": ""
             }
            },
            "type": "scattercarpet"
           }
          ],
          "scattergeo": [
           {
            "marker": {
             "colorbar": {
              "outlinewidth": 0,
              "ticks": ""
             }
            },
            "type": "scattergeo"
           }
          ],
          "scattergl": [
           {
            "marker": {
             "colorbar": {
              "outlinewidth": 0,
              "ticks": ""
             }
            },
            "type": "scattergl"
           }
          ],
          "scattermapbox": [
           {
            "marker": {
             "colorbar": {
              "outlinewidth": 0,
              "ticks": ""
             }
            },
            "type": "scattermapbox"
           }
          ],
          "scatterpolar": [
           {
            "marker": {
             "colorbar": {
              "outlinewidth": 0,
              "ticks": ""
             }
            },
            "type": "scatterpolar"
           }
          ],
          "scatterpolargl": [
           {
            "marker": {
             "colorbar": {
              "outlinewidth": 0,
              "ticks": ""
             }
            },
            "type": "scatterpolargl"
           }
          ],
          "scatterternary": [
           {
            "marker": {
             "colorbar": {
              "outlinewidth": 0,
              "ticks": ""
             }
            },
            "type": "scatterternary"
           }
          ],
          "surface": [
           {
            "colorbar": {
             "outlinewidth": 0,
             "ticks": ""
            },
            "colorscale": [
             [
              0,
              "#0d0887"
             ],
             [
              0.1111111111111111,
              "#46039f"
             ],
             [
              0.2222222222222222,
              "#7201a8"
             ],
             [
              0.3333333333333333,
              "#9c179e"
             ],
             [
              0.4444444444444444,
              "#bd3786"
             ],
             [
              0.5555555555555556,
              "#d8576b"
             ],
             [
              0.6666666666666666,
              "#ed7953"
             ],
             [
              0.7777777777777778,
              "#fb9f3a"
             ],
             [
              0.8888888888888888,
              "#fdca26"
             ],
             [
              1,
              "#f0f921"
             ]
            ],
            "type": "surface"
           }
          ],
          "table": [
           {
            "cells": {
             "fill": {
              "color": "#EBF0F8"
             },
             "line": {
              "color": "white"
             }
            },
            "header": {
             "fill": {
              "color": "#C8D4E3"
             },
             "line": {
              "color": "white"
             }
            },
            "type": "table"
           }
          ]
         },
         "layout": {
          "annotationdefaults": {
           "arrowcolor": "#2a3f5f",
           "arrowhead": 0,
           "arrowwidth": 1
          },
          "autotypenumbers": "strict",
          "coloraxis": {
           "colorbar": {
            "outlinewidth": 0,
            "ticks": ""
           }
          },
          "colorscale": {
           "diverging": [
            [
             0,
             "#8e0152"
            ],
            [
             0.1,
             "#c51b7d"
            ],
            [
             0.2,
             "#de77ae"
            ],
            [
             0.3,
             "#f1b6da"
            ],
            [
             0.4,
             "#fde0ef"
            ],
            [
             0.5,
             "#f7f7f7"
            ],
            [
             0.6,
             "#e6f5d0"
            ],
            [
             0.7,
             "#b8e186"
            ],
            [
             0.8,
             "#7fbc41"
            ],
            [
             0.9,
             "#4d9221"
            ],
            [
             1,
             "#276419"
            ]
           ],
           "sequential": [
            [
             0,
             "#0d0887"
            ],
            [
             0.1111111111111111,
             "#46039f"
            ],
            [
             0.2222222222222222,
             "#7201a8"
            ],
            [
             0.3333333333333333,
             "#9c179e"
            ],
            [
             0.4444444444444444,
             "#bd3786"
            ],
            [
             0.5555555555555556,
             "#d8576b"
            ],
            [
             0.6666666666666666,
             "#ed7953"
            ],
            [
             0.7777777777777778,
             "#fb9f3a"
            ],
            [
             0.8888888888888888,
             "#fdca26"
            ],
            [
             1,
             "#f0f921"
            ]
           ],
           "sequentialminus": [
            [
             0,
             "#0d0887"
            ],
            [
             0.1111111111111111,
             "#46039f"
            ],
            [
             0.2222222222222222,
             "#7201a8"
            ],
            [
             0.3333333333333333,
             "#9c179e"
            ],
            [
             0.4444444444444444,
             "#bd3786"
            ],
            [
             0.5555555555555556,
             "#d8576b"
            ],
            [
             0.6666666666666666,
             "#ed7953"
            ],
            [
             0.7777777777777778,
             "#fb9f3a"
            ],
            [
             0.8888888888888888,
             "#fdca26"
            ],
            [
             1,
             "#f0f921"
            ]
           ]
          },
          "colorway": [
           "#636efa",
           "#EF553B",
           "#00cc96",
           "#ab63fa",
           "#FFA15A",
           "#19d3f3",
           "#FF6692",
           "#B6E880",
           "#FF97FF",
           "#FECB52"
          ],
          "font": {
           "color": "#2a3f5f"
          },
          "geo": {
           "bgcolor": "white",
           "lakecolor": "white",
           "landcolor": "#E5ECF6",
           "showlakes": true,
           "showland": true,
           "subunitcolor": "white"
          },
          "hoverlabel": {
           "align": "left"
          },
          "hovermode": "closest",
          "mapbox": {
           "style": "light"
          },
          "paper_bgcolor": "white",
          "plot_bgcolor": "#E5ECF6",
          "polar": {
           "angularaxis": {
            "gridcolor": "white",
            "linecolor": "white",
            "ticks": ""
           },
           "bgcolor": "#E5ECF6",
           "radialaxis": {
            "gridcolor": "white",
            "linecolor": "white",
            "ticks": ""
           }
          },
          "scene": {
           "xaxis": {
            "backgroundcolor": "#E5ECF6",
            "gridcolor": "white",
            "gridwidth": 2,
            "linecolor": "white",
            "showbackground": true,
            "ticks": "",
            "zerolinecolor": "white"
           },
           "yaxis": {
            "backgroundcolor": "#E5ECF6",
            "gridcolor": "white",
            "gridwidth": 2,
            "linecolor": "white",
            "showbackground": true,
            "ticks": "",
            "zerolinecolor": "white"
           },
           "zaxis": {
            "backgroundcolor": "#E5ECF6",
            "gridcolor": "white",
            "gridwidth": 2,
            "linecolor": "white",
            "showbackground": true,
            "ticks": "",
            "zerolinecolor": "white"
           }
          },
          "shapedefaults": {
           "line": {
            "color": "#2a3f5f"
           }
          },
          "ternary": {
           "aaxis": {
            "gridcolor": "white",
            "linecolor": "white",
            "ticks": ""
           },
           "baxis": {
            "gridcolor": "white",
            "linecolor": "white",
            "ticks": ""
           },
           "bgcolor": "#E5ECF6",
           "caxis": {
            "gridcolor": "white",
            "linecolor": "white",
            "ticks": ""
           }
          },
          "title": {
           "x": 0.05
          },
          "xaxis": {
           "automargin": true,
           "gridcolor": "white",
           "linecolor": "white",
           "ticks": "",
           "title": {
            "standoff": 15
           },
           "zerolinecolor": "white",
           "zerolinewidth": 2
          },
          "yaxis": {
           "automargin": true,
           "gridcolor": "white",
           "linecolor": "white",
           "ticks": "",
           "title": {
            "standoff": 15
           },
           "zerolinecolor": "white",
           "zerolinewidth": 2
          }
         }
        },
        "xaxis": {
         "anchor": "y",
         "domain": [
          0,
          1
         ],
         "title": {
          "text": "rent_approval_date"
         }
        },
        "yaxis": {
         "anchor": "x",
         "domain": [
          0,
          1
         ],
         "title": {
          "text": "near_mrt_count"
         }
        }
       }
      }
     },
     "metadata": {},
     "output_type": "display_data"
    }
   ],
   "source": [
    "train_df_cleaned_final.groupby(['rent_approval_date', 'town'])[['psqm', 'near_mrt_count']].corr().iloc[0::2,-1].reset_index().plot.line(x='rent_approval_date', y='near_mrt_count', color='town')"
   ]
  },
  {
   "cell_type": "code",
   "execution_count": 22,
   "metadata": {},
   "outputs": [
    {
     "data": {
      "application/vnd.plotly.v1+json": {
       "config": {
        "plotlyServerURL": "https://plot.ly"
       },
       "data": [
        {
         "hovertemplate": "town=ang mo kio<br>rent_approval_date=%{x}<br>nearest_mrt_dist=%{y}<extra></extra>",
         "legendgroup": "ang mo kio",
         "line": {
          "color": "#636efa",
          "dash": "solid"
         },
         "marker": {
          "symbol": "circle"
         },
         "mode": "lines",
         "name": "ang mo kio",
         "orientation": "v",
         "showlegend": true,
         "type": "scatter",
         "x": [
          "2021-01",
          "2021-02",
          "2021-03",
          "2021-04",
          "2021-05",
          "2021-06",
          "2021-07",
          "2021-08",
          "2021-09",
          "2021-10",
          "2021-11",
          "2021-12",
          "2022-01",
          "2022-02",
          "2022-03",
          "2022-04",
          "2022-05",
          "2022-06",
          "2022-07",
          "2022-08",
          "2022-09",
          "2022-10",
          "2022-11",
          "2022-12",
          "2023-01",
          "2023-02",
          "2023-03",
          "2023-04",
          "2023-05",
          "2023-06",
          "2023-07"
         ],
         "xaxis": "x",
         "y": [
          0.07314195037470114,
          0.009713029789632056,
          -0.07687584233843496,
          -0.17229387821217457,
          -0.09358975825797215,
          -0.01667223099378816,
          -0.09809599632723255,
          0.00850138924180837,
          -0.004124525628925509,
          0.15007984994001378,
          -0.05950243239415882,
          0.07567065002168999,
          -0.02962232557721678,
          -0.11234995938925034,
          -0.13129747048386792,
          0.1794736770724127,
          0.019973556191071135,
          -0.20104259043982387,
          0.023336984146497028,
          -0.11269252195735004,
          -0.25483464279201884,
          0.045430088062622935,
          -0.10652558181084312,
          -0.08654812088524061,
          0.00492449495542553,
          -0.06288688883032173,
          -0.030269818099175092,
          -0.08941818509628208,
          -0.08882613236966735,
          0.15766882860421347,
          -0.10998899864779078
         ],
         "yaxis": "y"
        },
        {
         "hovertemplate": "town=bedok<br>rent_approval_date=%{x}<br>nearest_mrt_dist=%{y}<extra></extra>",
         "legendgroup": "bedok",
         "line": {
          "color": "#EF553B",
          "dash": "solid"
         },
         "marker": {
          "symbol": "circle"
         },
         "mode": "lines",
         "name": "bedok",
         "orientation": "v",
         "showlegend": true,
         "type": "scatter",
         "x": [
          "2021-01",
          "2021-02",
          "2021-03",
          "2021-04",
          "2021-05",
          "2021-06",
          "2021-07",
          "2021-08",
          "2021-09",
          "2021-10",
          "2021-11",
          "2021-12",
          "2022-01",
          "2022-02",
          "2022-03",
          "2022-04",
          "2022-05",
          "2022-06",
          "2022-07",
          "2022-08",
          "2022-09",
          "2022-10",
          "2022-11",
          "2022-12",
          "2023-01",
          "2023-02",
          "2023-03",
          "2023-04",
          "2023-05",
          "2023-06",
          "2023-07"
         ],
         "xaxis": "x",
         "y": [
          -0.02583916377325776,
          0.010861270053844912,
          -0.00023749572532718658,
          -0.020118175046558953,
          0.0448066726854172,
          -0.05219835992164287,
          -0.05689676810654185,
          0.08451678244018687,
          0.014535886852867145,
          0.10572578915247759,
          -0.1268237970643836,
          0.11210522728788408,
          -0.1305081207673175,
          -0.0011434635006949774,
          -0.06899344578875086,
          -0.013747966922014474,
          -0.06505743966765078,
          0.020063885110053064,
          0.029936789980017604,
          -0.10011889509058466,
          0.12895951660182164,
          -0.051303076508057294,
          -0.07920538321158316,
          0.00662233086995549,
          -0.08194373390464438,
          0.07325469901954931,
          0.02722193344262552,
          -0.007193526017106409,
          -0.04861316843358652,
          0.009066368328261389,
          0.061814115250799766
         ],
         "yaxis": "y"
        },
        {
         "hovertemplate": "town=bishan<br>rent_approval_date=%{x}<br>nearest_mrt_dist=%{y}<extra></extra>",
         "legendgroup": "bishan",
         "line": {
          "color": "#00cc96",
          "dash": "solid"
         },
         "marker": {
          "symbol": "circle"
         },
         "mode": "lines",
         "name": "bishan",
         "orientation": "v",
         "showlegend": true,
         "type": "scatter",
         "x": [
          "2021-01",
          "2021-02",
          "2021-03",
          "2021-04",
          "2021-05",
          "2021-06",
          "2021-07",
          "2021-08",
          "2021-09",
          "2021-10",
          "2021-11",
          "2021-12",
          "2022-01",
          "2022-02",
          "2022-03",
          "2022-04",
          "2022-05",
          "2022-06",
          "2022-07",
          "2022-08",
          "2022-09",
          "2022-10",
          "2022-11",
          "2022-12",
          "2023-01",
          "2023-02",
          "2023-03",
          "2023-04",
          "2023-05",
          "2023-06",
          "2023-07"
         ],
         "xaxis": "x",
         "y": [
          -0.4023405738531549,
          -0.184272814019537,
          -0.43857537464076285,
          -0.45580750317058055,
          -0.3352483687656253,
          -0.42474358294676823,
          -0.18933913873669075,
          -0.37353049016957846,
          -0.3905401514073901,
          -0.5159273649131575,
          -0.4044558473286735,
          -0.11892451835054008,
          -0.38847902392400047,
          -0.3669516991787337,
          -0.3152216689121874,
          -0.17787320413902272,
          -0.318930868838269,
          -0.3324920502791095,
          -0.3833042125129211,
          -0.25014212201520725,
          -0.18550841435025506,
          -0.37502335610428933,
          -0.41118719529625297,
          -0.37274756753554106,
          -0.21676611121084047,
          -0.2731962632361952,
          -0.3301249357678031,
          -0.2633141052780995,
          -0.022929161608556063,
          -0.2410629577578735,
          -0.2697676247518717
         ],
         "yaxis": "y"
        },
        {
         "hovertemplate": "town=bukit batok<br>rent_approval_date=%{x}<br>nearest_mrt_dist=%{y}<extra></extra>",
         "legendgroup": "bukit batok",
         "line": {
          "color": "#ab63fa",
          "dash": "solid"
         },
         "marker": {
          "symbol": "circle"
         },
         "mode": "lines",
         "name": "bukit batok",
         "orientation": "v",
         "showlegend": true,
         "type": "scatter",
         "x": [
          "2021-01",
          "2021-02",
          "2021-03",
          "2021-04",
          "2021-05",
          "2021-06",
          "2021-07",
          "2021-08",
          "2021-09",
          "2021-10",
          "2021-11",
          "2021-12",
          "2022-01",
          "2022-02",
          "2022-03",
          "2022-04",
          "2022-05",
          "2022-06",
          "2022-07",
          "2022-08",
          "2022-09",
          "2022-10",
          "2022-11",
          "2022-12",
          "2023-01",
          "2023-02",
          "2023-03",
          "2023-04",
          "2023-05",
          "2023-06",
          "2023-07"
         ],
         "xaxis": "x",
         "y": [
          0.20232975666778033,
          -0.19892832026178925,
          -0.13022639897677915,
          -0.19341799960099523,
          -0.044804776284530994,
          -0.28681223910798226,
          0.005255294662330914,
          0.09203580493034545,
          0.04301822783859821,
          -0.14927786376035443,
          -0.0020830543098428796,
          0.05552607175634458,
          0.08042828483497934,
          0.033492946598809796,
          -0.10458254285298525,
          0.05585097832402635,
          -0.2452489247964152,
          0.08986556233130794,
          0.023743740924898102,
          0.17583729316232571,
          0.04451085863852769,
          -0.07224567902709424,
          0.014162578908841593,
          -0.21259550393753895,
          0.031359583276307654,
          0.1422528031917706,
          0.26565964472443104,
          0.2879177463194649,
          0.06642500788617489,
          0.28788646856720596,
          -0.040152109882302306
         ],
         "yaxis": "y"
        },
        {
         "hovertemplate": "town=bukit merah<br>rent_approval_date=%{x}<br>nearest_mrt_dist=%{y}<extra></extra>",
         "legendgroup": "bukit merah",
         "line": {
          "color": "#FFA15A",
          "dash": "solid"
         },
         "marker": {
          "symbol": "circle"
         },
         "mode": "lines",
         "name": "bukit merah",
         "orientation": "v",
         "showlegend": true,
         "type": "scatter",
         "x": [
          "2021-01",
          "2021-02",
          "2021-03",
          "2021-04",
          "2021-05",
          "2021-06",
          "2021-07",
          "2021-08",
          "2021-09",
          "2021-10",
          "2021-11",
          "2021-12",
          "2022-01",
          "2022-02",
          "2022-03",
          "2022-04",
          "2022-05",
          "2022-06",
          "2022-07",
          "2022-08",
          "2022-09",
          "2022-10",
          "2022-11",
          "2022-12",
          "2023-01",
          "2023-02",
          "2023-03",
          "2023-04",
          "2023-05",
          "2023-06",
          "2023-07"
         ],
         "xaxis": "x",
         "y": [
          -0.2623842856855812,
          -0.19156444617841567,
          -0.10310851486109997,
          -0.24915658168286892,
          -0.19131589071323124,
          -0.13631524079487664,
          -0.22780332810405068,
          -0.29543895319408375,
          -0.15735525891212782,
          -0.21322521632637534,
          -0.2938836641966857,
          -0.19822680207741755,
          -0.1325342684185195,
          -0.09013497743306889,
          -0.032747116896195014,
          -0.1825115039093649,
          -0.07064043651096043,
          -0.14906701600610522,
          -0.24566304085493185,
          -0.14335830343087327,
          -0.1956916193148407,
          0.021639990589983883,
          -0.12688095427892132,
          -0.2661903158283505,
          -0.16498354187076059,
          -0.05726516235140481,
          -0.17203578390089214,
          -0.07434914719634113,
          -0.012181790578920024,
          -0.08752162355395625,
          -0.11986949823211199
         ],
         "yaxis": "y"
        },
        {
         "hovertemplate": "town=bukit panjang<br>rent_approval_date=%{x}<br>nearest_mrt_dist=%{y}<extra></extra>",
         "legendgroup": "bukit panjang",
         "line": {
          "color": "#19d3f3",
          "dash": "solid"
         },
         "marker": {
          "symbol": "circle"
         },
         "mode": "lines",
         "name": "bukit panjang",
         "orientation": "v",
         "showlegend": true,
         "type": "scatter",
         "x": [
          "2021-01",
          "2021-02",
          "2021-03",
          "2021-04",
          "2021-05",
          "2021-06",
          "2021-07",
          "2021-08",
          "2021-09",
          "2021-10",
          "2021-11",
          "2021-12",
          "2022-01",
          "2022-02",
          "2022-03",
          "2022-04",
          "2022-05",
          "2022-06",
          "2022-07",
          "2022-08",
          "2022-09",
          "2022-10",
          "2022-11",
          "2022-12",
          "2023-01",
          "2023-02",
          "2023-03",
          "2023-04",
          "2023-05",
          "2023-06",
          "2023-07"
         ],
         "xaxis": "x",
         "y": [
          0.043232243030803474,
          -0.055310002937153095,
          -0.1869188379378974,
          0.19141811969301528,
          -0.09612534773942336,
          -0.11573219299072217,
          0.15294306843184194,
          -0.060740102780871295,
          0.0937972548686482,
          -0.05320186633503063,
          0.2035252863067747,
          0.015155067225083066,
          -0.1737762257365255,
          -0.0336380153181024,
          -0.059024353749741895,
          -0.13121490427589783,
          -0.22903216617973457,
          -0.10540177588992429,
          -0.27318979524406695,
          0.05327014846472422,
          0.2265605807047699,
          -0.08560576059082893,
          -0.1747486786700264,
          0.043693864464398054,
          0.1310027899751956,
          0.029312773334169696,
          -0.19302598616565067,
          0.3796955214766767,
          -0.16283700512644977,
          -0.2829725893074774,
          0.002955555351312763
         ],
         "yaxis": "y"
        },
        {
         "hovertemplate": "town=bukit timah<br>rent_approval_date=%{x}<br>nearest_mrt_dist=%{y}<extra></extra>",
         "legendgroup": "bukit timah",
         "line": {
          "color": "#FF6692",
          "dash": "solid"
         },
         "marker": {
          "symbol": "circle"
         },
         "mode": "lines",
         "name": "bukit timah",
         "orientation": "v",
         "showlegend": true,
         "type": "scatter",
         "x": [
          "2021-01",
          "2021-02",
          "2021-03",
          "2021-04",
          "2021-05",
          "2021-06",
          "2021-07",
          "2021-08",
          "2021-09",
          "2021-10",
          "2021-11",
          "2021-12",
          "2022-01",
          "2022-02",
          "2022-03",
          "2022-06",
          "2022-07",
          "2022-10",
          "2022-11",
          "2023-01",
          "2023-02",
          "2023-03",
          "2023-04",
          "2023-05",
          "2023-06",
          "2023-07"
         ],
         "xaxis": "x",
         "y": [
          -0.999999999999999,
          -0.9932777154849721,
          null,
          null,
          null,
          -0.8764720528324454,
          0.9999999999999991,
          null,
          null,
          -0.9965094913321915,
          0.999999999999999,
          null,
          -0.9999999999999987,
          null,
          -1.0000000000000075,
          null,
          1.000000000000005,
          -0.6160906274712725,
          -1,
          -0.41346650892400755,
          0.017624438975561332,
          null,
          null,
          1.000000000000001,
          0.7616723094214832,
          -1.0000000000000004
         ],
         "yaxis": "y"
        },
        {
         "hovertemplate": "town=central<br>rent_approval_date=%{x}<br>nearest_mrt_dist=%{y}<extra></extra>",
         "legendgroup": "central",
         "line": {
          "color": "#B6E880",
          "dash": "solid"
         },
         "marker": {
          "symbol": "circle"
         },
         "mode": "lines",
         "name": "central",
         "orientation": "v",
         "showlegend": true,
         "type": "scatter",
         "x": [
          "2021-01",
          "2021-02",
          "2021-03",
          "2021-04",
          "2021-05",
          "2021-06",
          "2021-07",
          "2021-08",
          "2021-09",
          "2021-10",
          "2021-11",
          "2021-12",
          "2022-01",
          "2022-02",
          "2022-03",
          "2022-04",
          "2022-05",
          "2022-06",
          "2022-07",
          "2022-08",
          "2022-09",
          "2022-10",
          "2022-11",
          "2022-12",
          "2023-01",
          "2023-02",
          "2023-03",
          "2023-04",
          "2023-05",
          "2023-06",
          "2023-07"
         ],
         "xaxis": "x",
         "y": [
          0.040824279548152154,
          -0.2282638985615055,
          0.25615121383837375,
          -0.15844270362778093,
          0.0548550758032801,
          0.004183667103149101,
          -0.015110779392080671,
          -0.24782737006959643,
          0.07383959941626093,
          -0.01045033778209898,
          0.4222592484288341,
          -0.1406723109359688,
          0.24168922815116856,
          0.4688736484461825,
          -0.09531164184403824,
          -0.5243250410260297,
          -0.19814872784264909,
          0.3195110945810603,
          -0.10851163427412906,
          0.2882334201953061,
          0.036605244802954656,
          0.36873845515208403,
          0.18033233038560695,
          0.4613743124625515,
          0.7393396925996809,
          0.15084639065781622,
          0.2735628889920565,
          0.32014804867070296,
          0.4870892977850409,
          -0.14268899531846174,
          -0.16069719572036473
         ],
         "yaxis": "y"
        },
        {
         "hovertemplate": "town=choa chu kang<br>rent_approval_date=%{x}<br>nearest_mrt_dist=%{y}<extra></extra>",
         "legendgroup": "choa chu kang",
         "line": {
          "color": "#FF97FF",
          "dash": "solid"
         },
         "marker": {
          "symbol": "circle"
         },
         "mode": "lines",
         "name": "choa chu kang",
         "orientation": "v",
         "showlegend": true,
         "type": "scatter",
         "x": [
          "2021-01",
          "2021-02",
          "2021-03",
          "2021-04",
          "2021-05",
          "2021-06",
          "2021-07",
          "2021-08",
          "2021-09",
          "2021-10",
          "2021-11",
          "2021-12",
          "2022-01",
          "2022-02",
          "2022-03",
          "2022-04",
          "2022-05",
          "2022-06",
          "2022-07",
          "2022-08",
          "2022-09",
          "2022-10",
          "2022-11",
          "2022-12",
          "2023-01",
          "2023-02",
          "2023-03",
          "2023-04",
          "2023-05",
          "2023-06",
          "2023-07"
         ],
         "xaxis": "x",
         "y": [
          0.28461153017591073,
          -0.03042234035180019,
          -0.03464476734338407,
          0.31606182408451,
          -0.07804830747574949,
          0.22908127861022842,
          0.2840817446197718,
          0.143910940690936,
          0.05143728571737024,
          -0.08457524207429885,
          0.11356981568595617,
          0.1850555636877532,
          0.09520607567627454,
          0.25347820347266287,
          0.18708347409013304,
          0.08352700462032016,
          0.13943247313361523,
          0.17108198975061603,
          0.1787935712423209,
          0.17477699681133893,
          0.24635486123523515,
          0.3056428719031199,
          0.03935161083559746,
          0.06255411580233282,
          -0.01845289840260295,
          0.0007166741669581737,
          -0.0007428466871864902,
          0.2885969150334235,
          0.09152805620392791,
          0.337915004571806,
          0.1730551963097291
         ],
         "yaxis": "y"
        },
        {
         "hovertemplate": "town=clementi<br>rent_approval_date=%{x}<br>nearest_mrt_dist=%{y}<extra></extra>",
         "legendgroup": "clementi",
         "line": {
          "color": "#FECB52",
          "dash": "solid"
         },
         "marker": {
          "symbol": "circle"
         },
         "mode": "lines",
         "name": "clementi",
         "orientation": "v",
         "showlegend": true,
         "type": "scatter",
         "x": [
          "2021-01",
          "2021-02",
          "2021-03",
          "2021-04",
          "2021-05",
          "2021-06",
          "2021-07",
          "2021-08",
          "2021-09",
          "2021-10",
          "2021-11",
          "2021-12",
          "2022-01",
          "2022-02",
          "2022-03",
          "2022-04",
          "2022-05",
          "2022-06",
          "2022-07",
          "2022-08",
          "2022-09",
          "2022-10",
          "2022-11",
          "2022-12",
          "2023-01",
          "2023-02",
          "2023-03",
          "2023-04",
          "2023-05",
          "2023-06",
          "2023-07"
         ],
         "xaxis": "x",
         "y": [
          -0.36705211834523616,
          -0.2369368242951614,
          -0.3826848881066144,
          -0.2435047349681615,
          -0.39438214761959123,
          -0.29921130954382863,
          -0.33974828224944287,
          -0.3446402644790804,
          -0.3865814322876371,
          -0.34685034561036965,
          -0.06939187705156594,
          -0.1998389265359407,
          -0.22926950462122428,
          -0.33013984940158814,
          -0.3376371192501733,
          -0.24631456001341026,
          -0.3431335772050863,
          -0.19121675991786025,
          -0.31249531214884496,
          -0.3068677997274638,
          -0.3672628118700916,
          -0.22259234000555614,
          -0.38073476497381864,
          -0.15221699319778026,
          -0.2147333729399079,
          -0.19397780498991654,
          -0.33182416380267066,
          -0.2919007806033382,
          -0.33770754765556876,
          -0.21249781832935058,
          -0.023987696034409946
         ],
         "yaxis": "y"
        },
        {
         "hovertemplate": "town=geylang<br>rent_approval_date=%{x}<br>nearest_mrt_dist=%{y}<extra></extra>",
         "legendgroup": "geylang",
         "line": {
          "color": "#636efa",
          "dash": "solid"
         },
         "marker": {
          "symbol": "circle"
         },
         "mode": "lines",
         "name": "geylang",
         "orientation": "v",
         "showlegend": true,
         "type": "scatter",
         "x": [
          "2021-01",
          "2021-02",
          "2021-03",
          "2021-04",
          "2021-05",
          "2021-06",
          "2021-07",
          "2021-08",
          "2021-09",
          "2021-10",
          "2021-11",
          "2021-12",
          "2022-01",
          "2022-02",
          "2022-03",
          "2022-04",
          "2022-05",
          "2022-06",
          "2022-07",
          "2022-08",
          "2022-09",
          "2022-10",
          "2022-11",
          "2022-12",
          "2023-01",
          "2023-02",
          "2023-03",
          "2023-04",
          "2023-05",
          "2023-06",
          "2023-07"
         ],
         "xaxis": "x",
         "y": [
          -0.3176736316901799,
          -0.3260588647149942,
          -0.15005588471361192,
          -0.1923725313925627,
          -0.21935164330592924,
          -0.3535940945845588,
          -0.25066811919894383,
          -0.22551416112543282,
          -0.34931520918281883,
          -0.06874672204444247,
          -0.2114783301803259,
          -0.5243197138981456,
          -0.17360371343623437,
          -0.4010411933485809,
          -0.1724638095790578,
          -0.1860650626855765,
          -0.461143868983386,
          -0.3500797248795202,
          -0.24728807060861763,
          -0.13428568106184263,
          -0.37741283097966855,
          -0.2634874518713785,
          -0.12428819818001,
          -0.24211327494072823,
          -0.19849756014330455,
          -0.08257408482837278,
          -0.19964135638130256,
          0.08408601634299465,
          -0.3335168472728144,
          -0.3420331957290928,
          -0.08896386352070842
         ],
         "yaxis": "y"
        },
        {
         "hovertemplate": "town=hougang<br>rent_approval_date=%{x}<br>nearest_mrt_dist=%{y}<extra></extra>",
         "legendgroup": "hougang",
         "line": {
          "color": "#EF553B",
          "dash": "solid"
         },
         "marker": {
          "symbol": "circle"
         },
         "mode": "lines",
         "name": "hougang",
         "orientation": "v",
         "showlegend": true,
         "type": "scatter",
         "x": [
          "2021-01",
          "2021-02",
          "2021-03",
          "2021-04",
          "2021-05",
          "2021-06",
          "2021-07",
          "2021-08",
          "2021-09",
          "2021-10",
          "2021-11",
          "2021-12",
          "2022-01",
          "2022-02",
          "2022-03",
          "2022-04",
          "2022-05",
          "2022-06",
          "2022-07",
          "2022-08",
          "2022-09",
          "2022-10",
          "2022-11",
          "2022-12",
          "2023-01",
          "2023-02",
          "2023-03",
          "2023-04",
          "2023-05",
          "2023-06",
          "2023-07"
         ],
         "xaxis": "x",
         "y": [
          -0.04534058646329742,
          0.06092129820326811,
          0.0019871563968255398,
          0.02758155717210948,
          -0.049258799576777264,
          -0.009782608943173347,
          -0.24927181041157268,
          -0.1531324324395519,
          -0.03088471407466666,
          -0.04081312962127238,
          -0.17319417820032373,
          -0.07016121817747295,
          -0.14748092432167084,
          0.0998307549823004,
          0.1369638031963213,
          0.058713221753299634,
          0.19508004509598323,
          -0.013741712145958724,
          -0.08870744940601476,
          0.03239063616277038,
          -0.08982328043299766,
          -0.2768188820207143,
          -0.28587667155112284,
          0.11359979129562402,
          0.12716087892368405,
          -0.06190790980924615,
          -0.03769036443199623,
          0.0662456941533934,
          -0.07637980943824284,
          -0.1303751190590162,
          -0.15834153319156893
         ],
         "yaxis": "y"
        },
        {
         "hovertemplate": "town=jurong east<br>rent_approval_date=%{x}<br>nearest_mrt_dist=%{y}<extra></extra>",
         "legendgroup": "jurong east",
         "line": {
          "color": "#00cc96",
          "dash": "solid"
         },
         "marker": {
          "symbol": "circle"
         },
         "mode": "lines",
         "name": "jurong east",
         "orientation": "v",
         "showlegend": true,
         "type": "scatter",
         "x": [
          "2021-01",
          "2021-02",
          "2021-03",
          "2021-04",
          "2021-05",
          "2021-06",
          "2021-07",
          "2021-08",
          "2021-09",
          "2021-10",
          "2021-11",
          "2021-12",
          "2022-01",
          "2022-02",
          "2022-03",
          "2022-04",
          "2022-05",
          "2022-06",
          "2022-07",
          "2022-08",
          "2022-09",
          "2022-10",
          "2022-11",
          "2022-12",
          "2023-01",
          "2023-02",
          "2023-03",
          "2023-04",
          "2023-05",
          "2023-06",
          "2023-07"
         ],
         "xaxis": "x",
         "y": [
          -0.2027470746316717,
          -0.07561700241083456,
          -0.14259024558803476,
          -0.07934607127967723,
          -0.005798674349273957,
          0.15323549644244988,
          -0.16802900229202378,
          -0.09076704958842886,
          -0.2625436730458897,
          -0.07240513995366682,
          0.030172569153612973,
          -0.342288164301555,
          -0.26243059184854156,
          -0.1520414259901151,
          0.14748349616696524,
          -0.19186009616480348,
          -0.18757219970938932,
          -0.08293117931749368,
          -0.26581488406797604,
          -0.3043649940054797,
          -0.21411860414414427,
          -0.012810753343143822,
          0.23300964587281847,
          -0.21488987902252796,
          0.023387258419437,
          -0.1003846313409258,
          -0.11671547689901744,
          -0.08215998158236587,
          0.14241208098832742,
          -0.07837757940244405,
          -0.11731770826747195
         ],
         "yaxis": "y"
        },
        {
         "hovertemplate": "town=jurong west<br>rent_approval_date=%{x}<br>nearest_mrt_dist=%{y}<extra></extra>",
         "legendgroup": "jurong west",
         "line": {
          "color": "#ab63fa",
          "dash": "solid"
         },
         "marker": {
          "symbol": "circle"
         },
         "mode": "lines",
         "name": "jurong west",
         "orientation": "v",
         "showlegend": true,
         "type": "scatter",
         "x": [
          "2021-01",
          "2021-02",
          "2021-03",
          "2021-04",
          "2021-05",
          "2021-06",
          "2021-07",
          "2021-08",
          "2021-09",
          "2021-10",
          "2021-11",
          "2021-12",
          "2022-01",
          "2022-02",
          "2022-03",
          "2022-04",
          "2022-05",
          "2022-06",
          "2022-07",
          "2022-08",
          "2022-09",
          "2022-10",
          "2022-11",
          "2022-12",
          "2023-01",
          "2023-02",
          "2023-03",
          "2023-04",
          "2023-05",
          "2023-06",
          "2023-07"
         ],
         "xaxis": "x",
         "y": [
          -0.3143631260430052,
          -0.2151429997670061,
          -0.25358477378823546,
          -0.1441969363538789,
          -0.18637522665655534,
          -0.23876633446207635,
          -0.07034947161171369,
          -0.14723292115864092,
          -0.20673816995014702,
          0.005781060775251567,
          -0.10103286704381359,
          -0.0766916694483489,
          0.0027389546382763272,
          -0.2536266882512962,
          -0.1559685463441599,
          -0.18890480555362368,
          0.03836669884994415,
          -0.0990126069169403,
          -0.16156034553696202,
          0.04241469921134793,
          -0.047148153907786275,
          -0.11359076497939033,
          0.041484361365437115,
          -0.07776720100109012,
          -0.1537702972041087,
          -0.21616639204312132,
          -0.28297696265964684,
          -0.15852356021836841,
          -0.11749574561630381,
          -0.023458336705944584,
          -0.18416168880944067
         ],
         "yaxis": "y"
        },
        {
         "hovertemplate": "town=kallang/whampoa<br>rent_approval_date=%{x}<br>nearest_mrt_dist=%{y}<extra></extra>",
         "legendgroup": "kallang/whampoa",
         "line": {
          "color": "#FFA15A",
          "dash": "solid"
         },
         "marker": {
          "symbol": "circle"
         },
         "mode": "lines",
         "name": "kallang/whampoa",
         "orientation": "v",
         "showlegend": true,
         "type": "scatter",
         "x": [
          "2021-01",
          "2021-02",
          "2021-03",
          "2021-04",
          "2021-05",
          "2021-06",
          "2021-07",
          "2021-08",
          "2021-09",
          "2021-10",
          "2021-11",
          "2021-12",
          "2022-01",
          "2022-02",
          "2022-03",
          "2022-04",
          "2022-05",
          "2022-06",
          "2022-07",
          "2022-08",
          "2022-09",
          "2022-10",
          "2022-11",
          "2022-12",
          "2023-01",
          "2023-02",
          "2023-03",
          "2023-04",
          "2023-05",
          "2023-06",
          "2023-07"
         ],
         "xaxis": "x",
         "y": [
          -0.29150770341610116,
          -0.08340911096716824,
          -0.043225376735608306,
          -0.4488448432491019,
          -0.22257364095557236,
          -0.26949204983161074,
          -0.11619900642625859,
          -0.3356719483651325,
          -0.2854840027933565,
          -0.13342055425197386,
          -0.25430115535976805,
          -0.17171125389556777,
          -0.14651232021103996,
          -0.37746293744922516,
          -0.19181315368141486,
          -0.201332555815741,
          -0.08979065624441727,
          -0.09302071554117632,
          -0.019192961040464154,
          -0.3360195081084405,
          -0.19610859081944376,
          0.12922152982769616,
          -0.08209488427243834,
          -0.2019127382930889,
          -0.17426904465320725,
          -0.12248901703108568,
          0.08120360977700111,
          -0.18583264086611292,
          -0.17814319580101612,
          -0.18557877555294103,
          -0.2518101913542472
         ],
         "yaxis": "y"
        },
        {
         "hovertemplate": "town=marine parade<br>rent_approval_date=%{x}<br>nearest_mrt_dist=%{y}<extra></extra>",
         "legendgroup": "marine parade",
         "line": {
          "color": "#19d3f3",
          "dash": "solid"
         },
         "marker": {
          "symbol": "circle"
         },
         "mode": "lines",
         "name": "marine parade",
         "orientation": "v",
         "showlegend": true,
         "type": "scatter",
         "x": [
          "2021-01",
          "2021-02",
          "2021-03",
          "2021-04",
          "2021-05",
          "2021-06",
          "2021-07",
          "2021-08",
          "2021-09",
          "2021-10",
          "2021-11",
          "2021-12",
          "2022-01",
          "2022-02",
          "2022-03",
          "2022-04",
          "2022-05",
          "2022-06",
          "2022-07",
          "2022-08",
          "2022-09",
          "2022-10",
          "2022-11",
          "2022-12",
          "2023-01",
          "2023-02",
          "2023-03",
          "2023-04",
          "2023-05",
          "2023-06",
          "2023-07"
         ],
         "xaxis": "x",
         "y": [
          0.030742460597658044,
          -0.4561650332443048,
          -0.21093165164058636,
          -0.17916819120967084,
          0.04579608085159138,
          -0.15308702253223908,
          0.17526935204567035,
          -0.3000796384293922,
          0.003161282368693026,
          -0.13047608818619819,
          -0.05648929748227354,
          0.0029913612750507765,
          -0.2528401839829107,
          0.03087086152821107,
          0.3473012311674494,
          0.14589301761046505,
          0.39507337884409155,
          0.4440543979086939,
          0.2910420840366067,
          -0.2889036621174741,
          -0.4908755890965853,
          0.3312534164574302,
          0.05820941320665879,
          0.13676707766429505,
          0.2852419359349338,
          -0.3795917388777052,
          0.5904842195943848,
          0.053000220256478894,
          -0.023268278776259598,
          0.010605757435065293,
          0.43372379844976255
         ],
         "yaxis": "y"
        },
        {
         "hovertemplate": "town=pasir ris<br>rent_approval_date=%{x}<br>nearest_mrt_dist=%{y}<extra></extra>",
         "legendgroup": "pasir ris",
         "line": {
          "color": "#FF6692",
          "dash": "solid"
         },
         "marker": {
          "symbol": "circle"
         },
         "mode": "lines",
         "name": "pasir ris",
         "orientation": "v",
         "showlegend": true,
         "type": "scatter",
         "x": [
          "2021-01",
          "2021-02",
          "2021-03",
          "2021-04",
          "2021-05",
          "2021-06",
          "2021-07",
          "2021-08",
          "2021-09",
          "2021-10",
          "2021-11",
          "2021-12",
          "2022-01",
          "2022-02",
          "2022-03",
          "2022-04",
          "2022-05",
          "2022-06",
          "2022-07",
          "2022-08",
          "2022-09",
          "2022-10",
          "2022-11",
          "2022-12",
          "2023-01",
          "2023-02",
          "2023-03",
          "2023-04",
          "2023-05",
          "2023-06",
          "2023-07"
         ],
         "xaxis": "x",
         "y": [
          -0.15866915532621045,
          0.019082340697438818,
          -0.45058677393594976,
          -0.21921280555164097,
          -0.2839944503663333,
          -0.2523350165411881,
          -0.02512487235911431,
          -0.26299634957107,
          -0.3122257800826918,
          -0.3857680182587924,
          -0.397436829494698,
          -0.221352420757732,
          -0.3147869877962214,
          -0.3857824302658475,
          -0.3157498101324858,
          0.15454146721282686,
          -0.36880854967698523,
          -0.39297452292008195,
          -0.33182463724672007,
          -0.2693971676554199,
          0.17894272499300234,
          -0.1874172602224824,
          -0.10353002973619575,
          -0.047789324869697995,
          -0.2915399808333609,
          -0.30983081757381264,
          -0.32129135880320703,
          -0.039452491421272586,
          -0.33551327555356586,
          0.07881529041851824,
          -0.31340583387827287
         ],
         "yaxis": "y"
        },
        {
         "hovertemplate": "town=punggol<br>rent_approval_date=%{x}<br>nearest_mrt_dist=%{y}<extra></extra>",
         "legendgroup": "punggol",
         "line": {
          "color": "#B6E880",
          "dash": "solid"
         },
         "marker": {
          "symbol": "circle"
         },
         "mode": "lines",
         "name": "punggol",
         "orientation": "v",
         "showlegend": true,
         "type": "scatter",
         "x": [
          "2021-01",
          "2021-02",
          "2021-03",
          "2021-04",
          "2021-05",
          "2021-06",
          "2021-07",
          "2021-08",
          "2021-09",
          "2021-10",
          "2021-11",
          "2021-12",
          "2022-01",
          "2022-02",
          "2022-03",
          "2022-04",
          "2022-05",
          "2022-06",
          "2022-07",
          "2022-08",
          "2022-09",
          "2022-10",
          "2022-11",
          "2022-12",
          "2023-01",
          "2023-02",
          "2023-03",
          "2023-04",
          "2023-05",
          "2023-06",
          "2023-07"
         ],
         "xaxis": "x",
         "y": [
          -0.37754224649812596,
          -0.3792846313594026,
          -0.26833675773603394,
          -0.3245424950138276,
          -0.3681726071071676,
          -0.056529562899111846,
          -0.3765993127072672,
          -0.3646412742844189,
          -0.18437155081364023,
          -0.10931039671863182,
          -0.27665665707923087,
          -0.3753308121564373,
          -0.25100214366515794,
          -0.02138619600777091,
          -0.1583447861905223,
          -0.32821581575396697,
          -0.09571623550259725,
          -0.19073866000796882,
          -0.16290081254691843,
          -0.3004062645930051,
          -0.26816831227904725,
          -0.08624817157885642,
          -0.12451930553592505,
          -0.06409629059257153,
          -0.13748281628122172,
          -0.09825530996842943,
          -0.1033778270427368,
          -0.14831496239413075,
          -0.10805538758931943,
          -0.006127814010359383,
          -0.16072531135173287
         ],
         "yaxis": "y"
        },
        {
         "hovertemplate": "town=queenstown<br>rent_approval_date=%{x}<br>nearest_mrt_dist=%{y}<extra></extra>",
         "legendgroup": "queenstown",
         "line": {
          "color": "#FF97FF",
          "dash": "solid"
         },
         "marker": {
          "symbol": "circle"
         },
         "mode": "lines",
         "name": "queenstown",
         "orientation": "v",
         "showlegend": true,
         "type": "scatter",
         "x": [
          "2021-01",
          "2021-02",
          "2021-03",
          "2021-04",
          "2021-05",
          "2021-06",
          "2021-07",
          "2021-08",
          "2021-09",
          "2021-10",
          "2021-11",
          "2021-12",
          "2022-01",
          "2022-02",
          "2022-03",
          "2022-04",
          "2022-05",
          "2022-06",
          "2022-07",
          "2022-08",
          "2022-09",
          "2022-10",
          "2022-11",
          "2022-12",
          "2023-01",
          "2023-02",
          "2023-03",
          "2023-04",
          "2023-05",
          "2023-06",
          "2023-07"
         ],
         "xaxis": "x",
         "y": [
          0.1879123152470698,
          0.2814825058061522,
          -0.026490076835649634,
          0.017865655356136545,
          0.25104106418275807,
          0.19849780546495058,
          0.2138652869586856,
          0.23418947698108095,
          0.1339581505602475,
          0.032355821034673486,
          0.2834398708117119,
          0.13043071610141801,
          0.14847538441656613,
          0.03299578070824349,
          0.14784440697412335,
          0.13880048917007018,
          0.32804718639355973,
          0.12147061566862682,
          0.19668271552307864,
          0.20126442999254254,
          0.046856048836179956,
          -0.05899826089658103,
          0.26063022836538235,
          0.2460780077762251,
          0.12160240647142923,
          0.10812877204232811,
          0.03929988848246857,
          0.2382954114137923,
          0.16517037753434025,
          -0.09554886848452337,
          0.26030737831234124
         ],
         "yaxis": "y"
        },
        {
         "hovertemplate": "town=sembawang<br>rent_approval_date=%{x}<br>nearest_mrt_dist=%{y}<extra></extra>",
         "legendgroup": "sembawang",
         "line": {
          "color": "#FECB52",
          "dash": "solid"
         },
         "marker": {
          "symbol": "circle"
         },
         "mode": "lines",
         "name": "sembawang",
         "orientation": "v",
         "showlegend": true,
         "type": "scatter",
         "x": [
          "2021-01",
          "2021-02",
          "2021-03",
          "2021-04",
          "2021-05",
          "2021-06",
          "2021-07",
          "2021-08",
          "2021-09",
          "2021-10",
          "2021-11",
          "2021-12",
          "2022-01",
          "2022-02",
          "2022-03",
          "2022-04",
          "2022-05",
          "2022-06",
          "2022-07",
          "2022-08",
          "2022-09",
          "2022-10",
          "2022-11",
          "2022-12",
          "2023-01",
          "2023-02",
          "2023-03",
          "2023-04",
          "2023-05",
          "2023-06",
          "2023-07"
         ],
         "xaxis": "x",
         "y": [
          0.12584973033080654,
          0.27427407892990113,
          0.06361508122191653,
          -0.25443870462179263,
          -0.16999695929343983,
          -0.014253396085226288,
          0.1537606438942114,
          -0.12602050001043977,
          0.22147905719767505,
          -0.1066162923435643,
          0.4661934472412348,
          0.28391137476865236,
          0.025756352439802246,
          0.23705437269980784,
          -0.0608677430505692,
          -0.10208451330919886,
          -0.13564281898588904,
          -0.04585638394221795,
          -0.17565862585688172,
          0.27076159309594855,
          0.15699443565584784,
          0.010532208971798762,
          0.03431953503834351,
          0.020683466734784488,
          -0.053773936202634105,
          0.20338248144410107,
          0.46910626227421826,
          0.08555198835887598,
          0.08344828049206275,
          0.3381002311722938,
          0.2732812531424708
         ],
         "yaxis": "y"
        },
        {
         "hovertemplate": "town=sengkang<br>rent_approval_date=%{x}<br>nearest_mrt_dist=%{y}<extra></extra>",
         "legendgroup": "sengkang",
         "line": {
          "color": "#636efa",
          "dash": "solid"
         },
         "marker": {
          "symbol": "circle"
         },
         "mode": "lines",
         "name": "sengkang",
         "orientation": "v",
         "showlegend": true,
         "type": "scatter",
         "x": [
          "2021-01",
          "2021-02",
          "2021-03",
          "2021-04",
          "2021-05",
          "2021-06",
          "2021-07",
          "2021-08",
          "2021-09",
          "2021-10",
          "2021-11",
          "2021-12",
          "2022-01",
          "2022-02",
          "2022-03",
          "2022-04",
          "2022-05",
          "2022-06",
          "2022-07",
          "2022-08",
          "2022-09",
          "2022-10",
          "2022-11",
          "2022-12",
          "2023-01",
          "2023-02",
          "2023-03",
          "2023-04",
          "2023-05",
          "2023-06",
          "2023-07"
         ],
         "xaxis": "x",
         "y": [
          0.18641704126959116,
          0.22675681850565876,
          0.07291335334600985,
          -0.06625177819669205,
          0.07996165524320273,
          -0.021003333779274488,
          0.1726157358740615,
          0.11840242090833984,
          0.1684786999410529,
          0.13313379582708423,
          -0.123090901421796,
          0.14654646792191484,
          0.050845108127879,
          0.0828873362855623,
          0.2793021967765311,
          0.19286221425083433,
          0.1972039688986726,
          0.138537405974008,
          0.21068460045278514,
          0.21363658421653303,
          0.14133416126767154,
          -0.047691334365782614,
          -0.07434884224555553,
          0.09342532688099944,
          0.24099888327040098,
          0.3404734433731033,
          0.08393131509237524,
          0.06272595524307537,
          0.25623653419468895,
          -0.027322584350438682,
          0.14595378186406635
         ],
         "yaxis": "y"
        },
        {
         "hovertemplate": "town=serangoon<br>rent_approval_date=%{x}<br>nearest_mrt_dist=%{y}<extra></extra>",
         "legendgroup": "serangoon",
         "line": {
          "color": "#EF553B",
          "dash": "solid"
         },
         "marker": {
          "symbol": "circle"
         },
         "mode": "lines",
         "name": "serangoon",
         "orientation": "v",
         "showlegend": true,
         "type": "scatter",
         "x": [
          "2021-01",
          "2021-02",
          "2021-03",
          "2021-04",
          "2021-05",
          "2021-06",
          "2021-07",
          "2021-08",
          "2021-09",
          "2021-10",
          "2021-11",
          "2021-12",
          "2022-01",
          "2022-02",
          "2022-03",
          "2022-04",
          "2022-05",
          "2022-06",
          "2022-07",
          "2022-08",
          "2022-09",
          "2022-10",
          "2022-11",
          "2022-12",
          "2023-01",
          "2023-02",
          "2023-03",
          "2023-04",
          "2023-05",
          "2023-06",
          "2023-07"
         ],
         "xaxis": "x",
         "y": [
          -0.6473132935840114,
          -0.5203521355283771,
          -0.4882116859622664,
          -0.42683077516905327,
          -0.5607250335817212,
          -0.5222859951357101,
          -0.7289764354209841,
          -0.6670588375079681,
          -0.1675033339700493,
          -0.45902356768158625,
          -0.5187802443137806,
          -0.4923598051045991,
          -0.42478352670254127,
          -0.2957864999442734,
          -0.46880775096795774,
          -0.47076452254629775,
          -0.3221419597933128,
          0.08689936928730926,
          -0.4389428589937831,
          -0.42681457520966704,
          -0.27899147788255985,
          -0.022008872834080328,
          -0.10593479636994989,
          -0.4780485719388981,
          -0.1994508845927563,
          -0.32835266223130316,
          -0.5202840162316352,
          -0.38589966082614546,
          -0.4329313318554191,
          -0.42030980986187727,
          -0.3826605652492883
         ],
         "yaxis": "y"
        },
        {
         "hovertemplate": "town=tampines<br>rent_approval_date=%{x}<br>nearest_mrt_dist=%{y}<extra></extra>",
         "legendgroup": "tampines",
         "line": {
          "color": "#00cc96",
          "dash": "solid"
         },
         "marker": {
          "symbol": "circle"
         },
         "mode": "lines",
         "name": "tampines",
         "orientation": "v",
         "showlegend": true,
         "type": "scatter",
         "x": [
          "2021-01",
          "2021-02",
          "2021-03",
          "2021-04",
          "2021-05",
          "2021-06",
          "2021-07",
          "2021-08",
          "2021-09",
          "2021-10",
          "2021-11",
          "2021-12",
          "2022-01",
          "2022-02",
          "2022-03",
          "2022-04",
          "2022-05",
          "2022-06",
          "2022-07",
          "2022-08",
          "2022-09",
          "2022-10",
          "2022-11",
          "2022-12",
          "2023-01",
          "2023-02",
          "2023-03",
          "2023-04",
          "2023-05",
          "2023-06",
          "2023-07"
         ],
         "xaxis": "x",
         "y": [
          -0.11395480451604788,
          -0.28701626073309605,
          -0.27574820347918894,
          -0.25798430527588784,
          -0.1319212224685666,
          -0.24322302141727709,
          -0.1234882342091814,
          -0.14140849218621493,
          -0.09452303443437986,
          -0.09753107367382162,
          -0.02264569062980561,
          -0.20794211441286786,
          -0.11837927527265203,
          -0.26372552192967214,
          -0.12366548522898824,
          -0.17958869898593205,
          -0.08580319761787007,
          0.015669685500761515,
          -0.03817145560246649,
          -0.16309469709282357,
          0.018330497189983308,
          -0.2875918736644706,
          -0.14904584032863039,
          0.10468836325242656,
          -0.07858540043052664,
          -0.09520609684307046,
          -0.027573015108718832,
          -0.13899154171640624,
          -0.07903968134248589,
          -0.04546777667240238,
          -0.17035672790576528
         ],
         "yaxis": "y"
        },
        {
         "hovertemplate": "town=toa payoh<br>rent_approval_date=%{x}<br>nearest_mrt_dist=%{y}<extra></extra>",
         "legendgroup": "toa payoh",
         "line": {
          "color": "#ab63fa",
          "dash": "solid"
         },
         "marker": {
          "symbol": "circle"
         },
         "mode": "lines",
         "name": "toa payoh",
         "orientation": "v",
         "showlegend": true,
         "type": "scatter",
         "x": [
          "2021-01",
          "2021-02",
          "2021-03",
          "2021-04",
          "2021-05",
          "2021-06",
          "2021-07",
          "2021-08",
          "2021-09",
          "2021-10",
          "2021-11",
          "2021-12",
          "2022-01",
          "2022-02",
          "2022-03",
          "2022-04",
          "2022-05",
          "2022-06",
          "2022-07",
          "2022-08",
          "2022-09",
          "2022-10",
          "2022-11",
          "2022-12",
          "2023-01",
          "2023-02",
          "2023-03",
          "2023-04",
          "2023-05",
          "2023-06",
          "2023-07"
         ],
         "xaxis": "x",
         "y": [
          -0.3827029403457018,
          -0.20774804637189292,
          -0.2032195898033686,
          -0.07677934767837069,
          -0.2924363496521437,
          -0.3367732546469996,
          -0.34412713184253185,
          -0.27471302581644047,
          -0.4160557296124624,
          -0.37483815369319234,
          -0.46184209843237173,
          -0.3257230990584632,
          -0.24520694434125886,
          -0.20245353146974693,
          -0.18297901044240056,
          -0.27807108646251505,
          -0.3266930551395941,
          -0.15374897686662622,
          -0.1710542693632076,
          -0.21934852861044454,
          -0.4022299794140978,
          -0.2610167258145676,
          -0.036308723061884346,
          -0.41937428974139435,
          -0.1495395117488517,
          -0.2820128108186552,
          -0.2993933185354456,
          -0.2515471717269397,
          -0.28680699935116377,
          -0.40483137367068056,
          -0.21113499476851036
         ],
         "yaxis": "y"
        },
        {
         "hovertemplate": "town=woodlands<br>rent_approval_date=%{x}<br>nearest_mrt_dist=%{y}<extra></extra>",
         "legendgroup": "woodlands",
         "line": {
          "color": "#FFA15A",
          "dash": "solid"
         },
         "marker": {
          "symbol": "circle"
         },
         "mode": "lines",
         "name": "woodlands",
         "orientation": "v",
         "showlegend": true,
         "type": "scatter",
         "x": [
          "2021-01",
          "2021-02",
          "2021-03",
          "2021-04",
          "2021-05",
          "2021-06",
          "2021-07",
          "2021-08",
          "2021-09",
          "2021-10",
          "2021-11",
          "2021-12",
          "2022-01",
          "2022-02",
          "2022-03",
          "2022-04",
          "2022-05",
          "2022-06",
          "2022-07",
          "2022-08",
          "2022-09",
          "2022-10",
          "2022-11",
          "2022-12",
          "2023-01",
          "2023-02",
          "2023-03",
          "2023-04",
          "2023-05",
          "2023-06",
          "2023-07"
         ],
         "xaxis": "x",
         "y": [
          0.16296320851259682,
          0.16311516713089158,
          0.20785613869345293,
          0.2345301810591341,
          0.17427436759704232,
          0.15558332163409697,
          0.05030909710374768,
          0.08195906076397538,
          0.0423533743419366,
          0.36664279347888384,
          -0.007943006996092652,
          0.07389322972426804,
          -0.016327864585341002,
          -0.00754527532376002,
          -0.031046358621103966,
          0.11005387754758386,
          0.2529555122973729,
          0.03880327616653695,
          -0.06863448194472525,
          0.14086763448998701,
          0.07225989854199599,
          0.008267641054141364,
          0.014059825702579012,
          0.19267693268335898,
          0.18628871443379488,
          0.022956193634989523,
          0.1391613251022557,
          0.19937376637150742,
          0.10921853867652587,
          -0.07781948387665333,
          0.13464056059631885
         ],
         "yaxis": "y"
        },
        {
         "hovertemplate": "town=yishun<br>rent_approval_date=%{x}<br>nearest_mrt_dist=%{y}<extra></extra>",
         "legendgroup": "yishun",
         "line": {
          "color": "#19d3f3",
          "dash": "solid"
         },
         "marker": {
          "symbol": "circle"
         },
         "mode": "lines",
         "name": "yishun",
         "orientation": "v",
         "showlegend": true,
         "type": "scatter",
         "x": [
          "2021-01",
          "2021-02",
          "2021-03",
          "2021-04",
          "2021-05",
          "2021-06",
          "2021-07",
          "2021-08",
          "2021-09",
          "2021-10",
          "2021-11",
          "2021-12",
          "2022-01",
          "2022-02",
          "2022-03",
          "2022-04",
          "2022-05",
          "2022-06",
          "2022-07",
          "2022-08",
          "2022-09",
          "2022-10",
          "2022-11",
          "2022-12",
          "2023-01",
          "2023-02",
          "2023-03",
          "2023-04",
          "2023-05",
          "2023-06",
          "2023-07"
         ],
         "xaxis": "x",
         "y": [
          -0.2813332238010595,
          -0.2319820421349337,
          -0.13750106016386127,
          -0.17078216637097537,
          -0.1459359406687683,
          -0.20823519766453416,
          -0.30485376689694454,
          -0.023321575920472112,
          -0.1543529583582071,
          -0.25723445719225657,
          -0.21982674970575747,
          0.062822770057099,
          -0.15378766520806664,
          -0.12761379317238045,
          -0.059224534227025775,
          0.1313586365803878,
          -0.19785571016760795,
          -0.14752281434040704,
          -0.14783781995434328,
          0.005984948306465684,
          -0.024063252882773535,
          -0.00609919690229619,
          -0.15699351150925328,
          0.03891296795825025,
          0.06850580157425495,
          0.13342304081822962,
          0.1324893441865285,
          -0.11225948845809347,
          0.031168252740917383,
          -0.18303087630025427,
          0.0018292992174070311
         ],
         "yaxis": "y"
        }
       ],
       "layout": {
        "legend": {
         "title": {
          "text": "town"
         },
         "tracegroupgap": 0
        },
        "margin": {
         "t": 60
        },
        "template": {
         "data": {
          "bar": [
           {
            "error_x": {
             "color": "#2a3f5f"
            },
            "error_y": {
             "color": "#2a3f5f"
            },
            "marker": {
             "line": {
              "color": "#E5ECF6",
              "width": 0.5
             },
             "pattern": {
              "fillmode": "overlay",
              "size": 10,
              "solidity": 0.2
             }
            },
            "type": "bar"
           }
          ],
          "barpolar": [
           {
            "marker": {
             "line": {
              "color": "#E5ECF6",
              "width": 0.5
             },
             "pattern": {
              "fillmode": "overlay",
              "size": 10,
              "solidity": 0.2
             }
            },
            "type": "barpolar"
           }
          ],
          "carpet": [
           {
            "aaxis": {
             "endlinecolor": "#2a3f5f",
             "gridcolor": "white",
             "linecolor": "white",
             "minorgridcolor": "white",
             "startlinecolor": "#2a3f5f"
            },
            "baxis": {
             "endlinecolor": "#2a3f5f",
             "gridcolor": "white",
             "linecolor": "white",
             "minorgridcolor": "white",
             "startlinecolor": "#2a3f5f"
            },
            "type": "carpet"
           }
          ],
          "choropleth": [
           {
            "colorbar": {
             "outlinewidth": 0,
             "ticks": ""
            },
            "type": "choropleth"
           }
          ],
          "contour": [
           {
            "colorbar": {
             "outlinewidth": 0,
             "ticks": ""
            },
            "colorscale": [
             [
              0,
              "#0d0887"
             ],
             [
              0.1111111111111111,
              "#46039f"
             ],
             [
              0.2222222222222222,
              "#7201a8"
             ],
             [
              0.3333333333333333,
              "#9c179e"
             ],
             [
              0.4444444444444444,
              "#bd3786"
             ],
             [
              0.5555555555555556,
              "#d8576b"
             ],
             [
              0.6666666666666666,
              "#ed7953"
             ],
             [
              0.7777777777777778,
              "#fb9f3a"
             ],
             [
              0.8888888888888888,
              "#fdca26"
             ],
             [
              1,
              "#f0f921"
             ]
            ],
            "type": "contour"
           }
          ],
          "contourcarpet": [
           {
            "colorbar": {
             "outlinewidth": 0,
             "ticks": ""
            },
            "type": "contourcarpet"
           }
          ],
          "heatmap": [
           {
            "colorbar": {
             "outlinewidth": 0,
             "ticks": ""
            },
            "colorscale": [
             [
              0,
              "#0d0887"
             ],
             [
              0.1111111111111111,
              "#46039f"
             ],
             [
              0.2222222222222222,
              "#7201a8"
             ],
             [
              0.3333333333333333,
              "#9c179e"
             ],
             [
              0.4444444444444444,
              "#bd3786"
             ],
             [
              0.5555555555555556,
              "#d8576b"
             ],
             [
              0.6666666666666666,
              "#ed7953"
             ],
             [
              0.7777777777777778,
              "#fb9f3a"
             ],
             [
              0.8888888888888888,
              "#fdca26"
             ],
             [
              1,
              "#f0f921"
             ]
            ],
            "type": "heatmap"
           }
          ],
          "heatmapgl": [
           {
            "colorbar": {
             "outlinewidth": 0,
             "ticks": ""
            },
            "colorscale": [
             [
              0,
              "#0d0887"
             ],
             [
              0.1111111111111111,
              "#46039f"
             ],
             [
              0.2222222222222222,
              "#7201a8"
             ],
             [
              0.3333333333333333,
              "#9c179e"
             ],
             [
              0.4444444444444444,
              "#bd3786"
             ],
             [
              0.5555555555555556,
              "#d8576b"
             ],
             [
              0.6666666666666666,
              "#ed7953"
             ],
             [
              0.7777777777777778,
              "#fb9f3a"
             ],
             [
              0.8888888888888888,
              "#fdca26"
             ],
             [
              1,
              "#f0f921"
             ]
            ],
            "type": "heatmapgl"
           }
          ],
          "histogram": [
           {
            "marker": {
             "pattern": {
              "fillmode": "overlay",
              "size": 10,
              "solidity": 0.2
             }
            },
            "type": "histogram"
           }
          ],
          "histogram2d": [
           {
            "colorbar": {
             "outlinewidth": 0,
             "ticks": ""
            },
            "colorscale": [
             [
              0,
              "#0d0887"
             ],
             [
              0.1111111111111111,
              "#46039f"
             ],
             [
              0.2222222222222222,
              "#7201a8"
             ],
             [
              0.3333333333333333,
              "#9c179e"
             ],
             [
              0.4444444444444444,
              "#bd3786"
             ],
             [
              0.5555555555555556,
              "#d8576b"
             ],
             [
              0.6666666666666666,
              "#ed7953"
             ],
             [
              0.7777777777777778,
              "#fb9f3a"
             ],
             [
              0.8888888888888888,
              "#fdca26"
             ],
             [
              1,
              "#f0f921"
             ]
            ],
            "type": "histogram2d"
           }
          ],
          "histogram2dcontour": [
           {
            "colorbar": {
             "outlinewidth": 0,
             "ticks": ""
            },
            "colorscale": [
             [
              0,
              "#0d0887"
             ],
             [
              0.1111111111111111,
              "#46039f"
             ],
             [
              0.2222222222222222,
              "#7201a8"
             ],
             [
              0.3333333333333333,
              "#9c179e"
             ],
             [
              0.4444444444444444,
              "#bd3786"
             ],
             [
              0.5555555555555556,
              "#d8576b"
             ],
             [
              0.6666666666666666,
              "#ed7953"
             ],
             [
              0.7777777777777778,
              "#fb9f3a"
             ],
             [
              0.8888888888888888,
              "#fdca26"
             ],
             [
              1,
              "#f0f921"
             ]
            ],
            "type": "histogram2dcontour"
           }
          ],
          "mesh3d": [
           {
            "colorbar": {
             "outlinewidth": 0,
             "ticks": ""
            },
            "type": "mesh3d"
           }
          ],
          "parcoords": [
           {
            "line": {
             "colorbar": {
              "outlinewidth": 0,
              "ticks": ""
             }
            },
            "type": "parcoords"
           }
          ],
          "pie": [
           {
            "automargin": true,
            "type": "pie"
           }
          ],
          "scatter": [
           {
            "fillpattern": {
             "fillmode": "overlay",
             "size": 10,
             "solidity": 0.2
            },
            "type": "scatter"
           }
          ],
          "scatter3d": [
           {
            "line": {
             "colorbar": {
              "outlinewidth": 0,
              "ticks": ""
             }
            },
            "marker": {
             "colorbar": {
              "outlinewidth": 0,
              "ticks": ""
             }
            },
            "type": "scatter3d"
           }
          ],
          "scattercarpet": [
           {
            "marker": {
             "colorbar": {
              "outlinewidth": 0,
              "ticks": ""
             }
            },
            "type": "scattercarpet"
           }
          ],
          "scattergeo": [
           {
            "marker": {
             "colorbar": {
              "outlinewidth": 0,
              "ticks": ""
             }
            },
            "type": "scattergeo"
           }
          ],
          "scattergl": [
           {
            "marker": {
             "colorbar": {
              "outlinewidth": 0,
              "ticks": ""
             }
            },
            "type": "scattergl"
           }
          ],
          "scattermapbox": [
           {
            "marker": {
             "colorbar": {
              "outlinewidth": 0,
              "ticks": ""
             }
            },
            "type": "scattermapbox"
           }
          ],
          "scatterpolar": [
           {
            "marker": {
             "colorbar": {
              "outlinewidth": 0,
              "ticks": ""
             }
            },
            "type": "scatterpolar"
           }
          ],
          "scatterpolargl": [
           {
            "marker": {
             "colorbar": {
              "outlinewidth": 0,
              "ticks": ""
             }
            },
            "type": "scatterpolargl"
           }
          ],
          "scatterternary": [
           {
            "marker": {
             "colorbar": {
              "outlinewidth": 0,
              "ticks": ""
             }
            },
            "type": "scatterternary"
           }
          ],
          "surface": [
           {
            "colorbar": {
             "outlinewidth": 0,
             "ticks": ""
            },
            "colorscale": [
             [
              0,
              "#0d0887"
             ],
             [
              0.1111111111111111,
              "#46039f"
             ],
             [
              0.2222222222222222,
              "#7201a8"
             ],
             [
              0.3333333333333333,
              "#9c179e"
             ],
             [
              0.4444444444444444,
              "#bd3786"
             ],
             [
              0.5555555555555556,
              "#d8576b"
             ],
             [
              0.6666666666666666,
              "#ed7953"
             ],
             [
              0.7777777777777778,
              "#fb9f3a"
             ],
             [
              0.8888888888888888,
              "#fdca26"
             ],
             [
              1,
              "#f0f921"
             ]
            ],
            "type": "surface"
           }
          ],
          "table": [
           {
            "cells": {
             "fill": {
              "color": "#EBF0F8"
             },
             "line": {
              "color": "white"
             }
            },
            "header": {
             "fill": {
              "color": "#C8D4E3"
             },
             "line": {
              "color": "white"
             }
            },
            "type": "table"
           }
          ]
         },
         "layout": {
          "annotationdefaults": {
           "arrowcolor": "#2a3f5f",
           "arrowhead": 0,
           "arrowwidth": 1
          },
          "autotypenumbers": "strict",
          "coloraxis": {
           "colorbar": {
            "outlinewidth": 0,
            "ticks": ""
           }
          },
          "colorscale": {
           "diverging": [
            [
             0,
             "#8e0152"
            ],
            [
             0.1,
             "#c51b7d"
            ],
            [
             0.2,
             "#de77ae"
            ],
            [
             0.3,
             "#f1b6da"
            ],
            [
             0.4,
             "#fde0ef"
            ],
            [
             0.5,
             "#f7f7f7"
            ],
            [
             0.6,
             "#e6f5d0"
            ],
            [
             0.7,
             "#b8e186"
            ],
            [
             0.8,
             "#7fbc41"
            ],
            [
             0.9,
             "#4d9221"
            ],
            [
             1,
             "#276419"
            ]
           ],
           "sequential": [
            [
             0,
             "#0d0887"
            ],
            [
             0.1111111111111111,
             "#46039f"
            ],
            [
             0.2222222222222222,
             "#7201a8"
            ],
            [
             0.3333333333333333,
             "#9c179e"
            ],
            [
             0.4444444444444444,
             "#bd3786"
            ],
            [
             0.5555555555555556,
             "#d8576b"
            ],
            [
             0.6666666666666666,
             "#ed7953"
            ],
            [
             0.7777777777777778,
             "#fb9f3a"
            ],
            [
             0.8888888888888888,
             "#fdca26"
            ],
            [
             1,
             "#f0f921"
            ]
           ],
           "sequentialminus": [
            [
             0,
             "#0d0887"
            ],
            [
             0.1111111111111111,
             "#46039f"
            ],
            [
             0.2222222222222222,
             "#7201a8"
            ],
            [
             0.3333333333333333,
             "#9c179e"
            ],
            [
             0.4444444444444444,
             "#bd3786"
            ],
            [
             0.5555555555555556,
             "#d8576b"
            ],
            [
             0.6666666666666666,
             "#ed7953"
            ],
            [
             0.7777777777777778,
             "#fb9f3a"
            ],
            [
             0.8888888888888888,
             "#fdca26"
            ],
            [
             1,
             "#f0f921"
            ]
           ]
          },
          "colorway": [
           "#636efa",
           "#EF553B",
           "#00cc96",
           "#ab63fa",
           "#FFA15A",
           "#19d3f3",
           "#FF6692",
           "#B6E880",
           "#FF97FF",
           "#FECB52"
          ],
          "font": {
           "color": "#2a3f5f"
          },
          "geo": {
           "bgcolor": "white",
           "lakecolor": "white",
           "landcolor": "#E5ECF6",
           "showlakes": true,
           "showland": true,
           "subunitcolor": "white"
          },
          "hoverlabel": {
           "align": "left"
          },
          "hovermode": "closest",
          "mapbox": {
           "style": "light"
          },
          "paper_bgcolor": "white",
          "plot_bgcolor": "#E5ECF6",
          "polar": {
           "angularaxis": {
            "gridcolor": "white",
            "linecolor": "white",
            "ticks": ""
           },
           "bgcolor": "#E5ECF6",
           "radialaxis": {
            "gridcolor": "white",
            "linecolor": "white",
            "ticks": ""
           }
          },
          "scene": {
           "xaxis": {
            "backgroundcolor": "#E5ECF6",
            "gridcolor": "white",
            "gridwidth": 2,
            "linecolor": "white",
            "showbackground": true,
            "ticks": "",
            "zerolinecolor": "white"
           },
           "yaxis": {
            "backgroundcolor": "#E5ECF6",
            "gridcolor": "white",
            "gridwidth": 2,
            "linecolor": "white",
            "showbackground": true,
            "ticks": "",
            "zerolinecolor": "white"
           },
           "zaxis": {
            "backgroundcolor": "#E5ECF6",
            "gridcolor": "white",
            "gridwidth": 2,
            "linecolor": "white",
            "showbackground": true,
            "ticks": "",
            "zerolinecolor": "white"
           }
          },
          "shapedefaults": {
           "line": {
            "color": "#2a3f5f"
           }
          },
          "ternary": {
           "aaxis": {
            "gridcolor": "white",
            "linecolor": "white",
            "ticks": ""
           },
           "baxis": {
            "gridcolor": "white",
            "linecolor": "white",
            "ticks": ""
           },
           "bgcolor": "#E5ECF6",
           "caxis": {
            "gridcolor": "white",
            "linecolor": "white",
            "ticks": ""
           }
          },
          "title": {
           "x": 0.05
          },
          "xaxis": {
           "automargin": true,
           "gridcolor": "white",
           "linecolor": "white",
           "ticks": "",
           "title": {
            "standoff": 15
           },
           "zerolinecolor": "white",
           "zerolinewidth": 2
          },
          "yaxis": {
           "automargin": true,
           "gridcolor": "white",
           "linecolor": "white",
           "ticks": "",
           "title": {
            "standoff": 15
           },
           "zerolinecolor": "white",
           "zerolinewidth": 2
          }
         }
        },
        "xaxis": {
         "anchor": "y",
         "domain": [
          0,
          1
         ],
         "title": {
          "text": "rent_approval_date"
         }
        },
        "yaxis": {
         "anchor": "x",
         "domain": [
          0,
          1
         ],
         "title": {
          "text": "nearest_mrt_dist"
         }
        }
       }
      }
     },
     "metadata": {},
     "output_type": "display_data"
    }
   ],
   "source": [
    "train_df_cleaned_final.groupby(['rent_approval_date', 'town'])[['psqm', 'nearest_mrt_dist']].corr().iloc[0::2,-1].reset_index().plot.line(x='rent_approval_date', y='nearest_mrt_dist', color='town')"
   ]
  },
  {
   "cell_type": "markdown",
   "metadata": {},
   "source": [
    "If at that month, only have one rent, it will be NaN for corr "
   ]
  },
  {
   "cell_type": "code",
   "execution_count": null,
   "metadata": {},
   "outputs": [],
   "source": []
  }
 ],
 "metadata": {
  "kernelspec": {
   "display_name": "analysis",
   "language": "python",
   "name": "python3"
  },
  "language_info": {
   "codemirror_mode": {
    "name": "ipython",
    "version": 3
   },
   "file_extension": ".py",
   "mimetype": "text/x-python",
   "name": "python",
   "nbconvert_exporter": "python",
   "pygments_lexer": "ipython3",
   "version": "3.8.0"
  },
  "orig_nbformat": 4
 },
 "nbformat": 4,
 "nbformat_minor": 2
}
