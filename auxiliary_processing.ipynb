{
 "cells": [
  {
   "cell_type": "code",
   "execution_count": 1,
   "metadata": {},
   "outputs": [],
   "source": [
    "%load_ext autoreload\n",
    "%autoreload 2"
   ]
  },
  {
   "cell_type": "code",
   "execution_count": 2,
   "metadata": {},
   "outputs": [],
   "source": [
    "import pandas as pd\n",
    "from data_processing import *\n",
    "# from tqdm import tqdm\n",
    "from combine_auxiliary import produce_mall_features, produce_mrt_features, produce_school_features\n",
    "\n",
    "# tqdm.pandas()\n",
    "\n",
    "existing_mrt_data = 'data/auxiliary-data/sg-mrt-existing-stations.csv'\n",
    "school_data = 'data/auxiliary-data/sg-primary-schools.csv'\n",
    "shopping_mall_data = 'data/auxiliary-data/sg-shopping-malls.csv'\n",
    "train_data = 'data/train.csv'\n",
    "test_data = 'data/test.csv'"
   ]
  },
  {
   "cell_type": "code",
   "execution_count": 3,
   "metadata": {},
   "outputs": [],
   "source": [
    "mrt_df = pd.read_csv(existing_mrt_data)\n",
    "school_df = pd.read_csv(school_data)\n",
    "shopping_mall_df = pd.read_csv(shopping_mall_data)\n",
    "\n",
    "train_df = pd.read_csv(train_data)\n",
    "test_df = pd.read_csv(test_data)"
   ]
  },
  {
   "cell_type": "code",
   "execution_count": 4,
   "metadata": {},
   "outputs": [
    {
     "name": "stderr",
     "output_type": "stream",
     "text": [
      "100%|██████████| 9720000/9720000 [03:45<00:00, 43146.74it/s]\n",
      "100%|██████████| 60000/60000 [00:15<00:00, 3961.66it/s]\n",
      "100%|██████████| 4860000/4860000 [01:49<00:00, 44232.09it/s]\n",
      "100%|██████████| 30000/30000 [00:07<00:00, 3974.97it/s]\n"
     ]
    }
   ],
   "source": [
    "train_with_mrt = produce_mrt_features(train_df, mrt_df, 1)\n",
    "train_with_mrt.to_csv('./data/train_with_mrt.csv')\n",
    "test_with_mrt = produce_mrt_features(test_df, mrt_df, 1)\n",
    "train_with_mrt.to_csv('./data/test_with_mrt.csv')"
   ]
  },
  {
   "cell_type": "code",
   "execution_count": 5,
   "metadata": {},
   "outputs": [
    {
     "name": "stderr",
     "output_type": "stream",
     "text": [
      "100%|██████████| 9780000/9780000 [03:51<00:00, 42282.74it/s]\n",
      "100%|██████████| 60000/60000 [00:15<00:00, 3950.11it/s]\n",
      "100%|██████████| 4890000/4890000 [01:52<00:00, 43607.32it/s]\n",
      "100%|██████████| 30000/30000 [00:07<00:00, 3929.98it/s]\n"
     ]
    }
   ],
   "source": [
    "if 'list_id' in train_with_mrt.columns:\n",
    "    train_with_mrt = train_with_mrt.drop(columns=['list_id'])\n",
    "    test_with_mrt = test_with_mrt.drop(columns=['list_id'])\n",
    "# train_with_mrt.columns\n",
    "train_with_mrt_mall = produce_mall_features(train_with_mrt, shopping_mall_df, 1)\n",
    "train_with_mrt_mall.to_csv('./data/train_with_mrt_mall.csv')\n",
    "test_with_mrt_mall = produce_mall_features(test_with_mrt, shopping_mall_df, 1)\n",
    "test_with_mrt_mall.to_csv('./data/test_with_mrt_mall.csv')"
   ]
  },
  {
   "cell_type": "code",
   "execution_count": 6,
   "metadata": {},
   "outputs": [
    {
     "name": "stderr",
     "output_type": "stream",
     "text": [
      "100%|██████████| 11100000/11100000 [04:19<00:00, 42746.99it/s]\n",
      "100%|██████████| 60000/60000 [00:15<00:00, 3981.08it/s]\n",
      "100%|██████████| 5550000/5550000 [02:06<00:00, 43911.82it/s]\n",
      "100%|██████████| 30000/30000 [00:07<00:00, 3952.68it/s]\n"
     ]
    }
   ],
   "source": [
    "if 'list_id' in train_with_mrt_mall:\n",
    "    train_with_mrt_mall = train_with_mrt_mall.drop(columns=['list_id'])\n",
    "    test_with_mrt_mall = test_with_mrt_mall.drop(columns=['list_id'])\n",
    "train_with_mrt_mall.columns\n",
    "train_with_mrt_mall_school = produce_school_features(train_with_mrt_mall, school_df, 1)\n",
    "train_with_mrt_mall_school.to_csv('./data/train_with_mrt_mall_school.csv')\n",
    "test_with_mrt_mall_school = produce_school_features(test_with_mrt_mall, school_df, 1)\n",
    "test_with_mrt_mall_school.to_csv('./data/test_with_mrt_mall_school.csv')"
   ]
  },
  {
   "cell_type": "code",
   "execution_count": null,
   "metadata": {},
   "outputs": [],
   "source": []
  }
 ],
 "metadata": {
  "kernelspec": {
   "display_name": "analysis",
   "language": "python",
   "name": "python3"
  },
  "language_info": {
   "codemirror_mode": {
    "name": "ipython",
    "version": 3
   },
   "file_extension": ".py",
   "mimetype": "text/x-python",
   "name": "python",
   "nbconvert_exporter": "python",
   "pygments_lexer": "ipython3",
   "version": "3.8.0"
  },
  "orig_nbformat": 4
 },
 "nbformat": 4,
 "nbformat_minor": 2
}
